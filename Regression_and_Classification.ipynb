{
 "cells": [
  {
   "cell_type": "markdown",
   "id": "ebb2cf09",
   "metadata": {},
   "source": [
    "## Project Description:\n",
    "\n",
    "#### General Instruction\n",
    "- There will be two sets of datasets for this project—one for classification models and the second for regression models. \n",
    "- Read data into Jupyter notebook using pandas to import data into a data frame. \n",
    "- Your submission should be commented on appropriately. Use the markdown cells in the iPython notebook to prepare your final report. \n",
    "- Fifty percent of the grade is based on your Python code submission. The other 50 percent of your grade is based on the evaluation score of the prediction. \n",
    "- The exam should be syntax error-free. Run your code before the final submission. \n",
    "\n",
    "#### Required Tasks\n",
    "- Explore each data set using different descriptive and plotting methods. \n",
    "- Explore each dataset, check for missing data, and apply proper data imputation methods. \n",
    "- Apply the same preprocessing techniques on the classification_test and regression_test. Note that these two datasets don't have target columns. \n",
    "- Scale each dataset. Explain your choice of data scaling method. \n",
    "- Apply clustering methods discussed in class to study the structure of each dataset. Discuss how the outcome of clustering will help you better understand the structure of data. Provide result interpretation for each clustering model. \n",
    "- Regression dataset: Apply all the regression models you have learned in this class. Discuss the results and outcomes. Models with hyperparameters explain how you find the best value of the hyperparameters. \n",
    "- Find the best regression model among the list of models trained on the regression_train dataset. Use this model to predict the target values of the regression_test. \n",
    "- Classification dataset: Apply all the classification models you have learned in this course. Discuss the results and outcomes. Discuss the choice of evaluation method and how it helps you find the best values of the model hyperparameters. \n",
    "- Find the best classification model among the list of models trained on the classification_train dataset. Use this model to predict the target values of the classification_test. \n",
    "\n",
    "\n",
    "#### Devliverable\n",
    "Submit ONLY the iPython notebook(s) or the .py file(s) of your work. Use the following frame for your submission. Please don't remove the headers in the following structure. \n",
    "\n",
    "Make sure to list the name and student id of all the group members in your iPython notebook file. \n",
    "\n",
    "#### Rubric\n",
    "| Descriptio | Fair | Good | excelent |\n",
    "|:-----------|:------|:------|:----------|\n",
    "|Preprocessing|Demonstrate limited understanding of preprocessing steps | Demonstrate a moderate ability to find a way to apply the preprocessing step to prepare the dataset for Machine learning models | Demonstrate the ability to choose the appropriate preprocessing model to prepare the dataset |\n",
    "|learning model | Demonstrate limited understanding of methods used to train learning models | Demonstrate the ability to understand techniques used to train learning models with some effectiveness. This includes optimization algorithms, initialization, regularization, and hyperparameter search methods | Demonstrate ability to understand and apply various algorithms as well as initialization, regularization, and hyperparameter search methods |\n",
    "|Final prediction |Demonstrate limited understanding of strategies to structure and end to end machine learning project | Demonstrate ability to understand classic ML strategies such as error analysis, data split, data collection and evaluation metric selection with some effectiveness | Demonstrates ability to structure the project and apply methods such as error analysis, data split, data collection, design a labeling process and select proper evaluation metrics to improve performance."
   ]
  },
  {
   "cell_type": "markdown",
   "id": "5dac9a6a",
   "metadata": {},
   "source": [
    "# Regression\n",
    "\n",
    "### Data preparation"
   ]
  },
  {
   "cell_type": "markdown",
   "metadata": {},
   "source": [
    "#### Training dataset"
   ]
  },
  {
   "cell_type": "markdown",
   "id": "90b665af",
   "metadata": {},
   "source": [
    "We imported the libraries need for data preprocessing - importing, manipulating and plotting. We then proceeded to import and explore the dataset column by column."
   ]
  },
  {
   "cell_type": "code",
   "execution_count": 561,
   "id": "632f0fe4",
   "metadata": {},
   "outputs": [],
   "source": [
    "# import library \n",
    "import pandas as pd\n",
    "import numpy as np\n",
    "import matplotlib.pyplot as plt\n",
    "import seaborn as sns"
   ]
  },
  {
   "cell_type": "code",
   "execution_count": 562,
   "id": "5a8b42f3",
   "metadata": {},
   "outputs": [],
   "source": [
    "# import train dataset\n",
    "reg_train = pd.read_csv(\"Regression_train.csv\")"
   ]
  },
  {
   "cell_type": "code",
   "execution_count": 563,
   "id": "b4f87063",
   "metadata": {},
   "outputs": [
    {
     "data": {
      "text/html": [
       "<div>\n",
       "<style scoped>\n",
       "    .dataframe tbody tr th:only-of-type {\n",
       "        vertical-align: middle;\n",
       "    }\n",
       "\n",
       "    .dataframe tbody tr th {\n",
       "        vertical-align: top;\n",
       "    }\n",
       "\n",
       "    .dataframe thead th {\n",
       "        text-align: right;\n",
       "    }\n",
       "</style>\n",
       "<table border=\"1\" class=\"dataframe\">\n",
       "  <thead>\n",
       "    <tr style=\"text-align: right;\">\n",
       "      <th></th>\n",
       "      <th>Crash ID</th>\n",
       "      <th>Crash Severity</th>\n",
       "      <th>Crash Time</th>\n",
       "      <th>Day of Week</th>\n",
       "      <th>Manner of Collision</th>\n",
       "      <th>Speed Limit</th>\n",
       "      <th>Surface Condition</th>\n",
       "      <th>Surface Type</th>\n",
       "      <th>Surface Width</th>\n",
       "      <th>Weather Condition</th>\n",
       "      <th>Vehicle Body Style</th>\n",
       "      <th>Person Age</th>\n",
       "      <th>Person Alcohol Result</th>\n",
       "      <th>Person Drug Test Result</th>\n",
       "      <th>Person Ethnicity</th>\n",
       "      <th>Person Gender</th>\n",
       "      <th>y</th>\n",
       "    </tr>\n",
       "  </thead>\n",
       "  <tbody>\n",
       "    <tr>\n",
       "      <th>0</th>\n",
       "      <td>19757646</td>\n",
       "      <td>N - NOT INJURED</td>\n",
       "      <td>16:34:00</td>\n",
       "      <td>FRIDAY</td>\n",
       "      <td>OPPOSITE DIRECTION - BOTH GOING STRAIGHT</td>\n",
       "      <td>40</td>\n",
       "      <td>1 - DRY</td>\n",
       "      <td>No Data</td>\n",
       "      <td>No Data</td>\n",
       "      <td>1 - CLEAR</td>\n",
       "      <td>BU - BUS</td>\n",
       "      <td>7</td>\n",
       "      <td>No Data</td>\n",
       "      <td>No Data</td>\n",
       "      <td>NaN</td>\n",
       "      <td>NaN</td>\n",
       "      <td>96</td>\n",
       "    </tr>\n",
       "    <tr>\n",
       "      <th>1</th>\n",
       "      <td>19759708</td>\n",
       "      <td>N - NOT INJURED</td>\n",
       "      <td>14:32:00</td>\n",
       "      <td>SATURDAY</td>\n",
       "      <td>ONE MOTOR VEHICLE - GOING STRAIGHT</td>\n",
       "      <td>70</td>\n",
       "      <td>1 - DRY</td>\n",
       "      <td>No Data</td>\n",
       "      <td>48</td>\n",
       "      <td>1 - CLEAR</td>\n",
       "      <td>SV - SPORT UTILITY VEHICLE</td>\n",
       "      <td>32</td>\n",
       "      <td>No Data</td>\n",
       "      <td>No Data</td>\n",
       "      <td>W - WHITE</td>\n",
       "      <td>2 - FEMALE</td>\n",
       "      <td>29</td>\n",
       "    </tr>\n",
       "    <tr>\n",
       "      <th>2</th>\n",
       "      <td>19659939</td>\n",
       "      <td>B - SUSPECTED MINOR INJURY</td>\n",
       "      <td>NaN</td>\n",
       "      <td>SATURDAY</td>\n",
       "      <td>SAME DIRECTION - ONE STRAIGHT-ONE STOPPED</td>\n",
       "      <td>50</td>\n",
       "      <td>1 - DRY</td>\n",
       "      <td>No Data</td>\n",
       "      <td>64</td>\n",
       "      <td>2 - CLOUDY</td>\n",
       "      <td>P4 - PASSENGER CAR, 4-DOOR</td>\n",
       "      <td>NaN</td>\n",
       "      <td>No Data</td>\n",
       "      <td>97 - NOT APPLICABLE</td>\n",
       "      <td>W - WHITE</td>\n",
       "      <td>2 - FEMALE</td>\n",
       "      <td>51</td>\n",
       "    </tr>\n",
       "    <tr>\n",
       "      <th>3</th>\n",
       "      <td>19717414</td>\n",
       "      <td>N - NOT INJURED</td>\n",
       "      <td>08:18:00</td>\n",
       "      <td>WEDNESDAY</td>\n",
       "      <td>SAME DIRECTION - BOTH GOING STRAIGHT-SIDESWIPE</td>\n",
       "      <td>50</td>\n",
       "      <td>1 - DRY</td>\n",
       "      <td>No Data</td>\n",
       "      <td>72</td>\n",
       "      <td>1 - CLEAR</td>\n",
       "      <td>SV - SPORT UTILITY VEHICLE</td>\n",
       "      <td>40</td>\n",
       "      <td>No Data</td>\n",
       "      <td>97 - NOT APPLICABLE</td>\n",
       "      <td>B - BLACK</td>\n",
       "      <td>2 - FEMALE</td>\n",
       "      <td>75</td>\n",
       "    </tr>\n",
       "    <tr>\n",
       "      <th>4</th>\n",
       "      <td>19507708</td>\n",
       "      <td>N - NOT INJURED</td>\n",
       "      <td>17:50:00</td>\n",
       "      <td>NaN</td>\n",
       "      <td>SAME DIRECTION - ONE STRAIGHT-ONE STOPPED</td>\n",
       "      <td>40</td>\n",
       "      <td>1 - DRY</td>\n",
       "      <td>No Data</td>\n",
       "      <td>50</td>\n",
       "      <td>1 - CLEAR</td>\n",
       "      <td>PK - PICKUP</td>\n",
       "      <td>NaN</td>\n",
       "      <td>No Data</td>\n",
       "      <td>97 - NOT APPLICABLE</td>\n",
       "      <td>W - WHITE</td>\n",
       "      <td>1 - MALE</td>\n",
       "      <td>130</td>\n",
       "    </tr>\n",
       "  </tbody>\n",
       "</table>\n",
       "</div>"
      ],
      "text/plain": [
       "   Crash ID              Crash Severity Crash Time Day of Week  \\\n",
       "0  19757646             N - NOT INJURED   16:34:00      FRIDAY   \n",
       "1  19759708             N - NOT INJURED   14:32:00    SATURDAY   \n",
       "2  19659939  B - SUSPECTED MINOR INJURY        NaN    SATURDAY   \n",
       "3  19717414             N - NOT INJURED   08:18:00   WEDNESDAY   \n",
       "4  19507708             N - NOT INJURED   17:50:00         NaN   \n",
       "\n",
       "                              Manner of Collision  Speed Limit  \\\n",
       "0        OPPOSITE DIRECTION - BOTH GOING STRAIGHT           40   \n",
       "1              ONE MOTOR VEHICLE - GOING STRAIGHT           70   \n",
       "2       SAME DIRECTION - ONE STRAIGHT-ONE STOPPED           50   \n",
       "3  SAME DIRECTION - BOTH GOING STRAIGHT-SIDESWIPE           50   \n",
       "4       SAME DIRECTION - ONE STRAIGHT-ONE STOPPED           40   \n",
       "\n",
       "  Surface Condition Surface Type Surface Width Weather Condition  \\\n",
       "0           1 - DRY      No Data       No Data         1 - CLEAR   \n",
       "1           1 - DRY      No Data            48         1 - CLEAR   \n",
       "2           1 - DRY      No Data            64        2 - CLOUDY   \n",
       "3           1 - DRY      No Data            72         1 - CLEAR   \n",
       "4           1 - DRY      No Data            50         1 - CLEAR   \n",
       "\n",
       "           Vehicle Body Style Person Age Person Alcohol Result  \\\n",
       "0                    BU - BUS          7               No Data   \n",
       "1  SV - SPORT UTILITY VEHICLE         32               No Data   \n",
       "2  P4 - PASSENGER CAR, 4-DOOR        NaN               No Data   \n",
       "3  SV - SPORT UTILITY VEHICLE         40               No Data   \n",
       "4                 PK - PICKUP        NaN               No Data   \n",
       "\n",
       "  Person Drug Test Result Person Ethnicity Person Gender    y  \n",
       "0                 No Data              NaN           NaN   96  \n",
       "1                 No Data        W - WHITE    2 - FEMALE   29  \n",
       "2     97 - NOT APPLICABLE        W - WHITE    2 - FEMALE   51  \n",
       "3     97 - NOT APPLICABLE        B - BLACK    2 - FEMALE   75  \n",
       "4     97 - NOT APPLICABLE        W - WHITE      1 - MALE  130  "
      ]
     },
     "execution_count": 563,
     "metadata": {},
     "output_type": "execute_result"
    }
   ],
   "source": [
    "# explore data\n",
    "reg_train.head()"
   ]
  },
  {
   "cell_type": "code",
   "execution_count": 564,
   "id": "5f0dd07e",
   "metadata": {},
   "outputs": [
    {
     "name": "stdout",
     "output_type": "stream",
     "text": [
      "<class 'pandas.core.frame.DataFrame'>\n",
      "RangeIndex: 13041 entries, 0 to 13040\n",
      "Data columns (total 17 columns):\n",
      " #   Column                   Non-Null Count  Dtype \n",
      "---  ------                   --------------  ----- \n",
      " 0   Crash ID                 13041 non-null  int64 \n",
      " 1   Crash Severity           13041 non-null  object\n",
      " 2   Crash Time               11721 non-null  object\n",
      " 3   Day of Week              11688 non-null  object\n",
      " 4   Manner of Collision      13041 non-null  object\n",
      " 5   Speed Limit              13041 non-null  int64 \n",
      " 6   Surface Condition        13041 non-null  object\n",
      " 7   Surface Type             13041 non-null  object\n",
      " 8   Surface Width            11731 non-null  object\n",
      " 9   Weather Condition        11710 non-null  object\n",
      " 10  Vehicle Body Style       11719 non-null  object\n",
      " 11  Person Age               11763 non-null  object\n",
      " 12  Person Alcohol Result    11767 non-null  object\n",
      " 13  Person Drug Test Result  11718 non-null  object\n",
      " 14  Person Ethnicity         11776 non-null  object\n",
      " 15  Person Gender            11757 non-null  object\n",
      " 16  y                        13041 non-null  int64 \n",
      "dtypes: int64(3), object(14)\n",
      "memory usage: 1.7+ MB\n"
     ]
    }
   ],
   "source": [
    "# data structure\n",
    "reg_train.info()\n",
    "\n",
    "# 13041 rows, 17 columns"
   ]
  },
  {
   "cell_type": "markdown",
   "metadata": {},
   "source": [
    "We split reg_train into feature (X_train) and target (y) variable. The feature set are the first 16 columns. The target variable is the last column 'y' which is the amount of time (in minutes) it will take to clear an accident scene."
   ]
  },
  {
   "cell_type": "code",
   "execution_count": 565,
   "id": "f57716fc",
   "metadata": {},
   "outputs": [],
   "source": [
    "X_train = reg_train.drop(columns='y')\n",
    "y_train = reg_train['y']"
   ]
  },
  {
   "cell_type": "code",
   "execution_count": 566,
   "id": "510ec393",
   "metadata": {},
   "outputs": [],
   "source": [
    "# check X_train, y_train\n",
    "# X_train.info()\n",
    "# y_train.info()"
   ]
  },
  {
   "cell_type": "markdown",
   "id": "d0368069",
   "metadata": {},
   "source": [
    "#### Data cleaning - column by column"
   ]
  },
  {
   "cell_type": "markdown",
   "id": "93be79b1",
   "metadata": {},
   "source": [
    "Crash ID"
   ]
  },
  {
   "cell_type": "code",
   "execution_count": 567,
   "id": "74bb96c8",
   "metadata": {},
   "outputs": [
    {
     "data": {
      "text/plain": [
       "Crash ID\n",
       "19695571    44\n",
       "19750688    37\n",
       "19746400    36\n",
       "19716804    23\n",
       "19719487    19\n",
       "            ..\n",
       "19693690     1\n",
       "19719397     1\n",
       "19681428     1\n",
       "19488105     1\n",
       "19681275     1\n",
       "Name: count, Length: 5854, dtype: int64"
      ]
     },
     "execution_count": 567,
     "metadata": {},
     "output_type": "execute_result"
    }
   ],
   "source": [
    "# Crash ID\n",
    "# unique values\n",
    "X_train['Crash ID'].value_counts()"
   ]
  },
  {
   "cell_type": "markdown",
   "id": "71edb3ed",
   "metadata": {},
   "source": [
    "After looking into the Crash ID column, we've decided to remove it. The reason is that the Crash ID seems to serve only as a unique identifier for an accident, and we believe it won't add value to the regression analysis. Additionally, we noticed instances of repeating Crash IDs, indicating multiple individuals involved in an accident, either in the same or different vehicles. Each instance of a Crash ID provides data about each person in the accident."
   ]
  },
  {
   "cell_type": "code",
   "execution_count": 568,
   "id": "ba52ca52",
   "metadata": {},
   "outputs": [],
   "source": [
    "# drop Crash ID column\n",
    "X_train.drop(columns = 'Crash ID', axis = 1, inplace = True)"
   ]
  },
  {
   "cell_type": "markdown",
   "id": "9f7c3cd9",
   "metadata": {},
   "source": [
    "# \n",
    "Crash Severity"
   ]
  },
  {
   "cell_type": "code",
   "execution_count": 569,
   "id": "1262d924",
   "metadata": {},
   "outputs": [
    {
     "data": {
      "text/plain": [
       "Crash Severity\n",
       "N - NOT INJURED                 8688\n",
       "B - SUSPECTED MINOR INJURY      1897\n",
       "C - POSSIBLE INJURY             1861\n",
       "A - SUSPECTED SERIOUS INJURY     310\n",
       "99 - UNKNOWN                     245\n",
       "K - FATAL INJURY                  40\n",
       "Name: count, dtype: int64"
      ]
     },
     "execution_count": 569,
     "metadata": {},
     "output_type": "execute_result"
    }
   ],
   "source": [
    "# value_count\n",
    "X_train['Crash Severity'].value_counts()\n",
    "\n",
    "# check for NAs\n",
    "# sum(X_train['Crash Severity'].isna())\n",
    "# O NAs"
   ]
  },
  {
   "cell_type": "markdown",
   "metadata": {},
   "source": [
    "We chose to assign a numerical code to the Crash Severity column based on the increasing order of seriousness, ranging from no injury to fatal injury. When dealing with missing data labeled as 99 (unknown) in this column, we opted to substitute it with the most common category, which is \"not injured.\""
   ]
  },
  {
   "cell_type": "code",
   "execution_count": 570,
   "id": "bf1d1c61",
   "metadata": {},
   "outputs": [],
   "source": [
    "# ordinal encoding as there is an order in the crash severity\n",
    "# N - NOT INJURED < B - SUSPECTED MINOR INJURY < C - POSSIBLE INJURY  \n",
    "# < A - SUSPECTED SERIOUS INJURY < K - FATAL INJURY\n",
    "\n",
    "# handling missing data: 99 - UNKNOWN \n",
    "# replace with most frequent (N - NOT INJURED)\n",
    "\n",
    "# create dictionary for mapping\n",
    "crash_dict = {'99 - UNKNOWN': 0,\n",
    "              'N - NOT INJURED': 0,\n",
    "              'B - SUSPECTED MINOR INJURY': 1,\n",
    "              'C - POSSIBLE INJURY': 2,\n",
    "              'A - SUSPECTED SERIOUS INJURY': 3,\n",
    "              'K - FATAL INJURY': 4}\n",
    "              \n",
    "# apply mapping dictionary\n",
    "X_train['Crash Severity'] = X_train['Crash Severity'].map(crash_dict)"
   ]
  },
  {
   "cell_type": "markdown",
   "id": "fcce659a",
   "metadata": {},
   "source": [
    "# \n",
    "Crash Time"
   ]
  },
  {
   "cell_type": "code",
   "execution_count": 571,
   "id": "2bbcbaba",
   "metadata": {},
   "outputs": [
    {
     "data": {
      "text/plain": [
       "0        16:34:00\n",
       "1        14:32:00\n",
       "2             NaN\n",
       "3        08:18:00\n",
       "4        17:50:00\n",
       "           ...   \n",
       "13036    15:39:00\n",
       "13037    07:30:00\n",
       "13038    18:46:00\n",
       "13039    05:41:00\n",
       "13040         NaN\n",
       "Name: Crash Time, Length: 13041, dtype: object"
      ]
     },
     "execution_count": 571,
     "metadata": {},
     "output_type": "execute_result"
    }
   ],
   "source": [
    "# print column\n",
    "X_train['Crash Time']\n",
    "\n",
    "# check NAs\n",
    "# sum(X_train['Crash Time'].isna())\n",
    "# 1320 missing data of 13041 rows"
   ]
  },
  {
   "cell_type": "markdown",
   "id": "0f981e95",
   "metadata": {},
   "source": [
    "The crash time represent the time of the day when the accident occurred. This is in the HH:MM:SS format. There are also 1320 missing data among the 13041 available data. \n",
    "\n",
    "To handle this column, the idea to focus on the hour component as we believe that staying at the granularity of the hour would be sufficient to capture the time aspect. We then proceed to group this hour component into periods of the day as we know that period of the day would play a key role in influencing how quickly an accident scene is cleared. For example, it would generally be easier to clear up an accident that happens during work hours than just after work hours or early evening as there would be more vehicles on the road to manage. \n",
    "\n",
    "To handle missing data, we propose replacing with the median value of the hour component after observing the kde plot."
   ]
  },
  {
   "cell_type": "code",
   "execution_count": 572,
   "id": "54ebf0ed",
   "metadata": {},
   "outputs": [
    {
     "name": "stderr",
     "output_type": "stream",
     "text": [
      "c:\\Users\\Christinme\\AppData\\Local\\Programs\\Python\\Python311\\Lib\\site-packages\\seaborn\\_oldcore.py:1498: FutureWarning: is_categorical_dtype is deprecated and will be removed in a future version. Use isinstance(dtype, CategoricalDtype) instead\n",
      "  if pd.api.types.is_categorical_dtype(vector):\n",
      "c:\\Users\\Christinme\\AppData\\Local\\Programs\\Python\\Python311\\Lib\\site-packages\\seaborn\\_oldcore.py:1119: FutureWarning: use_inf_as_na option is deprecated and will be removed in a future version. Convert inf values to NaN before operating instead.\n",
      "  with pd.option_context('mode.use_inf_as_na', True):\n"
     ]
    },
    {
     "data": {
      "text/plain": [
       "<matplotlib.legend.Legend at 0x1f14502f3d0>"
      ]
     },
     "execution_count": 572,
     "metadata": {},
     "output_type": "execute_result"
    },
    {
     "data": {
      "image/png": "[encoded data removed]",
      "text/plain": [
       "<Figure size 640x480 with 1 Axes>"
      ]
     },
     "metadata": {},
     "output_type": "display_data"
    }
   ],
   "source": [
    "\n",
    "# extract hour component of crash time, called Crash Hour\n",
    "X_train['Crash Hour'] = pd.to_datetime(X_train['Crash Time'], format='%H:%M:%S').dt.hour\n",
    "\n",
    "# plot kde of crash hour column\n",
    "sns.kdeplot(X_train['Crash Hour'])\n",
    "\n",
    "# plot mean and median\n",
    "plt.vlines(X_train['Crash Hour'].mean(), ymin = 0, ymax = 0.10, color = 'r', label = 'Mean line')\n",
    "plt.vlines(X_train['Crash Hour'].median(), ymin = 0, ymax = 0.10, color = 'g', label = 'Median line')\n",
    "plt.legend()"
   ]
  },
  {
   "cell_type": "code",
   "execution_count": 573,
   "id": "0cf22c15",
   "metadata": {},
   "outputs": [],
   "source": [
    "# from kde plot - fillna in Crash Hour with median value \n",
    "X_train['Crash Hour'] = X_train['Crash Hour'].fillna(X_train['Crash Hour'].median())"
   ]
  },
  {
   "cell_type": "code",
   "execution_count": 574,
   "id": "d8628996",
   "metadata": {},
   "outputs": [],
   "source": [
    "## mapping crash hour to period of the day\n",
    "# mapping crash hour to period of day\n",
    "b = [0,4,8,12,16,20,24]\n",
    "l = ['Late Night', 'Early Morning','Morning','Noon','Evening','Night']\n",
    "\n",
    "# 0-4: 'Late Night'\n",
    "# 4-8: 'Early Morning'\n",
    "# 8-12: 'Morning'\n",
    "# 12-16: 'Noon'\n",
    "# 16-20: 'Evening'\n",
    "# 20-24: 'Night'\n",
    "\n",
    "# Map 'Crash Hour' to period of the day; resulting column is called 'Crash Period'\n",
    "X_train['Crash Period'] = pd.cut(X_train['Crash Hour'], bins=b, labels=l, include_lowest=True)"
   ]
  },
  {
   "cell_type": "code",
   "execution_count": 575,
   "id": "44a00669",
   "metadata": {},
   "outputs": [],
   "source": [
    "# drop Crash Time and Crash Hour columns\n",
    "X_train.drop(columns = ['Crash Time', 'Crash Hour'], axis = 1, inplace = True)"
   ]
  },
  {
   "cell_type": "code",
   "execution_count": 576,
   "id": "fb96e3e6",
   "metadata": {},
   "outputs": [],
   "source": [
    "# one hot encode Crash Period column\n",
    "X_train['Crash Period'].value_counts()\n",
    "\n",
    "# one_hot encode\n",
    "X_train = pd.get_dummies(X_train, columns = ['Crash Period'], dtype= 'int')\n",
    "\n",
    "# drop Crash Period_Night - regression\n",
    "X_train = X_train.drop(columns='Crash Period_Night', axis = 1)"
   ]
  },
  {
   "cell_type": "code",
   "execution_count": 577,
   "id": "b210a1a8",
   "metadata": {},
   "outputs": [
    {
     "data": {
      "text/html": [
       "<div>\n",
       "<style scoped>\n",
       "    .dataframe tbody tr th:only-of-type {\n",
       "        vertical-align: middle;\n",
       "    }\n",
       "\n",
       "    .dataframe tbody tr th {\n",
       "        vertical-align: top;\n",
       "    }\n",
       "\n",
       "    .dataframe thead th {\n",
       "        text-align: right;\n",
       "    }\n",
       "</style>\n",
       "<table border=\"1\" class=\"dataframe\">\n",
       "  <thead>\n",
       "    <tr style=\"text-align: right;\">\n",
       "      <th></th>\n",
       "      <th>Crash Severity</th>\n",
       "      <th>Day of Week</th>\n",
       "      <th>Manner of Collision</th>\n",
       "      <th>Speed Limit</th>\n",
       "      <th>Surface Condition</th>\n",
       "      <th>Surface Type</th>\n",
       "      <th>Surface Width</th>\n",
       "      <th>Weather Condition</th>\n",
       "      <th>Vehicle Body Style</th>\n",
       "      <th>Person Age</th>\n",
       "      <th>Person Alcohol Result</th>\n",
       "      <th>Person Drug Test Result</th>\n",
       "      <th>Person Ethnicity</th>\n",
       "      <th>Person Gender</th>\n",
       "      <th>Crash Period_Late Night</th>\n",
       "      <th>Crash Period_Early Morning</th>\n",
       "      <th>Crash Period_Morning</th>\n",
       "      <th>Crash Period_Noon</th>\n",
       "      <th>Crash Period_Evening</th>\n",
       "    </tr>\n",
       "  </thead>\n",
       "  <tbody>\n",
       "    <tr>\n",
       "      <th>0</th>\n",
       "      <td>0</td>\n",
       "      <td>FRIDAY</td>\n",
       "      <td>OPPOSITE DIRECTION - BOTH GOING STRAIGHT</td>\n",
       "      <td>40</td>\n",
       "      <td>1 - DRY</td>\n",
       "      <td>No Data</td>\n",
       "      <td>No Data</td>\n",
       "      <td>1 - CLEAR</td>\n",
       "      <td>BU - BUS</td>\n",
       "      <td>7</td>\n",
       "      <td>No Data</td>\n",
       "      <td>No Data</td>\n",
       "      <td>NaN</td>\n",
       "      <td>NaN</td>\n",
       "      <td>0</td>\n",
       "      <td>0</td>\n",
       "      <td>0</td>\n",
       "      <td>1</td>\n",
       "      <td>0</td>\n",
       "    </tr>\n",
       "    <tr>\n",
       "      <th>1</th>\n",
       "      <td>0</td>\n",
       "      <td>SATURDAY</td>\n",
       "      <td>ONE MOTOR VEHICLE - GOING STRAIGHT</td>\n",
       "      <td>70</td>\n",
       "      <td>1 - DRY</td>\n",
       "      <td>No Data</td>\n",
       "      <td>48</td>\n",
       "      <td>1 - CLEAR</td>\n",
       "      <td>SV - SPORT UTILITY VEHICLE</td>\n",
       "      <td>32</td>\n",
       "      <td>No Data</td>\n",
       "      <td>No Data</td>\n",
       "      <td>W - WHITE</td>\n",
       "      <td>2 - FEMALE</td>\n",
       "      <td>0</td>\n",
       "      <td>0</td>\n",
       "      <td>0</td>\n",
       "      <td>1</td>\n",
       "      <td>0</td>\n",
       "    </tr>\n",
       "    <tr>\n",
       "      <th>2</th>\n",
       "      <td>1</td>\n",
       "      <td>SATURDAY</td>\n",
       "      <td>SAME DIRECTION - ONE STRAIGHT-ONE STOPPED</td>\n",
       "      <td>50</td>\n",
       "      <td>1 - DRY</td>\n",
       "      <td>No Data</td>\n",
       "      <td>64</td>\n",
       "      <td>2 - CLOUDY</td>\n",
       "      <td>P4 - PASSENGER CAR, 4-DOOR</td>\n",
       "      <td>NaN</td>\n",
       "      <td>No Data</td>\n",
       "      <td>97 - NOT APPLICABLE</td>\n",
       "      <td>W - WHITE</td>\n",
       "      <td>2 - FEMALE</td>\n",
       "      <td>0</td>\n",
       "      <td>0</td>\n",
       "      <td>0</td>\n",
       "      <td>1</td>\n",
       "      <td>0</td>\n",
       "    </tr>\n",
       "    <tr>\n",
       "      <th>3</th>\n",
       "      <td>0</td>\n",
       "      <td>WEDNESDAY</td>\n",
       "      <td>SAME DIRECTION - BOTH GOING STRAIGHT-SIDESWIPE</td>\n",
       "      <td>50</td>\n",
       "      <td>1 - DRY</td>\n",
       "      <td>No Data</td>\n",
       "      <td>72</td>\n",
       "      <td>1 - CLEAR</td>\n",
       "      <td>SV - SPORT UTILITY VEHICLE</td>\n",
       "      <td>40</td>\n",
       "      <td>No Data</td>\n",
       "      <td>97 - NOT APPLICABLE</td>\n",
       "      <td>B - BLACK</td>\n",
       "      <td>2 - FEMALE</td>\n",
       "      <td>0</td>\n",
       "      <td>1</td>\n",
       "      <td>0</td>\n",
       "      <td>0</td>\n",
       "      <td>0</td>\n",
       "    </tr>\n",
       "    <tr>\n",
       "      <th>4</th>\n",
       "      <td>0</td>\n",
       "      <td>NaN</td>\n",
       "      <td>SAME DIRECTION - ONE STRAIGHT-ONE STOPPED</td>\n",
       "      <td>40</td>\n",
       "      <td>1 - DRY</td>\n",
       "      <td>No Data</td>\n",
       "      <td>50</td>\n",
       "      <td>1 - CLEAR</td>\n",
       "      <td>PK - PICKUP</td>\n",
       "      <td>NaN</td>\n",
       "      <td>No Data</td>\n",
       "      <td>97 - NOT APPLICABLE</td>\n",
       "      <td>W - WHITE</td>\n",
       "      <td>1 - MALE</td>\n",
       "      <td>0</td>\n",
       "      <td>0</td>\n",
       "      <td>0</td>\n",
       "      <td>0</td>\n",
       "      <td>1</td>\n",
       "    </tr>\n",
       "  </tbody>\n",
       "</table>\n",
       "</div>"
      ],
      "text/plain": [
       "   Crash Severity Day of Week                             Manner of Collision  \\\n",
       "0               0      FRIDAY        OPPOSITE DIRECTION - BOTH GOING STRAIGHT   \n",
       "1               0    SATURDAY              ONE MOTOR VEHICLE - GOING STRAIGHT   \n",
       "2               1    SATURDAY       SAME DIRECTION - ONE STRAIGHT-ONE STOPPED   \n",
       "3               0   WEDNESDAY  SAME DIRECTION - BOTH GOING STRAIGHT-SIDESWIPE   \n",
       "4               0         NaN       SAME DIRECTION - ONE STRAIGHT-ONE STOPPED   \n",
       "\n",
       "   Speed Limit Surface Condition Surface Type Surface Width Weather Condition  \\\n",
       "0           40           1 - DRY      No Data       No Data         1 - CLEAR   \n",
       "1           70           1 - DRY      No Data            48         1 - CLEAR   \n",
       "2           50           1 - DRY      No Data            64        2 - CLOUDY   \n",
       "3           50           1 - DRY      No Data            72         1 - CLEAR   \n",
       "4           40           1 - DRY      No Data            50         1 - CLEAR   \n",
       "\n",
       "           Vehicle Body Style Person Age Person Alcohol Result  \\\n",
       "0                    BU - BUS          7               No Data   \n",
       "1  SV - SPORT UTILITY VEHICLE         32               No Data   \n",
       "2  P4 - PASSENGER CAR, 4-DOOR        NaN               No Data   \n",
       "3  SV - SPORT UTILITY VEHICLE         40               No Data   \n",
       "4                 PK - PICKUP        NaN               No Data   \n",
       "\n",
       "  Person Drug Test Result Person Ethnicity Person Gender  \\\n",
       "0                 No Data              NaN           NaN   \n",
       "1                 No Data        W - WHITE    2 - FEMALE   \n",
       "2     97 - NOT APPLICABLE        W - WHITE    2 - FEMALE   \n",
       "3     97 - NOT APPLICABLE        B - BLACK    2 - FEMALE   \n",
       "4     97 - NOT APPLICABLE        W - WHITE      1 - MALE   \n",
       "\n",
       "   Crash Period_Late Night  Crash Period_Early Morning  Crash Period_Morning  \\\n",
       "0                        0                           0                     0   \n",
       "1                        0                           0                     0   \n",
       "2                        0                           0                     0   \n",
       "3                        0                           1                     0   \n",
       "4                        0                           0                     0   \n",
       "\n",
       "   Crash Period_Noon  Crash Period_Evening  \n",
       "0                  1                     0  \n",
       "1                  1                     0  \n",
       "2                  1                     0  \n",
       "3                  0                     0  \n",
       "4                  0                     1  "
      ]
     },
     "execution_count": 577,
     "metadata": {},
     "output_type": "execute_result"
    }
   ],
   "source": [
    "# check X_train\n",
    "X_train.head()"
   ]
  },
  {
   "cell_type": "markdown",
   "id": "3d8e3729",
   "metadata": {},
   "source": [
    "# \n",
    "Day of Week"
   ]
  },
  {
   "cell_type": "code",
   "execution_count": 578,
   "id": "8f47fc1a",
   "metadata": {},
   "outputs": [
    {
     "data": {
      "text/plain": [
       "Day of Week\n",
       "FRIDAY       1923\n",
       "THURSDAY     1749\n",
       "MONDAY       1695\n",
       "WEDNESDAY    1683\n",
       "TUESDAY      1660\n",
       "SATURDAY     1568\n",
       "SUNDAY       1410\n",
       "Name: count, dtype: int64"
      ]
     },
     "execution_count": 578,
     "metadata": {},
     "output_type": "execute_result"
    }
   ],
   "source": [
    "# value_count\n",
    "X_train['Day of Week'].value_counts()\n",
    "\n",
    "# number of NA\n",
    "# sum(X_train['Day of Week'].isna())\n",
    "# 1353 NAs"
   ]
  },
  {
   "cell_type": "markdown",
   "metadata": {},
   "source": [
    "We see from the value_counts that the different days of the week have similar number of occurence in the dataset. We also checked for NAs and saw 1353 occurence. Seeing the close number of occurences of the days of the week, we faced the challenge of filling the NAs. This is because using the simple method of filling NAs with mode will overexaggerate the occurence of Friday in our dataset. Although we could have explored more complicated method to fill the NAs (for example, using the Nearest Neighbour approach), we opted to drop the Day of Week column. "
   ]
  },
  {
   "cell_type": "code",
   "execution_count": 579,
   "id": "c52427ce",
   "metadata": {},
   "outputs": [],
   "source": [
    "# drop column\n",
    "X_train.drop(columns='Day of Week', axis = 1, inplace = True)"
   ]
  },
  {
   "cell_type": "markdown",
   "id": "74706319",
   "metadata": {},
   "source": [
    "# \n",
    "Manner of Collision"
   ]
  },
  {
   "cell_type": "code",
   "execution_count": 580,
   "id": "353e4f7e",
   "metadata": {},
   "outputs": [
    {
     "data": {
      "text/plain": [
       "Manner of Collision\n",
       "SAME DIRECTION - ONE STRAIGHT-ONE STOPPED                      2115\n",
       "SAME DIRECTION - BOTH GOING STRAIGHT-SIDESWIPE                 1726\n",
       "ANGLE - BOTH GOING STRAIGHT                                    1711\n",
       "SAME DIRECTION - BOTH GOING STRAIGHT-REAR END                  1621\n",
       "OPPOSITE DIRECTION - ONE STRAIGHT-ONE LEFT TURN                1370\n",
       "ONE MOTOR VEHICLE - GOING STRAIGHT                             1257\n",
       "ANGLE - ONE STRAIGHT-ONE LEFT TURN                              938\n",
       "ANGLE - ONE STRAIGHT-ONE RIGHT TURN                             461\n",
       "SAME DIRECTION - ONE STRAIGHT-ONE LEFT TURN                     292\n",
       "SAME DIRECTION - ONE STRAIGHT-ONE RIGHT TURN                    206\n",
       "ONE MOTOR VEHICLE - TURNING LEFT                                187\n",
       "ONE MOTOR VEHICLE - BACKING                                     144\n",
       "OPPOSITE DIRECTION - BOTH GOING STRAIGHT                        130\n",
       "SAME DIRECTION - BOTH LEFT TURN                                 112\n",
       "SAME DIRECTION - BOTH RIGHT TURN                                104\n",
       "ONE MOTOR VEHICLE - OTHER                                       101\n",
       "ONE MOTOR VEHICLE - TURNING RIGHT                                95\n",
       "OTHER - ONE STRAIGHT-ONE ENTERING OR LEAVING PARKING SPACE       63\n",
       "OTHER                                                            54\n",
       "OPPOSITE DIRECTION - ONE RIGHT TURN-ONE LEFT TURN                53\n",
       "OPPOSITE DIRECTION - ONE STRAIGHT-ONE BACKING                    44\n",
       "OPPOSITE DIRECTION - ONE BACKING-ONE STOPPED                     43\n",
       "ANGLE - ONE RIGHT TURN-ONE STOPPED                               34\n",
       "ANGLE - ONE STRAIGHT-ONE BACKING                                 29\n",
       "SAME DIRECTION - ONE RIGHT TURN-ONE STOPPED                      24\n",
       "ANGLE - ONE LEFT TURN-ONE STOPPED                                23\n",
       "ANGLE - ONE RIGHT TURN-ONE LEFT TURN                             21\n",
       "OTHER - BOTH BACKING                                             20\n",
       "ANGLE - BOTH LEFT TURN                                           17\n",
       "OPPOSITE DIRECTION - ONE STRAIGHT-ONE STOPPED                    14\n",
       "ANGLE - ONE STRAIGHT-ONE STOPPED                                 10\n",
       "OPPOSITE DIRECTION - BOTH LEFT TURNS                              9\n",
       "OTHER - ONE ENTERING OR LEAVING PARKING SPACE-ONE STOPPED         6\n",
       "ANGLE - BOTH RIGHT TURN                                           3\n",
       "SAME DIRECTION - ONE LEFT TURN-ONE STOPPED                        2\n",
       "OTHER - ONE LEFT TURN-ONE ENTERING OR LEAVING PARKING SPACE       2\n",
       "Name: count, dtype: int64"
      ]
     },
     "execution_count": 580,
     "metadata": {},
     "output_type": "execute_result"
    }
   ],
   "source": [
    "# value count\n",
    "X_train['Manner of Collision'].value_counts()\n",
    "# 36 unique values\n",
    "# supergroup: same direction, opposite direction, angle, one motor vehicle, other\n",
    "\n",
    "# check for NAs\n",
    "# sum(X_train['Manner of Collision'].isna())\n",
    "# 0 NAs"
   ]
  },
  {
   "cell_type": "markdown",
   "metadata": {},
   "source": [
    "To transform this column, we opted to group similar Manner of Collision together. We call this supergroup and name them Same Direction, Opposite Direction, Angle, One Motor Vehicle, and Other. There are no NAs in this column."
   ]
  },
  {
   "cell_type": "code",
   "execution_count": 581,
   "id": "6f40b481",
   "metadata": {},
   "outputs": [],
   "source": [
    "\n",
    "# rename X_train before creating supergroup\n",
    "X_train_2 = X_train\n",
    "\n",
    "# Create supergroup - same direction, opposite direction, angle, one motor vehicle, other\n",
    "# Same direction\n",
    "X_train_2.loc[X_train_2['Manner of Collision'].str.contains('Same direction', case = False), 'Manner of Collision'] = 'Same Direction'\n",
    "\n",
    "# Opposite direction\n",
    "X_train_2.loc[X_train_2['Manner of Collision'].str.contains('Opposite direction', case = False), 'Manner of Collision'] = 'Opposite Direction'\n",
    "\n",
    "# Angle\n",
    "X_train_2.loc[X_train_2['Manner of Collision'].str.contains('Angle', case = False), 'Manner of Collision'] = 'Angle'\n",
    "\n",
    "# One motor vehicle\n",
    "X_train_2.loc[X_train_2['Manner of Collision'].str.contains('One motor vehicle', case = False), 'Manner of Collision'] = 'One motor'\n",
    "\n",
    "# Other -\n",
    "X_train_2.loc[X_train_2['Manner of Collision'].str.contains('Other', case = False), 'Manner of Collision'] = 'Other'"
   ]
  },
  {
   "cell_type": "code",
   "execution_count": 582,
   "id": "f383e7a0",
   "metadata": {},
   "outputs": [],
   "source": [
    "# X_train_2\n",
    "\n",
    "# one hot encode X_train_2['Manner of Collision']\n",
    "X_train_2 = pd.get_dummies(X_train_2, columns = ['Manner of Collision'], dtype= 'int')"
   ]
  },
  {
   "cell_type": "markdown",
   "metadata": {},
   "source": [
    "As we are working on Regression dataset, we dropped one of the dummy variables: Manner of Collision_Same Direction"
   ]
  },
  {
   "cell_type": "code",
   "execution_count": 583,
   "metadata": {},
   "outputs": [],
   "source": [
    "# drop Manner of Collision_Same Direction\n",
    "X_train_2 = X_train_2.drop('Manner of Collision_Same Direction', axis = 1)"
   ]
  },
  {
   "cell_type": "code",
   "execution_count": 584,
   "id": "ba5d64da",
   "metadata": {},
   "outputs": [
    {
     "data": {
      "text/html": [
       "<div>\n",
       "<style scoped>\n",
       "    .dataframe tbody tr th:only-of-type {\n",
       "        vertical-align: middle;\n",
       "    }\n",
       "\n",
       "    .dataframe tbody tr th {\n",
       "        vertical-align: top;\n",
       "    }\n",
       "\n",
       "    .dataframe thead th {\n",
       "        text-align: right;\n",
       "    }\n",
       "</style>\n",
       "<table border=\"1\" class=\"dataframe\">\n",
       "  <thead>\n",
       "    <tr style=\"text-align: right;\">\n",
       "      <th></th>\n",
       "      <th>Crash Severity</th>\n",
       "      <th>Speed Limit</th>\n",
       "      <th>Surface Condition</th>\n",
       "      <th>Surface Type</th>\n",
       "      <th>Surface Width</th>\n",
       "      <th>Weather Condition</th>\n",
       "      <th>Vehicle Body Style</th>\n",
       "      <th>Person Age</th>\n",
       "      <th>Person Alcohol Result</th>\n",
       "      <th>Person Drug Test Result</th>\n",
       "      <th>...</th>\n",
       "      <th>Person Gender</th>\n",
       "      <th>Crash Period_Late Night</th>\n",
       "      <th>Crash Period_Early Morning</th>\n",
       "      <th>Crash Period_Morning</th>\n",
       "      <th>Crash Period_Noon</th>\n",
       "      <th>Crash Period_Evening</th>\n",
       "      <th>Manner of Collision_Angle</th>\n",
       "      <th>Manner of Collision_One motor</th>\n",
       "      <th>Manner of Collision_Opposite Direction</th>\n",
       "      <th>Manner of Collision_Other</th>\n",
       "    </tr>\n",
       "  </thead>\n",
       "  <tbody>\n",
       "    <tr>\n",
       "      <th>0</th>\n",
       "      <td>0</td>\n",
       "      <td>40</td>\n",
       "      <td>1 - DRY</td>\n",
       "      <td>No Data</td>\n",
       "      <td>No Data</td>\n",
       "      <td>1 - CLEAR</td>\n",
       "      <td>BU - BUS</td>\n",
       "      <td>7</td>\n",
       "      <td>No Data</td>\n",
       "      <td>No Data</td>\n",
       "      <td>...</td>\n",
       "      <td>NaN</td>\n",
       "      <td>0</td>\n",
       "      <td>0</td>\n",
       "      <td>0</td>\n",
       "      <td>1</td>\n",
       "      <td>0</td>\n",
       "      <td>0</td>\n",
       "      <td>0</td>\n",
       "      <td>1</td>\n",
       "      <td>0</td>\n",
       "    </tr>\n",
       "    <tr>\n",
       "      <th>1</th>\n",
       "      <td>0</td>\n",
       "      <td>70</td>\n",
       "      <td>1 - DRY</td>\n",
       "      <td>No Data</td>\n",
       "      <td>48</td>\n",
       "      <td>1 - CLEAR</td>\n",
       "      <td>SV - SPORT UTILITY VEHICLE</td>\n",
       "      <td>32</td>\n",
       "      <td>No Data</td>\n",
       "      <td>No Data</td>\n",
       "      <td>...</td>\n",
       "      <td>2 - FEMALE</td>\n",
       "      <td>0</td>\n",
       "      <td>0</td>\n",
       "      <td>0</td>\n",
       "      <td>1</td>\n",
       "      <td>0</td>\n",
       "      <td>0</td>\n",
       "      <td>1</td>\n",
       "      <td>0</td>\n",
       "      <td>0</td>\n",
       "    </tr>\n",
       "    <tr>\n",
       "      <th>2</th>\n",
       "      <td>1</td>\n",
       "      <td>50</td>\n",
       "      <td>1 - DRY</td>\n",
       "      <td>No Data</td>\n",
       "      <td>64</td>\n",
       "      <td>2 - CLOUDY</td>\n",
       "      <td>P4 - PASSENGER CAR, 4-DOOR</td>\n",
       "      <td>NaN</td>\n",
       "      <td>No Data</td>\n",
       "      <td>97 - NOT APPLICABLE</td>\n",
       "      <td>...</td>\n",
       "      <td>2 - FEMALE</td>\n",
       "      <td>0</td>\n",
       "      <td>0</td>\n",
       "      <td>0</td>\n",
       "      <td>1</td>\n",
       "      <td>0</td>\n",
       "      <td>0</td>\n",
       "      <td>0</td>\n",
       "      <td>0</td>\n",
       "      <td>0</td>\n",
       "    </tr>\n",
       "    <tr>\n",
       "      <th>3</th>\n",
       "      <td>0</td>\n",
       "      <td>50</td>\n",
       "      <td>1 - DRY</td>\n",
       "      <td>No Data</td>\n",
       "      <td>72</td>\n",
       "      <td>1 - CLEAR</td>\n",
       "      <td>SV - SPORT UTILITY VEHICLE</td>\n",
       "      <td>40</td>\n",
       "      <td>No Data</td>\n",
       "      <td>97 - NOT APPLICABLE</td>\n",
       "      <td>...</td>\n",
       "      <td>2 - FEMALE</td>\n",
       "      <td>0</td>\n",
       "      <td>1</td>\n",
       "      <td>0</td>\n",
       "      <td>0</td>\n",
       "      <td>0</td>\n",
       "      <td>0</td>\n",
       "      <td>0</td>\n",
       "      <td>0</td>\n",
       "      <td>0</td>\n",
       "    </tr>\n",
       "    <tr>\n",
       "      <th>4</th>\n",
       "      <td>0</td>\n",
       "      <td>40</td>\n",
       "      <td>1 - DRY</td>\n",
       "      <td>No Data</td>\n",
       "      <td>50</td>\n",
       "      <td>1 - CLEAR</td>\n",
       "      <td>PK - PICKUP</td>\n",
       "      <td>NaN</td>\n",
       "      <td>No Data</td>\n",
       "      <td>97 - NOT APPLICABLE</td>\n",
       "      <td>...</td>\n",
       "      <td>1 - MALE</td>\n",
       "      <td>0</td>\n",
       "      <td>0</td>\n",
       "      <td>0</td>\n",
       "      <td>0</td>\n",
       "      <td>1</td>\n",
       "      <td>0</td>\n",
       "      <td>0</td>\n",
       "      <td>0</td>\n",
       "      <td>0</td>\n",
       "    </tr>\n",
       "  </tbody>\n",
       "</table>\n",
       "<p>5 rows × 21 columns</p>\n",
       "</div>"
      ],
      "text/plain": [
       "   Crash Severity  Speed Limit Surface Condition Surface Type Surface Width  \\\n",
       "0               0           40           1 - DRY      No Data       No Data   \n",
       "1               0           70           1 - DRY      No Data            48   \n",
       "2               1           50           1 - DRY      No Data            64   \n",
       "3               0           50           1 - DRY      No Data            72   \n",
       "4               0           40           1 - DRY      No Data            50   \n",
       "\n",
       "  Weather Condition          Vehicle Body Style Person Age  \\\n",
       "0         1 - CLEAR                    BU - BUS          7   \n",
       "1         1 - CLEAR  SV - SPORT UTILITY VEHICLE         32   \n",
       "2        2 - CLOUDY  P4 - PASSENGER CAR, 4-DOOR        NaN   \n",
       "3         1 - CLEAR  SV - SPORT UTILITY VEHICLE         40   \n",
       "4         1 - CLEAR                 PK - PICKUP        NaN   \n",
       "\n",
       "  Person Alcohol Result Person Drug Test Result  ... Person Gender  \\\n",
       "0               No Data                 No Data  ...           NaN   \n",
       "1               No Data                 No Data  ...    2 - FEMALE   \n",
       "2               No Data     97 - NOT APPLICABLE  ...    2 - FEMALE   \n",
       "3               No Data     97 - NOT APPLICABLE  ...    2 - FEMALE   \n",
       "4               No Data     97 - NOT APPLICABLE  ...      1 - MALE   \n",
       "\n",
       "  Crash Period_Late Night  Crash Period_Early Morning  Crash Period_Morning  \\\n",
       "0                       0                           0                     0   \n",
       "1                       0                           0                     0   \n",
       "2                       0                           0                     0   \n",
       "3                       0                           1                     0   \n",
       "4                       0                           0                     0   \n",
       "\n",
       "   Crash Period_Noon  Crash Period_Evening  Manner of Collision_Angle  \\\n",
       "0                  1                     0                          0   \n",
       "1                  1                     0                          0   \n",
       "2                  1                     0                          0   \n",
       "3                  0                     0                          0   \n",
       "4                  0                     1                          0   \n",
       "\n",
       "   Manner of Collision_One motor  Manner of Collision_Opposite Direction  \\\n",
       "0                              0                                       1   \n",
       "1                              1                                       0   \n",
       "2                              0                                       0   \n",
       "3                              0                                       0   \n",
       "4                              0                                       0   \n",
       "\n",
       "   Manner of Collision_Other  \n",
       "0                          0  \n",
       "1                          0  \n",
       "2                          0  \n",
       "3                          0  \n",
       "4                          0  \n",
       "\n",
       "[5 rows x 21 columns]"
      ]
     },
     "execution_count": 584,
     "metadata": {},
     "output_type": "execute_result"
    }
   ],
   "source": [
    "X_train_2.head()"
   ]
  },
  {
   "cell_type": "markdown",
   "id": "93bfd248",
   "metadata": {},
   "source": [
    "# \n",
    "Speed Limit\n"
   ]
  },
  {
   "cell_type": "code",
   "execution_count": 585,
   "id": "6561c4ca",
   "metadata": {},
   "outputs": [
    {
     "data": {
      "text/plain": [
       "Speed Limit\n",
       " 45    2281\n",
       " 50    2259\n",
       " 70    2132\n",
       " 40    1419\n",
       " 30    1331\n",
       " 35    1181\n",
       " 55     826\n",
       " 60     481\n",
       "-1      370\n",
       " 25     291\n",
       " 65     104\n",
       " 10      87\n",
       " 75      84\n",
       " 20      68\n",
       " 5       64\n",
       " 15      63\n",
       "Name: count, dtype: int64"
      ]
     },
     "execution_count": 585,
     "metadata": {},
     "output_type": "execute_result"
    }
   ],
   "source": [
    "# check for NAs\n",
    "sum(X_train_2['Speed Limit'].isna())\n",
    "# 0 NAs\n",
    "# Speed Limit is good - int64 datatype, no NAs\n",
    "\n",
    "X_train_2['Speed Limit'].value_counts()"
   ]
  },
  {
   "cell_type": "markdown",
   "id": "ad665cf1",
   "metadata": {},
   "source": [
    "From the value_counts, there are 370 instances of speed limit of -1 which is the lowest speed limit. However, speed limit cannot be -1 in practice. From the data description, we understand the speed limit column as the speed limit of the road where the crash occured. A value of -1 for speed limit is thus treated as missing data and replaced with the median value after checking the kde plot."
   ]
  },
  {
   "cell_type": "code",
   "execution_count": 586,
   "metadata": {},
   "outputs": [],
   "source": [
    "# replace values of -1 with np.nan\n",
    "X_train_2.loc[(X_train_2['Speed Limit'] == -1), 'Speed Limit'] = np.nan"
   ]
  },
  {
   "cell_type": "code",
   "execution_count": 587,
   "metadata": {},
   "outputs": [
    {
     "name": "stderr",
     "output_type": "stream",
     "text": [
      "c:\\Users\\Christinme\\AppData\\Local\\Programs\\Python\\Python311\\Lib\\site-packages\\seaborn\\_oldcore.py:1498: FutureWarning: is_categorical_dtype is deprecated and will be removed in a future version. Use isinstance(dtype, CategoricalDtype) instead\n",
      "  if pd.api.types.is_categorical_dtype(vector):\n",
      "c:\\Users\\Christinme\\AppData\\Local\\Programs\\Python\\Python311\\Lib\\site-packages\\seaborn\\_oldcore.py:1119: FutureWarning: use_inf_as_na option is deprecated and will be removed in a future version. Convert inf values to NaN before operating instead.\n",
      "  with pd.option_context('mode.use_inf_as_na', True):\n"
     ]
    },
    {
     "data": {
      "text/plain": [
       "<matplotlib.legend.Legend at 0x1f14510fe10>"
      ]
     },
     "execution_count": 587,
     "metadata": {},
     "output_type": "execute_result"
    },
    {
     "data": {
      "image/png": "[encoded data removed]",
      "text/plain": [
       "<Figure size 640x480 with 1 Axes>"
      ]
     },
     "metadata": {},
     "output_type": "display_data"
    }
   ],
   "source": [
    "# plot kde of Speed Limit to determine appropriate method to fill missing data\n",
    "\n",
    "# plot kde of crash hour column\n",
    "sns.kdeplot(X_train['Speed Limit'])\n",
    "\n",
    "# plot mean and median\n",
    "plt.vlines(X_train['Speed Limit'].mean(), ymin = 0, ymax = 0.04, color = 'r', label = 'Mean line')\n",
    "plt.vlines(X_train['Speed Limit'].median(), ymin = 0, ymax = 0.04, color = 'g', label = 'Median line')\n",
    "plt.legend()"
   ]
  },
  {
   "cell_type": "code",
   "execution_count": 588,
   "metadata": {},
   "outputs": [],
   "source": [
    "# fillna with median value \n",
    "sl_med = X_train_2['Speed Limit'].median()\n",
    "X_train_2['Speed Limit'] = X_train_2['Speed Limit'].fillna(sl_med)"
   ]
  },
  {
   "cell_type": "markdown",
   "id": "8b67f3ee",
   "metadata": {},
   "source": [
    "#\n",
    "Surface Condition"
   ]
  },
  {
   "cell_type": "code",
   "execution_count": 589,
   "id": "2ccf1f61",
   "metadata": {},
   "outputs": [
    {
     "data": {
      "text/plain": [
       "Surface Condition\n",
       "1 - DRY                              12122\n",
       "2 - WET                                845\n",
       "99 - UNKNOWN                            35\n",
       "3 - STANDING WATER                      17\n",
       "7 - SAND, MUD, DIRT                     11\n",
       "98 - OTHER (EXPLAIN IN NARRATIVE)       11\n",
       "Name: count, dtype: int64"
      ]
     },
     "execution_count": 589,
     "metadata": {},
     "output_type": "execute_result"
    }
   ],
   "source": [
    "X_train_2['Surface Condition'].value_counts()"
   ]
  },
  {
   "cell_type": "code",
   "execution_count": 590,
   "id": "09dff0f8",
   "metadata": {},
   "outputs": [
    {
     "data": {
      "text/plain": [
       "0"
      ]
     },
     "execution_count": 590,
     "metadata": {},
     "output_type": "execute_result"
    }
   ],
   "source": [
    "# check na\n",
    "sum(X_train_2['Surface Condition'].isna())\n",
    "# No NAs"
   ]
  },
  {
   "cell_type": "code",
   "execution_count": 591,
   "id": "7e33934a",
   "metadata": {},
   "outputs": [],
   "source": [
    "# replace 98 - OTHER and 99 - UNKNOWN with most frequent (1 - DRY)\n",
    "\n",
    "# 98 - OTHER\n",
    "X_train_2.loc[X_train_2['Surface Condition'].str.contains('98 - OTHER', case = False), 'Surface Condition'] = '1 - DRY'\n",
    "\n",
    "# 99 - UNKNOWN\n",
    "X_train_2.loc[X_train_2['Surface Condition'].str.contains('99 - UNKNOWN', case = False), 'Surface Condition'] = '1 - DRY'"
   ]
  },
  {
   "cell_type": "code",
   "execution_count": 592,
   "id": "85afdad1",
   "metadata": {},
   "outputs": [],
   "source": [
    "# replace with ordinal mapping\n",
    "# 1 - DRY as 1 and other categories as 0\n",
    "X_train_2['Surface Condition'] = np.where(X_train_2['Surface Condition'] == '1 - DRY', 1,0)"
   ]
  },
  {
   "cell_type": "markdown",
   "id": "eb63452d",
   "metadata": {},
   "source": [
    "#\n",
    "Surface Type"
   ]
  },
  {
   "cell_type": "code",
   "execution_count": 593,
   "id": "d7bcf747",
   "metadata": {},
   "outputs": [
    {
     "data": {
      "text/plain": [
       "Surface Type\n",
       "No Data    13041\n",
       "Name: count, dtype: int64"
      ]
     },
     "execution_count": 593,
     "metadata": {},
     "output_type": "execute_result"
    }
   ],
   "source": [
    "# value_counts\n",
    "X_train_2['Surface Type'].value_counts()\n"
   ]
  },
  {
   "cell_type": "markdown",
   "id": "0b93a259",
   "metadata": {},
   "source": [
    "The Surface Type column contains no data. We would be dropping this column."
   ]
  },
  {
   "cell_type": "code",
   "execution_count": 594,
   "id": "c739eab3",
   "metadata": {},
   "outputs": [],
   "source": [
    "# drop column - No data\n",
    "X_train_2.drop(columns = 'Surface Type', axis = 1, inplace = True)"
   ]
  },
  {
   "cell_type": "markdown",
   "id": "dcf41387",
   "metadata": {},
   "source": [
    "#\n",
    "Surface Width"
   ]
  },
  {
   "cell_type": "code",
   "execution_count": 595,
   "id": "11de44b8",
   "metadata": {},
   "outputs": [
    {
     "data": {
      "text/plain": [
       "Surface Width\n",
       "No Data    5174\n",
       "72         2332\n",
       "48         1755\n",
       "24          466\n",
       "64          420\n",
       "66          189\n",
       "22          182\n",
       "50          162\n",
       "20          146\n",
       "88          144\n",
       "44          129\n",
       "55           99\n",
       "84           77\n",
       "52           63\n",
       "76           59\n",
       "92           51\n",
       "78           49\n",
       "28           39\n",
       "65           36\n",
       "89           35\n",
       "67           30\n",
       "40           30\n",
       "74           21\n",
       "69           19\n",
       "38           12\n",
       "26            4\n",
       "58            3\n",
       "36            3\n",
       "62            2\n",
       "Name: count, dtype: int64"
      ]
     },
     "execution_count": 595,
     "metadata": {},
     "output_type": "execute_result"
    }
   ],
   "source": [
    "# value_counts\n",
    "X_train_2['Surface Width'].value_counts()\n",
    "# No Data is 5174 (39.68% of dataset)\n",
    "\n",
    "# check for NAs\n",
    "# sum(X_train_2['Surface Width'].isna())\n",
    "# 1310 NAs"
   ]
  },
  {
   "cell_type": "markdown",
   "id": "b8149dec",
   "metadata": {},
   "source": [
    "Surface Width column has 5174 No Data and 1310 NAs. This makes up approx. 50% of the data. We decided to drop this column due to the high number of missing data."
   ]
  },
  {
   "cell_type": "code",
   "execution_count": 596,
   "id": "0d760804",
   "metadata": {},
   "outputs": [],
   "source": [
    "# drop column surface width - high number of NAs\n",
    "X_train_2.drop(columns = 'Surface Width', axis = 1, inplace = True)"
   ]
  },
  {
   "cell_type": "code",
   "execution_count": 597,
   "id": "607edbf6",
   "metadata": {},
   "outputs": [
    {
     "data": {
      "text/html": [
       "<div>\n",
       "<style scoped>\n",
       "    .dataframe tbody tr th:only-of-type {\n",
       "        vertical-align: middle;\n",
       "    }\n",
       "\n",
       "    .dataframe tbody tr th {\n",
       "        vertical-align: top;\n",
       "    }\n",
       "\n",
       "    .dataframe thead th {\n",
       "        text-align: right;\n",
       "    }\n",
       "</style>\n",
       "<table border=\"1\" class=\"dataframe\">\n",
       "  <thead>\n",
       "    <tr style=\"text-align: right;\">\n",
       "      <th></th>\n",
       "      <th>Crash Severity</th>\n",
       "      <th>Speed Limit</th>\n",
       "      <th>Surface Condition</th>\n",
       "      <th>Weather Condition</th>\n",
       "      <th>Vehicle Body Style</th>\n",
       "      <th>Person Age</th>\n",
       "      <th>Person Alcohol Result</th>\n",
       "      <th>Person Drug Test Result</th>\n",
       "      <th>Person Ethnicity</th>\n",
       "      <th>Person Gender</th>\n",
       "      <th>Crash Period_Late Night</th>\n",
       "      <th>Crash Period_Early Morning</th>\n",
       "      <th>Crash Period_Morning</th>\n",
       "      <th>Crash Period_Noon</th>\n",
       "      <th>Crash Period_Evening</th>\n",
       "      <th>Manner of Collision_Angle</th>\n",
       "      <th>Manner of Collision_One motor</th>\n",
       "      <th>Manner of Collision_Opposite Direction</th>\n",
       "      <th>Manner of Collision_Other</th>\n",
       "    </tr>\n",
       "  </thead>\n",
       "  <tbody>\n",
       "    <tr>\n",
       "      <th>0</th>\n",
       "      <td>0</td>\n",
       "      <td>40.0</td>\n",
       "      <td>1</td>\n",
       "      <td>1 - CLEAR</td>\n",
       "      <td>BU - BUS</td>\n",
       "      <td>7</td>\n",
       "      <td>No Data</td>\n",
       "      <td>No Data</td>\n",
       "      <td>NaN</td>\n",
       "      <td>NaN</td>\n",
       "      <td>0</td>\n",
       "      <td>0</td>\n",
       "      <td>0</td>\n",
       "      <td>1</td>\n",
       "      <td>0</td>\n",
       "      <td>0</td>\n",
       "      <td>0</td>\n",
       "      <td>1</td>\n",
       "      <td>0</td>\n",
       "    </tr>\n",
       "    <tr>\n",
       "      <th>1</th>\n",
       "      <td>0</td>\n",
       "      <td>70.0</td>\n",
       "      <td>1</td>\n",
       "      <td>1 - CLEAR</td>\n",
       "      <td>SV - SPORT UTILITY VEHICLE</td>\n",
       "      <td>32</td>\n",
       "      <td>No Data</td>\n",
       "      <td>No Data</td>\n",
       "      <td>W - WHITE</td>\n",
       "      <td>2 - FEMALE</td>\n",
       "      <td>0</td>\n",
       "      <td>0</td>\n",
       "      <td>0</td>\n",
       "      <td>1</td>\n",
       "      <td>0</td>\n",
       "      <td>0</td>\n",
       "      <td>1</td>\n",
       "      <td>0</td>\n",
       "      <td>0</td>\n",
       "    </tr>\n",
       "    <tr>\n",
       "      <th>2</th>\n",
       "      <td>1</td>\n",
       "      <td>50.0</td>\n",
       "      <td>1</td>\n",
       "      <td>2 - CLOUDY</td>\n",
       "      <td>P4 - PASSENGER CAR, 4-DOOR</td>\n",
       "      <td>NaN</td>\n",
       "      <td>No Data</td>\n",
       "      <td>97 - NOT APPLICABLE</td>\n",
       "      <td>W - WHITE</td>\n",
       "      <td>2 - FEMALE</td>\n",
       "      <td>0</td>\n",
       "      <td>0</td>\n",
       "      <td>0</td>\n",
       "      <td>1</td>\n",
       "      <td>0</td>\n",
       "      <td>0</td>\n",
       "      <td>0</td>\n",
       "      <td>0</td>\n",
       "      <td>0</td>\n",
       "    </tr>\n",
       "    <tr>\n",
       "      <th>3</th>\n",
       "      <td>0</td>\n",
       "      <td>50.0</td>\n",
       "      <td>1</td>\n",
       "      <td>1 - CLEAR</td>\n",
       "      <td>SV - SPORT UTILITY VEHICLE</td>\n",
       "      <td>40</td>\n",
       "      <td>No Data</td>\n",
       "      <td>97 - NOT APPLICABLE</td>\n",
       "      <td>B - BLACK</td>\n",
       "      <td>2 - FEMALE</td>\n",
       "      <td>0</td>\n",
       "      <td>1</td>\n",
       "      <td>0</td>\n",
       "      <td>0</td>\n",
       "      <td>0</td>\n",
       "      <td>0</td>\n",
       "      <td>0</td>\n",
       "      <td>0</td>\n",
       "      <td>0</td>\n",
       "    </tr>\n",
       "    <tr>\n",
       "      <th>4</th>\n",
       "      <td>0</td>\n",
       "      <td>40.0</td>\n",
       "      <td>1</td>\n",
       "      <td>1 - CLEAR</td>\n",
       "      <td>PK - PICKUP</td>\n",
       "      <td>NaN</td>\n",
       "      <td>No Data</td>\n",
       "      <td>97 - NOT APPLICABLE</td>\n",
       "      <td>W - WHITE</td>\n",
       "      <td>1 - MALE</td>\n",
       "      <td>0</td>\n",
       "      <td>0</td>\n",
       "      <td>0</td>\n",
       "      <td>0</td>\n",
       "      <td>1</td>\n",
       "      <td>0</td>\n",
       "      <td>0</td>\n",
       "      <td>0</td>\n",
       "      <td>0</td>\n",
       "    </tr>\n",
       "  </tbody>\n",
       "</table>\n",
       "</div>"
      ],
      "text/plain": [
       "   Crash Severity  Speed Limit  Surface Condition Weather Condition  \\\n",
       "0               0         40.0                  1         1 - CLEAR   \n",
       "1               0         70.0                  1         1 - CLEAR   \n",
       "2               1         50.0                  1        2 - CLOUDY   \n",
       "3               0         50.0                  1         1 - CLEAR   \n",
       "4               0         40.0                  1         1 - CLEAR   \n",
       "\n",
       "           Vehicle Body Style Person Age Person Alcohol Result  \\\n",
       "0                    BU - BUS          7               No Data   \n",
       "1  SV - SPORT UTILITY VEHICLE         32               No Data   \n",
       "2  P4 - PASSENGER CAR, 4-DOOR        NaN               No Data   \n",
       "3  SV - SPORT UTILITY VEHICLE         40               No Data   \n",
       "4                 PK - PICKUP        NaN               No Data   \n",
       "\n",
       "  Person Drug Test Result Person Ethnicity Person Gender  \\\n",
       "0                 No Data              NaN           NaN   \n",
       "1                 No Data        W - WHITE    2 - FEMALE   \n",
       "2     97 - NOT APPLICABLE        W - WHITE    2 - FEMALE   \n",
       "3     97 - NOT APPLICABLE        B - BLACK    2 - FEMALE   \n",
       "4     97 - NOT APPLICABLE        W - WHITE      1 - MALE   \n",
       "\n",
       "   Crash Period_Late Night  Crash Period_Early Morning  Crash Period_Morning  \\\n",
       "0                        0                           0                     0   \n",
       "1                        0                           0                     0   \n",
       "2                        0                           0                     0   \n",
       "3                        0                           1                     0   \n",
       "4                        0                           0                     0   \n",
       "\n",
       "   Crash Period_Noon  Crash Period_Evening  Manner of Collision_Angle  \\\n",
       "0                  1                     0                          0   \n",
       "1                  1                     0                          0   \n",
       "2                  1                     0                          0   \n",
       "3                  0                     0                          0   \n",
       "4                  0                     1                          0   \n",
       "\n",
       "   Manner of Collision_One motor  Manner of Collision_Opposite Direction  \\\n",
       "0                              0                                       1   \n",
       "1                              1                                       0   \n",
       "2                              0                                       0   \n",
       "3                              0                                       0   \n",
       "4                              0                                       0   \n",
       "\n",
       "   Manner of Collision_Other  \n",
       "0                          0  \n",
       "1                          0  \n",
       "2                          0  \n",
       "3                          0  \n",
       "4                          0  "
      ]
     },
     "execution_count": 597,
     "metadata": {},
     "output_type": "execute_result"
    }
   ],
   "source": [
    "X_train_2.head()"
   ]
  },
  {
   "cell_type": "markdown",
   "id": "d11de93e",
   "metadata": {},
   "source": [
    "#\n",
    "Weather Condition"
   ]
  },
  {
   "cell_type": "code",
   "execution_count": 598,
   "id": "bfd9bec2",
   "metadata": {},
   "outputs": [
    {
     "data": {
      "text/plain": [
       "Weather Condition\n",
       "1 - CLEAR                            9947\n",
       "2 - CLOUDY                           1194\n",
       "3 - RAIN                              512\n",
       "99 - UNKNOWN                           40\n",
       "6 - FOG                                 9\n",
       "98 - OTHER (EXPLAIN IN NARRATIVE)       8\n",
       "Name: count, dtype: int64"
      ]
     },
     "execution_count": 598,
     "metadata": {},
     "output_type": "execute_result"
    }
   ],
   "source": [
    "X_train_2['Weather Condition'].value_counts()"
   ]
  },
  {
   "cell_type": "code",
   "execution_count": 599,
   "id": "0ea47313",
   "metadata": {},
   "outputs": [],
   "source": [
    "# sum NAs\n",
    "sum(X_train_2['Weather Condition'].isna())\n",
    "# 1331 NAs\n",
    "\n",
    "# replace NAs with mode\n",
    "wc_mode = X_train_2['Weather Condition'].mode()[0]\n",
    "X_train_2['Weather Condition'] = X_train_2['Weather Condition'].fillna(wc_mode)"
   ]
  },
  {
   "cell_type": "code",
   "execution_count": 600,
   "id": "76771321",
   "metadata": {},
   "outputs": [],
   "source": [
    "# replace 99 - UNKNOWN and 98 - OTHER with most frequent (1 - CLEAR)\n",
    "# 99 - unknown\n",
    "X_train_2.loc[X_train_2['Weather Condition'].str.contains('99 - UNKNOWN', case = False), 'Weather Condition'] = '1 - CLEAR'\n",
    "\n",
    "# 98 - OTHER (EXPLAIN IN NARRATIVE)\n",
    "X_train_2.loc[X_train_2['Weather Condition'].str.contains('98 - OTHER ', case = False), 'Weather Condition'] = '1 - CLEAR'"
   ]
  },
  {
   "cell_type": "code",
   "execution_count": 601,
   "metadata": {},
   "outputs": [
    {
     "data": {
      "text/plain": [
       "Weather Condition\n",
       "1 - CLEAR     11326\n",
       "2 - CLOUDY     1194\n",
       "3 - RAIN        512\n",
       "6 - FOG           9\n",
       "Name: count, dtype: int64"
      ]
     },
     "execution_count": 601,
     "metadata": {},
     "output_type": "execute_result"
    }
   ],
   "source": [
    "X_train_2['Weather Condition'].value_counts()"
   ]
  },
  {
   "cell_type": "code",
   "execution_count": 602,
   "id": "0cc8e699",
   "metadata": {},
   "outputs": [],
   "source": [
    "# map into clear, cloudy and rain/fog\n",
    "weather_dict = {'1 - CLEAR': 0,\n",
    "                '2 - CLOUDY':1,\n",
    "                '3 - RAIN': 2,\n",
    "                '6 - FOG': 2}\n",
    "\n",
    "# # apply mapping dictionary\n",
    "X_train_2['Weather Condition'] = X_train_2['Weather Condition'].map(weather_dict)"
   ]
  },
  {
   "cell_type": "markdown",
   "id": "3e6a39a1",
   "metadata": {},
   "source": [
    "#\n",
    "Vehicle Body Style"
   ]
  },
  {
   "cell_type": "code",
   "execution_count": 603,
   "id": "acd2a5ca",
   "metadata": {},
   "outputs": [
    {
     "data": {
      "text/plain": [
       "Vehicle Body Style\n",
       "P4 - PASSENGER CAR, 4-DOOR                     4336\n",
       "SV - SPORT UTILITY VEHICLE                     3301\n",
       "PK - PICKUP                                    1855\n",
       "VN - VAN                                        466\n",
       "P2 - PASSENGER CAR, 2-DOOR                      440\n",
       "99 - UNKNOWN                                    330\n",
       "TR - TRUCK                                      300\n",
       "TT - TRUCK TRACTOR                              204\n",
       "MC - MOTORCYCLE                                 100\n",
       "SB - YELLOW SCHOOL BUS                           98\n",
       "BU - BUS                                         98\n",
       "No Data                                          91\n",
       "98 - OTHER  (EXPLAIN IN NARRATIVE)               28\n",
       "FT - FIRE TRUCK                                  24\n",
       "PC - POLICE CAR/TRUCK                            23\n",
       "AM - AMBULANCE                                   13\n",
       "EV - NEV-NEIGHBORHOOD ELECTRIC VEHICLE            9\n",
       "TL - TRAILER, SEMI-TRAILER, OR POLE TRAILER       3\n",
       "Name: count, dtype: int64"
      ]
     },
     "execution_count": 603,
     "metadata": {},
     "output_type": "execute_result"
    }
   ],
   "source": [
    "# unique values\n",
    "X_train_2['Vehicle Body Style'].unique()\n",
    "# 19 unique values\n",
    "\n",
    "# value counts\n",
    "X_train_2['Vehicle Body Style'].value_counts()\n",
    "\n",
    "# check for NAs\n",
    "# sum(X_train_2['Vehicle Body Style'].isna())\n",
    "# 1322 NAs\n",
    "# outside 330 '99 - UNKNOWN', 91 'No data' and 28 '98 - OTHER...'"
   ]
  },
  {
   "cell_type": "markdown",
   "metadata": {},
   "source": [
    "We opted to drop the Vehicle Body Style column. This is to avoid increasing the dimension of the dataset signficantly if we one-hot encode this column. Filling the NAs was also a challenge."
   ]
  },
  {
   "cell_type": "code",
   "execution_count": 604,
   "id": "07ffcfe9",
   "metadata": {},
   "outputs": [],
   "source": [
    "# For now, drop column Vehicle Body Style\n",
    "X_train_2.drop(columns = ['Vehicle Body Style'], axis = 1, inplace= True)"
   ]
  },
  {
   "cell_type": "markdown",
   "id": "c06ea98d",
   "metadata": {},
   "source": [
    "#\n",
    "Person Age"
   ]
  },
  {
   "cell_type": "code",
   "execution_count": 605,
   "id": "06d26e9d",
   "metadata": {},
   "outputs": [
    {
     "data": {
      "text/plain": [
       "Person Age\n",
       "No Data    660\n",
       "18         366\n",
       "19         352\n",
       "20         320\n",
       "23         318\n",
       "          ... \n",
       "91           2\n",
       "96           1\n",
       "95           1\n",
       "99           1\n",
       "93           1\n",
       "Name: count, Length: 97, dtype: int64"
      ]
     },
     "execution_count": 605,
     "metadata": {},
     "output_type": "execute_result"
    }
   ],
   "source": [
    "# NAs\n",
    "sum(X_train_2['Person Age'].isna())\n",
    "# 1278 NAs\n",
    "\n",
    "# value_count\n",
    "X_train_2['Person Age'].value_counts()\n",
    "# 660 No data"
   ]
  },
  {
   "cell_type": "markdown",
   "metadata": {},
   "source": [
    "There are 1278 NAs and 660 No Data in the Person Age column. We thus chose the drop this column as filling missing data with mean, median or most frequent would skew the dataset. "
   ]
  },
  {
   "cell_type": "code",
   "execution_count": 606,
   "id": "0b886474",
   "metadata": {},
   "outputs": [],
   "source": [
    "# For now, drop column Person Age\n",
    "# 1938 missing data \n",
    "\n",
    "X_train_2.drop(columns = ['Person Age'], axis = 1, inplace= True)"
   ]
  },
  {
   "cell_type": "markdown",
   "id": "e5492245",
   "metadata": {},
   "source": [
    "#\n",
    "Person Alcohol Result"
   ]
  },
  {
   "cell_type": "code",
   "execution_count": 607,
   "id": "fbd00730",
   "metadata": {},
   "outputs": [
    {
     "data": {
      "text/plain": [
       "Person Alcohol Result\n",
       "No Data         11736\n",
       "1 - POSITIVE       24\n",
       "2 - NEGATIVE        7\n",
       "Name: count, dtype: int64"
      ]
     },
     "execution_count": 607,
     "metadata": {},
     "output_type": "execute_result"
    }
   ],
   "source": [
    "# NAs\n",
    "sum(X_train_2['Person Alcohol Result'].isna())\n",
    "# 1274 NAs\n",
    "\n",
    "# value_count\n",
    "X_train_2['Person Alcohol Result'].value_counts()\n",
    "# 11736 No data (90% of data)"
   ]
  },
  {
   "cell_type": "code",
   "execution_count": 608,
   "metadata": {},
   "outputs": [
    {
     "data": {
      "text/plain": [
       "13041"
      ]
     },
     "execution_count": 608,
     "metadata": {},
     "output_type": "execute_result"
    }
   ],
   "source": [
    "len(X_train_2['Person Alcohol Result'])"
   ]
  },
  {
   "cell_type": "markdown",
   "metadata": {},
   "source": [
    "Although missing data (No Data and NAs) makes up 99.76% of the Person Alcohol Result column, we still choose to keep this column due to the importance of a person's alcohol level in the occurence of an accident and its possible severity. "
   ]
  },
  {
   "cell_type": "code",
   "execution_count": 609,
   "id": "9fde8a5d",
   "metadata": {},
   "outputs": [],
   "source": [
    "# use a np.where and assign No Data/Negative as 1 and 1 - Positive as 0\n",
    "# This is because positive alcohol result is very likely to influence the severity of accident\n",
    "# and hence, the lenght of time it takes to clear the site.\n",
    "\n",
    "X_train_2['Person Alcohol Result'] = np.where(X_train_2['Person Alcohol Result'] == '1 - POSITIVE', 0,1)"
   ]
  },
  {
   "cell_type": "code",
   "execution_count": 610,
   "id": "c467da44",
   "metadata": {},
   "outputs": [
    {
     "data": {
      "text/html": [
       "<div>\n",
       "<style scoped>\n",
       "    .dataframe tbody tr th:only-of-type {\n",
       "        vertical-align: middle;\n",
       "    }\n",
       "\n",
       "    .dataframe tbody tr th {\n",
       "        vertical-align: top;\n",
       "    }\n",
       "\n",
       "    .dataframe thead th {\n",
       "        text-align: right;\n",
       "    }\n",
       "</style>\n",
       "<table border=\"1\" class=\"dataframe\">\n",
       "  <thead>\n",
       "    <tr style=\"text-align: right;\">\n",
       "      <th></th>\n",
       "      <th>Crash Severity</th>\n",
       "      <th>Speed Limit</th>\n",
       "      <th>Surface Condition</th>\n",
       "      <th>Weather Condition</th>\n",
       "      <th>Person Alcohol Result</th>\n",
       "      <th>Person Drug Test Result</th>\n",
       "      <th>Person Ethnicity</th>\n",
       "      <th>Person Gender</th>\n",
       "      <th>Crash Period_Late Night</th>\n",
       "      <th>Crash Period_Early Morning</th>\n",
       "      <th>Crash Period_Morning</th>\n",
       "      <th>Crash Period_Noon</th>\n",
       "      <th>Crash Period_Evening</th>\n",
       "      <th>Manner of Collision_Angle</th>\n",
       "      <th>Manner of Collision_One motor</th>\n",
       "      <th>Manner of Collision_Opposite Direction</th>\n",
       "      <th>Manner of Collision_Other</th>\n",
       "    </tr>\n",
       "  </thead>\n",
       "  <tbody>\n",
       "    <tr>\n",
       "      <th>0</th>\n",
       "      <td>0</td>\n",
       "      <td>40.0</td>\n",
       "      <td>1</td>\n",
       "      <td>0</td>\n",
       "      <td>1</td>\n",
       "      <td>No Data</td>\n",
       "      <td>NaN</td>\n",
       "      <td>NaN</td>\n",
       "      <td>0</td>\n",
       "      <td>0</td>\n",
       "      <td>0</td>\n",
       "      <td>1</td>\n",
       "      <td>0</td>\n",
       "      <td>0</td>\n",
       "      <td>0</td>\n",
       "      <td>1</td>\n",
       "      <td>0</td>\n",
       "    </tr>\n",
       "    <tr>\n",
       "      <th>1</th>\n",
       "      <td>0</td>\n",
       "      <td>70.0</td>\n",
       "      <td>1</td>\n",
       "      <td>0</td>\n",
       "      <td>1</td>\n",
       "      <td>No Data</td>\n",
       "      <td>W - WHITE</td>\n",
       "      <td>2 - FEMALE</td>\n",
       "      <td>0</td>\n",
       "      <td>0</td>\n",
       "      <td>0</td>\n",
       "      <td>1</td>\n",
       "      <td>0</td>\n",
       "      <td>0</td>\n",
       "      <td>1</td>\n",
       "      <td>0</td>\n",
       "      <td>0</td>\n",
       "    </tr>\n",
       "    <tr>\n",
       "      <th>2</th>\n",
       "      <td>1</td>\n",
       "      <td>50.0</td>\n",
       "      <td>1</td>\n",
       "      <td>1</td>\n",
       "      <td>1</td>\n",
       "      <td>97 - NOT APPLICABLE</td>\n",
       "      <td>W - WHITE</td>\n",
       "      <td>2 - FEMALE</td>\n",
       "      <td>0</td>\n",
       "      <td>0</td>\n",
       "      <td>0</td>\n",
       "      <td>1</td>\n",
       "      <td>0</td>\n",
       "      <td>0</td>\n",
       "      <td>0</td>\n",
       "      <td>0</td>\n",
       "      <td>0</td>\n",
       "    </tr>\n",
       "    <tr>\n",
       "      <th>3</th>\n",
       "      <td>0</td>\n",
       "      <td>50.0</td>\n",
       "      <td>1</td>\n",
       "      <td>0</td>\n",
       "      <td>1</td>\n",
       "      <td>97 - NOT APPLICABLE</td>\n",
       "      <td>B - BLACK</td>\n",
       "      <td>2 - FEMALE</td>\n",
       "      <td>0</td>\n",
       "      <td>1</td>\n",
       "      <td>0</td>\n",
       "      <td>0</td>\n",
       "      <td>0</td>\n",
       "      <td>0</td>\n",
       "      <td>0</td>\n",
       "      <td>0</td>\n",
       "      <td>0</td>\n",
       "    </tr>\n",
       "    <tr>\n",
       "      <th>4</th>\n",
       "      <td>0</td>\n",
       "      <td>40.0</td>\n",
       "      <td>1</td>\n",
       "      <td>0</td>\n",
       "      <td>1</td>\n",
       "      <td>97 - NOT APPLICABLE</td>\n",
       "      <td>W - WHITE</td>\n",
       "      <td>1 - MALE</td>\n",
       "      <td>0</td>\n",
       "      <td>0</td>\n",
       "      <td>0</td>\n",
       "      <td>0</td>\n",
       "      <td>1</td>\n",
       "      <td>0</td>\n",
       "      <td>0</td>\n",
       "      <td>0</td>\n",
       "      <td>0</td>\n",
       "    </tr>\n",
       "  </tbody>\n",
       "</table>\n",
       "</div>"
      ],
      "text/plain": [
       "   Crash Severity  Speed Limit  Surface Condition  Weather Condition  \\\n",
       "0               0         40.0                  1                  0   \n",
       "1               0         70.0                  1                  0   \n",
       "2               1         50.0                  1                  1   \n",
       "3               0         50.0                  1                  0   \n",
       "4               0         40.0                  1                  0   \n",
       "\n",
       "   Person Alcohol Result Person Drug Test Result Person Ethnicity  \\\n",
       "0                      1                 No Data              NaN   \n",
       "1                      1                 No Data        W - WHITE   \n",
       "2                      1     97 - NOT APPLICABLE        W - WHITE   \n",
       "3                      1     97 - NOT APPLICABLE        B - BLACK   \n",
       "4                      1     97 - NOT APPLICABLE        W - WHITE   \n",
       "\n",
       "  Person Gender  Crash Period_Late Night  Crash Period_Early Morning  \\\n",
       "0           NaN                        0                           0   \n",
       "1    2 - FEMALE                        0                           0   \n",
       "2    2 - FEMALE                        0                           0   \n",
       "3    2 - FEMALE                        0                           1   \n",
       "4      1 - MALE                        0                           0   \n",
       "\n",
       "   Crash Period_Morning  Crash Period_Noon  Crash Period_Evening  \\\n",
       "0                     0                  1                     0   \n",
       "1                     0                  1                     0   \n",
       "2                     0                  1                     0   \n",
       "3                     0                  0                     0   \n",
       "4                     0                  0                     1   \n",
       "\n",
       "   Manner of Collision_Angle  Manner of Collision_One motor  \\\n",
       "0                          0                              0   \n",
       "1                          0                              1   \n",
       "2                          0                              0   \n",
       "3                          0                              0   \n",
       "4                          0                              0   \n",
       "\n",
       "   Manner of Collision_Opposite Direction  Manner of Collision_Other  \n",
       "0                                       1                          0  \n",
       "1                                       0                          0  \n",
       "2                                       0                          0  \n",
       "3                                       0                          0  \n",
       "4                                       0                          0  "
      ]
     },
     "execution_count": 610,
     "metadata": {},
     "output_type": "execute_result"
    }
   ],
   "source": [
    "X_train_2.head()"
   ]
  },
  {
   "cell_type": "markdown",
   "id": "26f262e3",
   "metadata": {},
   "source": [
    "#\n",
    "Person Drug Test Result"
   ]
  },
  {
   "cell_type": "code",
   "execution_count": 611,
   "id": "3e6398e6",
   "metadata": {},
   "outputs": [
    {
     "data": {
      "text/plain": [
       "Person Drug Test Result\n",
       "97 - NOT APPLICABLE    8418\n",
       "No Data                3210\n",
       "99 - UNKNOWN             85\n",
       "2 - NEGATIVE              4\n",
       "1 - POSITIVE              1\n",
       "Name: count, dtype: int64"
      ]
     },
     "execution_count": 611,
     "metadata": {},
     "output_type": "execute_result"
    }
   ],
   "source": [
    "# value_count\n",
    "X_train_2['Person Drug Test Result'].value_counts()\n",
    "# 97 - NOT APPLICABLE: 8418\n",
    "# No Data: 3210\n",
    "# 99 - UNKNOWN: 85\n",
    "# 2 - Negative: 4\n",
    "\n",
    "# NAs\n",
    "# sum(X_train_2['Person Drug Test Result'].isna())\n",
    "# 1323 NAs\n",
    "\n",
    "# Not applicable, No data, Unknown, NA total: 13036 (99.96% of data)\n",
    "\n",
    "# Only 1 positive data"
   ]
  },
  {
   "cell_type": "markdown",
   "metadata": {},
   "source": [
    "There are only 1 positive data in this column. We thus chosse to drop the column."
   ]
  },
  {
   "cell_type": "code",
   "execution_count": 612,
   "id": "ae408248",
   "metadata": {},
   "outputs": [],
   "source": [
    "# Decsion: Drop column: only 1 positive result\n",
    "# drop column - ['Person Drug Test Result']\n",
    "X_train_2.drop(columns = 'Person Drug Test Result', axis = 1, inplace = True)\n"
   ]
  },
  {
   "cell_type": "markdown",
   "id": "413ca277",
   "metadata": {},
   "source": [
    "# \n",
    "Person Ethnicity"
   ]
  },
  {
   "cell_type": "code",
   "execution_count": 613,
   "id": "3a1e2d53",
   "metadata": {},
   "outputs": [
    {
     "data": {
      "text/plain": [
       "Person Ethnicity\n",
       "W - WHITE                          5533\n",
       "H - HISPANIC                       2552\n",
       "B - BLACK                          1821\n",
       "A - ASIAN                           957\n",
       "99 - UNKNOWN                        695\n",
       "I - AMER. INDIAN/ALASKAN NATIVE     100\n",
       "98 - OTHER                           64\n",
       "No Data                              54\n",
       "Name: count, dtype: int64"
      ]
     },
     "execution_count": 613,
     "metadata": {},
     "output_type": "execute_result"
    }
   ],
   "source": [
    "# NAs\n",
    "sum(X_train_2['Person Ethnicity'].isna())\n",
    "# 1265 NAs\n",
    "\n",
    "# value_count\n",
    "X_train_2['Person Ethnicity'].value_counts()"
   ]
  },
  {
   "cell_type": "markdown",
   "metadata": {},
   "source": [
    "We chose to fill NAs with the most frequent category, which is White. We also filled instance of '99 - UNKNOWN', '98 - OTHER' and No Data with the most frequent category. We then grouped Asian and Amer. Indian/Alaskan Native as Others."
   ]
  },
  {
   "cell_type": "code",
   "execution_count": 614,
   "metadata": {},
   "outputs": [],
   "source": [
    "# fill NAs with most frequent - White\n",
    "X_train_2['Person Ethnicity'] = X_train_2['Person Ethnicity'].fillna('White')"
   ]
  },
  {
   "cell_type": "code",
   "execution_count": 615,
   "metadata": {},
   "outputs": [],
   "source": [
    "# W - WHITE\n",
    "X_train_2.loc[X_train_2['Person Ethnicity'].str.contains('W - WHITE', case = False), 'Person Ethnicity'] = 'White'\n",
    "\n",
    "# H - HISPANIC\n",
    "X_train_2.loc[X_train_2['Person Ethnicity'].str.contains('H - HISPANIC', case = False), 'Person Ethnicity'] = 'Hispanic'\n",
    "\n",
    "# B - BLACK\n",
    "X_train_2.loc[X_train_2['Person Ethnicity'].str.contains('B - BLACK', case = False), 'Person Ethnicity'] = 'Black'\n",
    "\n",
    "# A - ASIAN\n",
    "X_train_2.loc[X_train_2['Person Ethnicity'].str.contains('A - ASIAN', case = False), 'Person Ethnicity'] = 'Asian_AmerIndian'\n",
    "\n",
    "# 99 - UNKNOWN\n",
    "X_train_2.loc[X_train_2['Person Ethnicity'].str.contains('99 - UNKNOWN', case = False), 'Person Ethnicity'] = 'White'\n",
    "\n",
    "# I - AMER. INDIAN/ALASKAN NATIVE \n",
    "X_train_2.loc[X_train_2['Person Ethnicity'].str.contains('I - AMER. INDIAN/ALASKAN NATIVE', case = False), 'Person Ethnicity'] = 'Asian_AmerIndian'\n",
    "\n",
    "# 98 - OTHER\n",
    "X_train_2.loc[X_train_2['Person Ethnicity'].str.contains('98 - OTHER', case = False), 'Person Ethnicity'] = 'White'\n",
    "\n",
    "# No Data \n",
    "X_train_2.loc[X_train_2['Person Ethnicity'].str.contains('No Data', case = False), 'Person Ethnicity'] = 'White'"
   ]
  },
  {
   "cell_type": "code",
   "execution_count": 616,
   "metadata": {},
   "outputs": [
    {
     "data": {
      "text/html": [
       "<div>\n",
       "<style scoped>\n",
       "    .dataframe tbody tr th:only-of-type {\n",
       "        vertical-align: middle;\n",
       "    }\n",
       "\n",
       "    .dataframe tbody tr th {\n",
       "        vertical-align: top;\n",
       "    }\n",
       "\n",
       "    .dataframe thead th {\n",
       "        text-align: right;\n",
       "    }\n",
       "</style>\n",
       "<table border=\"1\" class=\"dataframe\">\n",
       "  <thead>\n",
       "    <tr style=\"text-align: right;\">\n",
       "      <th></th>\n",
       "      <th>Crash Severity</th>\n",
       "      <th>Speed Limit</th>\n",
       "      <th>Surface Condition</th>\n",
       "      <th>Weather Condition</th>\n",
       "      <th>Person Alcohol Result</th>\n",
       "      <th>Person Ethnicity</th>\n",
       "      <th>Person Gender</th>\n",
       "      <th>Crash Period_Late Night</th>\n",
       "      <th>Crash Period_Early Morning</th>\n",
       "      <th>Crash Period_Morning</th>\n",
       "      <th>Crash Period_Noon</th>\n",
       "      <th>Crash Period_Evening</th>\n",
       "      <th>Manner of Collision_Angle</th>\n",
       "      <th>Manner of Collision_One motor</th>\n",
       "      <th>Manner of Collision_Opposite Direction</th>\n",
       "      <th>Manner of Collision_Other</th>\n",
       "    </tr>\n",
       "  </thead>\n",
       "  <tbody>\n",
       "    <tr>\n",
       "      <th>0</th>\n",
       "      <td>0</td>\n",
       "      <td>40.0</td>\n",
       "      <td>1</td>\n",
       "      <td>0</td>\n",
       "      <td>1</td>\n",
       "      <td>White</td>\n",
       "      <td>NaN</td>\n",
       "      <td>0</td>\n",
       "      <td>0</td>\n",
       "      <td>0</td>\n",
       "      <td>1</td>\n",
       "      <td>0</td>\n",
       "      <td>0</td>\n",
       "      <td>0</td>\n",
       "      <td>1</td>\n",
       "      <td>0</td>\n",
       "    </tr>\n",
       "    <tr>\n",
       "      <th>1</th>\n",
       "      <td>0</td>\n",
       "      <td>70.0</td>\n",
       "      <td>1</td>\n",
       "      <td>0</td>\n",
       "      <td>1</td>\n",
       "      <td>White</td>\n",
       "      <td>2 - FEMALE</td>\n",
       "      <td>0</td>\n",
       "      <td>0</td>\n",
       "      <td>0</td>\n",
       "      <td>1</td>\n",
       "      <td>0</td>\n",
       "      <td>0</td>\n",
       "      <td>1</td>\n",
       "      <td>0</td>\n",
       "      <td>0</td>\n",
       "    </tr>\n",
       "    <tr>\n",
       "      <th>2</th>\n",
       "      <td>1</td>\n",
       "      <td>50.0</td>\n",
       "      <td>1</td>\n",
       "      <td>1</td>\n",
       "      <td>1</td>\n",
       "      <td>White</td>\n",
       "      <td>2 - FEMALE</td>\n",
       "      <td>0</td>\n",
       "      <td>0</td>\n",
       "      <td>0</td>\n",
       "      <td>1</td>\n",
       "      <td>0</td>\n",
       "      <td>0</td>\n",
       "      <td>0</td>\n",
       "      <td>0</td>\n",
       "      <td>0</td>\n",
       "    </tr>\n",
       "    <tr>\n",
       "      <th>3</th>\n",
       "      <td>0</td>\n",
       "      <td>50.0</td>\n",
       "      <td>1</td>\n",
       "      <td>0</td>\n",
       "      <td>1</td>\n",
       "      <td>Black</td>\n",
       "      <td>2 - FEMALE</td>\n",
       "      <td>0</td>\n",
       "      <td>1</td>\n",
       "      <td>0</td>\n",
       "      <td>0</td>\n",
       "      <td>0</td>\n",
       "      <td>0</td>\n",
       "      <td>0</td>\n",
       "      <td>0</td>\n",
       "      <td>0</td>\n",
       "    </tr>\n",
       "    <tr>\n",
       "      <th>4</th>\n",
       "      <td>0</td>\n",
       "      <td>40.0</td>\n",
       "      <td>1</td>\n",
       "      <td>0</td>\n",
       "      <td>1</td>\n",
       "      <td>White</td>\n",
       "      <td>1 - MALE</td>\n",
       "      <td>0</td>\n",
       "      <td>0</td>\n",
       "      <td>0</td>\n",
       "      <td>0</td>\n",
       "      <td>1</td>\n",
       "      <td>0</td>\n",
       "      <td>0</td>\n",
       "      <td>0</td>\n",
       "      <td>0</td>\n",
       "    </tr>\n",
       "  </tbody>\n",
       "</table>\n",
       "</div>"
      ],
      "text/plain": [
       "   Crash Severity  Speed Limit  Surface Condition  Weather Condition  \\\n",
       "0               0         40.0                  1                  0   \n",
       "1               0         70.0                  1                  0   \n",
       "2               1         50.0                  1                  1   \n",
       "3               0         50.0                  1                  0   \n",
       "4               0         40.0                  1                  0   \n",
       "\n",
       "   Person Alcohol Result Person Ethnicity Person Gender  \\\n",
       "0                      1            White           NaN   \n",
       "1                      1            White    2 - FEMALE   \n",
       "2                      1            White    2 - FEMALE   \n",
       "3                      1            Black    2 - FEMALE   \n",
       "4                      1            White      1 - MALE   \n",
       "\n",
       "   Crash Period_Late Night  Crash Period_Early Morning  Crash Period_Morning  \\\n",
       "0                        0                           0                     0   \n",
       "1                        0                           0                     0   \n",
       "2                        0                           0                     0   \n",
       "3                        0                           1                     0   \n",
       "4                        0                           0                     0   \n",
       "\n",
       "   Crash Period_Noon  Crash Period_Evening  Manner of Collision_Angle  \\\n",
       "0                  1                     0                          0   \n",
       "1                  1                     0                          0   \n",
       "2                  1                     0                          0   \n",
       "3                  0                     0                          0   \n",
       "4                  0                     1                          0   \n",
       "\n",
       "   Manner of Collision_One motor  Manner of Collision_Opposite Direction  \\\n",
       "0                              0                                       1   \n",
       "1                              1                                       0   \n",
       "2                              0                                       0   \n",
       "3                              0                                       0   \n",
       "4                              0                                       0   \n",
       "\n",
       "   Manner of Collision_Other  \n",
       "0                          0  \n",
       "1                          0  \n",
       "2                          0  \n",
       "3                          0  \n",
       "4                          0  "
      ]
     },
     "execution_count": 616,
     "metadata": {},
     "output_type": "execute_result"
    }
   ],
   "source": [
    "X_train_2.head()"
   ]
  },
  {
   "cell_type": "markdown",
   "metadata": {},
   "source": [
    "We one-hot encode this column and dropped Person Ethnicity_Others as the reference dummy variable."
   ]
  },
  {
   "cell_type": "code",
   "execution_count": 617,
   "metadata": {},
   "outputs": [],
   "source": [
    "# one hot encode 'Person Ethnicity' column\n",
    "X_train_2 = pd.get_dummies(X_train_2, columns = ['Person Ethnicity'], dtype= 'int')\n",
    "\n",
    "# drop Person Ethnicity_Asian_AmerIndian - regression\n",
    "X_train_2 = X_train_2.drop(columns='Person Ethnicity_Asian_AmerIndian', axis = 1)"
   ]
  },
  {
   "cell_type": "code",
   "execution_count": 618,
   "metadata": {},
   "outputs": [
    {
     "data": {
      "text/html": [
       "<div>\n",
       "<style scoped>\n",
       "    .dataframe tbody tr th:only-of-type {\n",
       "        vertical-align: middle;\n",
       "    }\n",
       "\n",
       "    .dataframe tbody tr th {\n",
       "        vertical-align: top;\n",
       "    }\n",
       "\n",
       "    .dataframe thead th {\n",
       "        text-align: right;\n",
       "    }\n",
       "</style>\n",
       "<table border=\"1\" class=\"dataframe\">\n",
       "  <thead>\n",
       "    <tr style=\"text-align: right;\">\n",
       "      <th></th>\n",
       "      <th>Crash Severity</th>\n",
       "      <th>Speed Limit</th>\n",
       "      <th>Surface Condition</th>\n",
       "      <th>Weather Condition</th>\n",
       "      <th>Person Alcohol Result</th>\n",
       "      <th>Person Gender</th>\n",
       "      <th>Crash Period_Late Night</th>\n",
       "      <th>Crash Period_Early Morning</th>\n",
       "      <th>Crash Period_Morning</th>\n",
       "      <th>Crash Period_Noon</th>\n",
       "      <th>Crash Period_Evening</th>\n",
       "      <th>Manner of Collision_Angle</th>\n",
       "      <th>Manner of Collision_One motor</th>\n",
       "      <th>Manner of Collision_Opposite Direction</th>\n",
       "      <th>Manner of Collision_Other</th>\n",
       "      <th>Person Ethnicity_Black</th>\n",
       "      <th>Person Ethnicity_Hispanic</th>\n",
       "      <th>Person Ethnicity_White</th>\n",
       "    </tr>\n",
       "  </thead>\n",
       "  <tbody>\n",
       "    <tr>\n",
       "      <th>0</th>\n",
       "      <td>0</td>\n",
       "      <td>40.0</td>\n",
       "      <td>1</td>\n",
       "      <td>0</td>\n",
       "      <td>1</td>\n",
       "      <td>NaN</td>\n",
       "      <td>0</td>\n",
       "      <td>0</td>\n",
       "      <td>0</td>\n",
       "      <td>1</td>\n",
       "      <td>0</td>\n",
       "      <td>0</td>\n",
       "      <td>0</td>\n",
       "      <td>1</td>\n",
       "      <td>0</td>\n",
       "      <td>0</td>\n",
       "      <td>0</td>\n",
       "      <td>1</td>\n",
       "    </tr>\n",
       "    <tr>\n",
       "      <th>1</th>\n",
       "      <td>0</td>\n",
       "      <td>70.0</td>\n",
       "      <td>1</td>\n",
       "      <td>0</td>\n",
       "      <td>1</td>\n",
       "      <td>2 - FEMALE</td>\n",
       "      <td>0</td>\n",
       "      <td>0</td>\n",
       "      <td>0</td>\n",
       "      <td>1</td>\n",
       "      <td>0</td>\n",
       "      <td>0</td>\n",
       "      <td>1</td>\n",
       "      <td>0</td>\n",
       "      <td>0</td>\n",
       "      <td>0</td>\n",
       "      <td>0</td>\n",
       "      <td>1</td>\n",
       "    </tr>\n",
       "    <tr>\n",
       "      <th>2</th>\n",
       "      <td>1</td>\n",
       "      <td>50.0</td>\n",
       "      <td>1</td>\n",
       "      <td>1</td>\n",
       "      <td>1</td>\n",
       "      <td>2 - FEMALE</td>\n",
       "      <td>0</td>\n",
       "      <td>0</td>\n",
       "      <td>0</td>\n",
       "      <td>1</td>\n",
       "      <td>0</td>\n",
       "      <td>0</td>\n",
       "      <td>0</td>\n",
       "      <td>0</td>\n",
       "      <td>0</td>\n",
       "      <td>0</td>\n",
       "      <td>0</td>\n",
       "      <td>1</td>\n",
       "    </tr>\n",
       "    <tr>\n",
       "      <th>3</th>\n",
       "      <td>0</td>\n",
       "      <td>50.0</td>\n",
       "      <td>1</td>\n",
       "      <td>0</td>\n",
       "      <td>1</td>\n",
       "      <td>2 - FEMALE</td>\n",
       "      <td>0</td>\n",
       "      <td>1</td>\n",
       "      <td>0</td>\n",
       "      <td>0</td>\n",
       "      <td>0</td>\n",
       "      <td>0</td>\n",
       "      <td>0</td>\n",
       "      <td>0</td>\n",
       "      <td>0</td>\n",
       "      <td>1</td>\n",
       "      <td>0</td>\n",
       "      <td>0</td>\n",
       "    </tr>\n",
       "    <tr>\n",
       "      <th>4</th>\n",
       "      <td>0</td>\n",
       "      <td>40.0</td>\n",
       "      <td>1</td>\n",
       "      <td>0</td>\n",
       "      <td>1</td>\n",
       "      <td>1 - MALE</td>\n",
       "      <td>0</td>\n",
       "      <td>0</td>\n",
       "      <td>0</td>\n",
       "      <td>0</td>\n",
       "      <td>1</td>\n",
       "      <td>0</td>\n",
       "      <td>0</td>\n",
       "      <td>0</td>\n",
       "      <td>0</td>\n",
       "      <td>0</td>\n",
       "      <td>0</td>\n",
       "      <td>1</td>\n",
       "    </tr>\n",
       "  </tbody>\n",
       "</table>\n",
       "</div>"
      ],
      "text/plain": [
       "   Crash Severity  Speed Limit  Surface Condition  Weather Condition  \\\n",
       "0               0         40.0                  1                  0   \n",
       "1               0         70.0                  1                  0   \n",
       "2               1         50.0                  1                  1   \n",
       "3               0         50.0                  1                  0   \n",
       "4               0         40.0                  1                  0   \n",
       "\n",
       "   Person Alcohol Result Person Gender  Crash Period_Late Night  \\\n",
       "0                      1           NaN                        0   \n",
       "1                      1    2 - FEMALE                        0   \n",
       "2                      1    2 - FEMALE                        0   \n",
       "3                      1    2 - FEMALE                        0   \n",
       "4                      1      1 - MALE                        0   \n",
       "\n",
       "   Crash Period_Early Morning  Crash Period_Morning  Crash Period_Noon  \\\n",
       "0                           0                     0                  1   \n",
       "1                           0                     0                  1   \n",
       "2                           0                     0                  1   \n",
       "3                           1                     0                  0   \n",
       "4                           0                     0                  0   \n",
       "\n",
       "   Crash Period_Evening  Manner of Collision_Angle  \\\n",
       "0                     0                          0   \n",
       "1                     0                          0   \n",
       "2                     0                          0   \n",
       "3                     0                          0   \n",
       "4                     1                          0   \n",
       "\n",
       "   Manner of Collision_One motor  Manner of Collision_Opposite Direction  \\\n",
       "0                              0                                       1   \n",
       "1                              1                                       0   \n",
       "2                              0                                       0   \n",
       "3                              0                                       0   \n",
       "4                              0                                       0   \n",
       "\n",
       "   Manner of Collision_Other  Person Ethnicity_Black  \\\n",
       "0                          0                       0   \n",
       "1                          0                       0   \n",
       "2                          0                       0   \n",
       "3                          0                       1   \n",
       "4                          0                       0   \n",
       "\n",
       "   Person Ethnicity_Hispanic  Person Ethnicity_White  \n",
       "0                          0                       1  \n",
       "1                          0                       1  \n",
       "2                          0                       1  \n",
       "3                          0                       0  \n",
       "4                          0                       1  "
      ]
     },
     "execution_count": 618,
     "metadata": {},
     "output_type": "execute_result"
    }
   ],
   "source": [
    "X_train_2.head()"
   ]
  },
  {
   "cell_type": "markdown",
   "id": "9db0074c",
   "metadata": {},
   "source": [
    "#\n",
    "Person Gender"
   ]
  },
  {
   "cell_type": "code",
   "execution_count": 619,
   "id": "65ed9355",
   "metadata": {},
   "outputs": [
    {
     "data": {
      "text/plain": [
       "Person Gender\n",
       "1 - MALE        6168\n",
       "2 - FEMALE      5013\n",
       "99 - UNKNOWN     576\n",
       "Name: count, dtype: int64"
      ]
     },
     "execution_count": 619,
     "metadata": {},
     "output_type": "execute_result"
    }
   ],
   "source": [
    "# NAs\n",
    "sum(X_train_2['Person Gender'].isna())\n",
    "# 1284 NAs\n",
    "\n",
    "# value_count\n",
    "X_train_2['Person Gender'].value_counts()\n",
    "# 1 - MALE        6168\n",
    "# 2 - FEMALE      5013\n",
    "# 99 - UNKNOWN     576"
   ]
  },
  {
   "cell_type": "markdown",
   "metadata": {},
   "source": [
    "We replace the NAs and '99 - UNKNOWN' with the most frequent variable, which is Male. "
   ]
  },
  {
   "cell_type": "code",
   "execution_count": 620,
   "metadata": {},
   "outputs": [],
   "source": [
    "# fill NAs with Others\n",
    "X_train_2['Person Gender'] = X_train_2['Person Gender'].fillna('Male')\n",
    "\n",
    "# 1 - MALE\n",
    "X_train_2.loc[X_train_2['Person Gender'].str.contains('1 - MALE', case = False), 'Person Gender'] = 'Male'\n",
    "\n",
    "# 2 - FEMALE\n",
    "X_train_2.loc[X_train_2['Person Gender'].str.contains('2 - FEMALE', case = False), 'Person Gender'] = 'Female'\n",
    "\n",
    "# 99 - UNKNOWN\n",
    "X_train_2.loc[X_train_2['Person Gender'].str.contains('99 - UNKNOWN', case = False), 'Person Gender'] = 'Male'"
   ]
  },
  {
   "cell_type": "code",
   "execution_count": 621,
   "metadata": {},
   "outputs": [
    {
     "data": {
      "text/plain": [
       "Person Gender\n",
       "Male      8028\n",
       "Female    5013\n",
       "Name: count, dtype: int64"
      ]
     },
     "execution_count": 621,
     "metadata": {},
     "output_type": "execute_result"
    }
   ],
   "source": [
    "X_train_2['Person Gender'].value_counts()"
   ]
  },
  {
   "cell_type": "markdown",
   "metadata": {},
   "source": [
    "We then replace Male with 1 and Female with 0"
   ]
  },
  {
   "cell_type": "code",
   "execution_count": 622,
   "metadata": {},
   "outputs": [],
   "source": [
    "X_train_2['Person Gender'] = np.where(X_train_2['Person Gender'] == 'Male', 1,0)"
   ]
  },
  {
   "cell_type": "code",
   "execution_count": 623,
   "metadata": {},
   "outputs": [
    {
     "data": {
      "text/html": [
       "<div>\n",
       "<style scoped>\n",
       "    .dataframe tbody tr th:only-of-type {\n",
       "        vertical-align: middle;\n",
       "    }\n",
       "\n",
       "    .dataframe tbody tr th {\n",
       "        vertical-align: top;\n",
       "    }\n",
       "\n",
       "    .dataframe thead th {\n",
       "        text-align: right;\n",
       "    }\n",
       "</style>\n",
       "<table border=\"1\" class=\"dataframe\">\n",
       "  <thead>\n",
       "    <tr style=\"text-align: right;\">\n",
       "      <th></th>\n",
       "      <th>Crash Severity</th>\n",
       "      <th>Speed Limit</th>\n",
       "      <th>Surface Condition</th>\n",
       "      <th>Weather Condition</th>\n",
       "      <th>Person Alcohol Result</th>\n",
       "      <th>Person Gender</th>\n",
       "      <th>Crash Period_Late Night</th>\n",
       "      <th>Crash Period_Early Morning</th>\n",
       "      <th>Crash Period_Morning</th>\n",
       "      <th>Crash Period_Noon</th>\n",
       "      <th>Crash Period_Evening</th>\n",
       "      <th>Manner of Collision_Angle</th>\n",
       "      <th>Manner of Collision_One motor</th>\n",
       "      <th>Manner of Collision_Opposite Direction</th>\n",
       "      <th>Manner of Collision_Other</th>\n",
       "      <th>Person Ethnicity_Black</th>\n",
       "      <th>Person Ethnicity_Hispanic</th>\n",
       "      <th>Person Ethnicity_White</th>\n",
       "    </tr>\n",
       "  </thead>\n",
       "  <tbody>\n",
       "    <tr>\n",
       "      <th>0</th>\n",
       "      <td>0</td>\n",
       "      <td>40.0</td>\n",
       "      <td>1</td>\n",
       "      <td>0</td>\n",
       "      <td>1</td>\n",
       "      <td>1</td>\n",
       "      <td>0</td>\n",
       "      <td>0</td>\n",
       "      <td>0</td>\n",
       "      <td>1</td>\n",
       "      <td>0</td>\n",
       "      <td>0</td>\n",
       "      <td>0</td>\n",
       "      <td>1</td>\n",
       "      <td>0</td>\n",
       "      <td>0</td>\n",
       "      <td>0</td>\n",
       "      <td>1</td>\n",
       "    </tr>\n",
       "    <tr>\n",
       "      <th>1</th>\n",
       "      <td>0</td>\n",
       "      <td>70.0</td>\n",
       "      <td>1</td>\n",
       "      <td>0</td>\n",
       "      <td>1</td>\n",
       "      <td>0</td>\n",
       "      <td>0</td>\n",
       "      <td>0</td>\n",
       "      <td>0</td>\n",
       "      <td>1</td>\n",
       "      <td>0</td>\n",
       "      <td>0</td>\n",
       "      <td>1</td>\n",
       "      <td>0</td>\n",
       "      <td>0</td>\n",
       "      <td>0</td>\n",
       "      <td>0</td>\n",
       "      <td>1</td>\n",
       "    </tr>\n",
       "    <tr>\n",
       "      <th>2</th>\n",
       "      <td>1</td>\n",
       "      <td>50.0</td>\n",
       "      <td>1</td>\n",
       "      <td>1</td>\n",
       "      <td>1</td>\n",
       "      <td>0</td>\n",
       "      <td>0</td>\n",
       "      <td>0</td>\n",
       "      <td>0</td>\n",
       "      <td>1</td>\n",
       "      <td>0</td>\n",
       "      <td>0</td>\n",
       "      <td>0</td>\n",
       "      <td>0</td>\n",
       "      <td>0</td>\n",
       "      <td>0</td>\n",
       "      <td>0</td>\n",
       "      <td>1</td>\n",
       "    </tr>\n",
       "    <tr>\n",
       "      <th>3</th>\n",
       "      <td>0</td>\n",
       "      <td>50.0</td>\n",
       "      <td>1</td>\n",
       "      <td>0</td>\n",
       "      <td>1</td>\n",
       "      <td>0</td>\n",
       "      <td>0</td>\n",
       "      <td>1</td>\n",
       "      <td>0</td>\n",
       "      <td>0</td>\n",
       "      <td>0</td>\n",
       "      <td>0</td>\n",
       "      <td>0</td>\n",
       "      <td>0</td>\n",
       "      <td>0</td>\n",
       "      <td>1</td>\n",
       "      <td>0</td>\n",
       "      <td>0</td>\n",
       "    </tr>\n",
       "    <tr>\n",
       "      <th>4</th>\n",
       "      <td>0</td>\n",
       "      <td>40.0</td>\n",
       "      <td>1</td>\n",
       "      <td>0</td>\n",
       "      <td>1</td>\n",
       "      <td>1</td>\n",
       "      <td>0</td>\n",
       "      <td>0</td>\n",
       "      <td>0</td>\n",
       "      <td>0</td>\n",
       "      <td>1</td>\n",
       "      <td>0</td>\n",
       "      <td>0</td>\n",
       "      <td>0</td>\n",
       "      <td>0</td>\n",
       "      <td>0</td>\n",
       "      <td>0</td>\n",
       "      <td>1</td>\n",
       "    </tr>\n",
       "  </tbody>\n",
       "</table>\n",
       "</div>"
      ],
      "text/plain": [
       "   Crash Severity  Speed Limit  Surface Condition  Weather Condition  \\\n",
       "0               0         40.0                  1                  0   \n",
       "1               0         70.0                  1                  0   \n",
       "2               1         50.0                  1                  1   \n",
       "3               0         50.0                  1                  0   \n",
       "4               0         40.0                  1                  0   \n",
       "\n",
       "   Person Alcohol Result  Person Gender  Crash Period_Late Night  \\\n",
       "0                      1              1                        0   \n",
       "1                      1              0                        0   \n",
       "2                      1              0                        0   \n",
       "3                      1              0                        0   \n",
       "4                      1              1                        0   \n",
       "\n",
       "   Crash Period_Early Morning  Crash Period_Morning  Crash Period_Noon  \\\n",
       "0                           0                     0                  1   \n",
       "1                           0                     0                  1   \n",
       "2                           0                     0                  1   \n",
       "3                           1                     0                  0   \n",
       "4                           0                     0                  0   \n",
       "\n",
       "   Crash Period_Evening  Manner of Collision_Angle  \\\n",
       "0                     0                          0   \n",
       "1                     0                          0   \n",
       "2                     0                          0   \n",
       "3                     0                          0   \n",
       "4                     1                          0   \n",
       "\n",
       "   Manner of Collision_One motor  Manner of Collision_Opposite Direction  \\\n",
       "0                              0                                       1   \n",
       "1                              1                                       0   \n",
       "2                              0                                       0   \n",
       "3                              0                                       0   \n",
       "4                              0                                       0   \n",
       "\n",
       "   Manner of Collision_Other  Person Ethnicity_Black  \\\n",
       "0                          0                       0   \n",
       "1                          0                       0   \n",
       "2                          0                       0   \n",
       "3                          0                       1   \n",
       "4                          0                       0   \n",
       "\n",
       "   Person Ethnicity_Hispanic  Person Ethnicity_White  \n",
       "0                          0                       1  \n",
       "1                          0                       1  \n",
       "2                          0                       1  \n",
       "3                          0                       0  \n",
       "4                          0                       1  "
      ]
     },
     "execution_count": 623,
     "metadata": {},
     "output_type": "execute_result"
    }
   ],
   "source": [
    "X_train_2.head()"
   ]
  },
  {
   "cell_type": "code",
   "execution_count": 624,
   "metadata": {},
   "outputs": [
    {
     "name": "stdout",
     "output_type": "stream",
     "text": [
      "<class 'pandas.core.frame.DataFrame'>\n",
      "RangeIndex: 13041 entries, 0 to 13040\n",
      "Data columns (total 18 columns):\n",
      " #   Column                                  Non-Null Count  Dtype  \n",
      "---  ------                                  --------------  -----  \n",
      " 0   Crash Severity                          13041 non-null  int64  \n",
      " 1   Speed Limit                             13041 non-null  float64\n",
      " 2   Surface Condition                       13041 non-null  int32  \n",
      " 3   Weather Condition                       13041 non-null  int64  \n",
      " 4   Person Alcohol Result                   13041 non-null  int32  \n",
      " 5   Person Gender                           13041 non-null  int32  \n",
      " 6   Crash Period_Late Night                 13041 non-null  int32  \n",
      " 7   Crash Period_Early Morning              13041 non-null  int32  \n",
      " 8   Crash Period_Morning                    13041 non-null  int32  \n",
      " 9   Crash Period_Noon                       13041 non-null  int32  \n",
      " 10  Crash Period_Evening                    13041 non-null  int32  \n",
      " 11  Manner of Collision_Angle               13041 non-null  int32  \n",
      " 12  Manner of Collision_One motor           13041 non-null  int32  \n",
      " 13  Manner of Collision_Opposite Direction  13041 non-null  int32  \n",
      " 14  Manner of Collision_Other               13041 non-null  int32  \n",
      " 15  Person Ethnicity_Black                  13041 non-null  int32  \n",
      " 16  Person Ethnicity_Hispanic               13041 non-null  int32  \n",
      " 17  Person Ethnicity_White                  13041 non-null  int32  \n",
      "dtypes: float64(1), int32(15), int64(2)\n",
      "memory usage: 1.0 MB\n"
     ]
    }
   ],
   "source": [
    "X_train_2.info()"
   ]
  },
  {
   "cell_type": "code",
   "execution_count": 625,
   "id": "27863a91",
   "metadata": {},
   "outputs": [],
   "source": [
    "# rename cleaned data\n",
    "X_train_clean = X_train_2"
   ]
  },
  {
   "cell_type": "markdown",
   "metadata": {},
   "source": [
    "Summary of Data Cleaning - Regression Train dataset\n",
    "\n",
    "1. Crash ID: Drop\n",
    "2. Crash Severity: Ordinal mapping. Map '99 - UNKNOWN': 0, 'N - NOT INJURED': 0, 'B - SUSPECTED MINOR INJURY': 1, 'C - POSSIBLE INJURY': 2, 'A - SUSPECTED SERIOUS INJURY': 3, 'K - FATAL INJURY': 4.\n",
    "3. Crash Time: Extract hour component; fill NAs with median hour; group into Period of a day ['Late Night', 'Early Morning','Morning', 'Noon', 'Evening', 'Night']; one-hot encode Period; drop Crash Period_Night\n",
    "4. Days of the Week: Drop\n",
    "5. Manner of Collision: Group into similar manner of collision; one-hot encode Group; drop Manner of Collision_Same Direction\n",
    "6. Speed Limit: Replace instances of -1 with median speed limit.\n",
    "7. Surface Condition: Fill NAs, '98 - OTHER' and '99 - UNKNOWN' with mode ('1 - DRY'). Map '1 - DRY' to 1 and other categories as 0.\n",
    "8. Surface Type: Drop\n",
    "9. Surface Width: Drop\n",
    "10. Weather Condition: Fill NAs, '98 - OTHER' and '99 - UNKNOWN' with mode ('1 - CLEAR'). Map '1 - CLEAR': 0, '2 - CLOUDY':1, '3 - RAIN': 2, '6 - FOG': 2.\n",
    "11. Vehicle Body Style: Drop\n",
    "12. Person Age: Drop\n",
    "13. Person Alcohol Result: Map '1 - POSITIVE' as 0 and other catergory as 1.\n",
    "14. Person Drug Test Result: Drop\n",
    "15. Person Ethnicity: One-hot encode; drop Person Ethnicity_Others\n",
    "16. Person Gender: fill NAs with Male, map Male to 1 and Female to 0."
   ]
  },
  {
   "cell_type": "markdown",
   "metadata": {},
   "source": [
    "#### Testing dataset"
   ]
  },
  {
   "cell_type": "code",
   "execution_count": 626,
   "metadata": {},
   "outputs": [],
   "source": [
    "# Import testing dataset\n",
    "reg_test = pd.read_csv('Regression_test.csv')"
   ]
  },
  {
   "cell_type": "code",
   "execution_count": 627,
   "metadata": {},
   "outputs": [
    {
     "data": {
      "text/html": [
       "<div>\n",
       "<style scoped>\n",
       "    .dataframe tbody tr th:only-of-type {\n",
       "        vertical-align: middle;\n",
       "    }\n",
       "\n",
       "    .dataframe tbody tr th {\n",
       "        vertical-align: top;\n",
       "    }\n",
       "\n",
       "    .dataframe thead th {\n",
       "        text-align: right;\n",
       "    }\n",
       "</style>\n",
       "<table border=\"1\" class=\"dataframe\">\n",
       "  <thead>\n",
       "    <tr style=\"text-align: right;\">\n",
       "      <th></th>\n",
       "      <th>Crash ID</th>\n",
       "      <th>Crash Severity</th>\n",
       "      <th>Crash Time</th>\n",
       "      <th>Day of Week</th>\n",
       "      <th>Manner of Collision</th>\n",
       "      <th>Speed Limit</th>\n",
       "      <th>Surface Condition</th>\n",
       "      <th>Surface Type</th>\n",
       "      <th>Surface Width</th>\n",
       "      <th>Weather Condition</th>\n",
       "      <th>Vehicle Body Style</th>\n",
       "      <th>Person Age</th>\n",
       "      <th>Person Alcohol Result</th>\n",
       "      <th>Person Drug Test Result</th>\n",
       "      <th>Person Ethnicity</th>\n",
       "      <th>Person Gender</th>\n",
       "    </tr>\n",
       "  </thead>\n",
       "  <tbody>\n",
       "    <tr>\n",
       "      <th>0</th>\n",
       "      <td>19557223</td>\n",
       "      <td>B - SUSPECTED MINOR INJURY</td>\n",
       "      <td>13:07:00</td>\n",
       "      <td>THURSDAY</td>\n",
       "      <td>ANGLE - BOTH GOING STRAIGHT</td>\n",
       "      <td>40</td>\n",
       "      <td>1 - DRY</td>\n",
       "      <td>No Data</td>\n",
       "      <td>No Data</td>\n",
       "      <td>1 - CLEAR</td>\n",
       "      <td>MC - MOTORCYCLE</td>\n",
       "      <td>34</td>\n",
       "      <td>No Data</td>\n",
       "      <td>97 - NOT APPLICABLE</td>\n",
       "      <td>H - HISPANIC</td>\n",
       "      <td>1 - MALE</td>\n",
       "    </tr>\n",
       "    <tr>\n",
       "      <th>1</th>\n",
       "      <td>19569186</td>\n",
       "      <td>N - NOT INJURED</td>\n",
       "      <td>11:35:00</td>\n",
       "      <td>NaN</td>\n",
       "      <td>SAME DIRECTION - BOTH GOING STRAIGHT-SIDESWIPE</td>\n",
       "      <td>70</td>\n",
       "      <td>1 - DRY</td>\n",
       "      <td>No Data</td>\n",
       "      <td>48</td>\n",
       "      <td>2 - CLOUDY</td>\n",
       "      <td>SV - SPORT UTILITY VEHICLE</td>\n",
       "      <td>49</td>\n",
       "      <td>No Data</td>\n",
       "      <td>97 - NOT APPLICABLE</td>\n",
       "      <td>W - WHITE</td>\n",
       "      <td>NaN</td>\n",
       "    </tr>\n",
       "    <tr>\n",
       "      <th>2</th>\n",
       "      <td>19724613</td>\n",
       "      <td>B - SUSPECTED MINOR INJURY</td>\n",
       "      <td>20:51:00</td>\n",
       "      <td>THURSDAY</td>\n",
       "      <td>ANGLE - BOTH GOING STRAIGHT</td>\n",
       "      <td>50</td>\n",
       "      <td>1 - DRY</td>\n",
       "      <td>No Data</td>\n",
       "      <td>76</td>\n",
       "      <td>1 - CLEAR</td>\n",
       "      <td>P4 - PASSENGER CAR, 4-DOOR</td>\n",
       "      <td>NaN</td>\n",
       "      <td>No Data</td>\n",
       "      <td>97 - NOT APPLICABLE</td>\n",
       "      <td>H - HISPANIC</td>\n",
       "      <td>1 - MALE</td>\n",
       "    </tr>\n",
       "    <tr>\n",
       "      <th>3</th>\n",
       "      <td>19647779</td>\n",
       "      <td>N - NOT INJURED</td>\n",
       "      <td>19:33:00</td>\n",
       "      <td>WEDNESDAY</td>\n",
       "      <td>ANGLE - ONE STRAIGHT-ONE RIGHT TURN</td>\n",
       "      <td>50</td>\n",
       "      <td>1 - DRY</td>\n",
       "      <td>No Data</td>\n",
       "      <td>72</td>\n",
       "      <td>1 - CLEAR</td>\n",
       "      <td>P4 - PASSENGER CAR, 4-DOOR</td>\n",
       "      <td>22</td>\n",
       "      <td>No Data</td>\n",
       "      <td>No Data</td>\n",
       "      <td>W - WHITE</td>\n",
       "      <td>2 - FEMALE</td>\n",
       "    </tr>\n",
       "    <tr>\n",
       "      <th>4</th>\n",
       "      <td>19526461</td>\n",
       "      <td>N - NOT INJURED</td>\n",
       "      <td>18:32:00</td>\n",
       "      <td>FRIDAY</td>\n",
       "      <td>SAME DIRECTION - BOTH GOING STRAIGHT-SIDESWIPE</td>\n",
       "      <td>45</td>\n",
       "      <td>1 - DRY</td>\n",
       "      <td>No Data</td>\n",
       "      <td>72</td>\n",
       "      <td>1 - CLEAR</td>\n",
       "      <td>P4 - PASSENGER CAR, 4-DOOR</td>\n",
       "      <td>23</td>\n",
       "      <td>No Data</td>\n",
       "      <td>97 - NOT APPLICABLE</td>\n",
       "      <td>NaN</td>\n",
       "      <td>1 - MALE</td>\n",
       "    </tr>\n",
       "  </tbody>\n",
       "</table>\n",
       "</div>"
      ],
      "text/plain": [
       "   Crash ID              Crash Severity Crash Time Day of Week  \\\n",
       "0  19557223  B - SUSPECTED MINOR INJURY   13:07:00    THURSDAY   \n",
       "1  19569186             N - NOT INJURED   11:35:00         NaN   \n",
       "2  19724613  B - SUSPECTED MINOR INJURY   20:51:00    THURSDAY   \n",
       "3  19647779             N - NOT INJURED   19:33:00   WEDNESDAY   \n",
       "4  19526461             N - NOT INJURED   18:32:00      FRIDAY   \n",
       "\n",
       "                              Manner of Collision  Speed Limit  \\\n",
       "0                     ANGLE - BOTH GOING STRAIGHT           40   \n",
       "1  SAME DIRECTION - BOTH GOING STRAIGHT-SIDESWIPE           70   \n",
       "2                     ANGLE - BOTH GOING STRAIGHT           50   \n",
       "3             ANGLE - ONE STRAIGHT-ONE RIGHT TURN           50   \n",
       "4  SAME DIRECTION - BOTH GOING STRAIGHT-SIDESWIPE           45   \n",
       "\n",
       "  Surface Condition Surface Type Surface Width Weather Condition  \\\n",
       "0           1 - DRY      No Data       No Data         1 - CLEAR   \n",
       "1           1 - DRY      No Data            48        2 - CLOUDY   \n",
       "2           1 - DRY      No Data            76         1 - CLEAR   \n",
       "3           1 - DRY      No Data            72         1 - CLEAR   \n",
       "4           1 - DRY      No Data            72         1 - CLEAR   \n",
       "\n",
       "           Vehicle Body Style Person Age Person Alcohol Result  \\\n",
       "0             MC - MOTORCYCLE         34               No Data   \n",
       "1  SV - SPORT UTILITY VEHICLE         49               No Data   \n",
       "2  P4 - PASSENGER CAR, 4-DOOR        NaN               No Data   \n",
       "3  P4 - PASSENGER CAR, 4-DOOR         22               No Data   \n",
       "4  P4 - PASSENGER CAR, 4-DOOR         23               No Data   \n",
       "\n",
       "  Person Drug Test Result Person Ethnicity Person Gender  \n",
       "0     97 - NOT APPLICABLE     H - HISPANIC      1 - MALE  \n",
       "1     97 - NOT APPLICABLE        W - WHITE           NaN  \n",
       "2     97 - NOT APPLICABLE     H - HISPANIC      1 - MALE  \n",
       "3                 No Data        W - WHITE    2 - FEMALE  \n",
       "4     97 - NOT APPLICABLE              NaN      1 - MALE  "
      ]
     },
     "execution_count": 627,
     "metadata": {},
     "output_type": "execute_result"
    }
   ],
   "source": [
    "# First 5 entries of dataset\n",
    "reg_test.head()"
   ]
  },
  {
   "cell_type": "code",
   "execution_count": 628,
   "metadata": {},
   "outputs": [
    {
     "name": "stdout",
     "output_type": "stream",
     "text": [
      "<class 'pandas.core.frame.DataFrame'>\n",
      "RangeIndex: 3261 entries, 0 to 3260\n",
      "Data columns (total 16 columns):\n",
      " #   Column                   Non-Null Count  Dtype \n",
      "---  ------                   --------------  ----- \n",
      " 0   Crash ID                 3261 non-null   int64 \n",
      " 1   Crash Severity           3261 non-null   object\n",
      " 2   Crash Time               3085 non-null   object\n",
      " 3   Day of Week              3073 non-null   object\n",
      " 4   Manner of Collision      3107 non-null   object\n",
      " 5   Speed Limit              3261 non-null   int64 \n",
      " 6   Surface Condition        3261 non-null   object\n",
      " 7   Surface Type             3261 non-null   object\n",
      " 8   Surface Width            3261 non-null   object\n",
      " 9   Weather Condition        3108 non-null   object\n",
      " 10  Vehicle Body Style       3104 non-null   object\n",
      " 11  Person Age               3094 non-null   object\n",
      " 12  Person Alcohol Result    3098 non-null   object\n",
      " 13  Person Drug Test Result  3116 non-null   object\n",
      " 14  Person Ethnicity         3080 non-null   object\n",
      " 15  Person Gender            3098 non-null   object\n",
      "dtypes: int64(2), object(14)\n",
      "memory usage: 407.8+ KB\n"
     ]
    }
   ],
   "source": [
    "# Structure of the dataset\n",
    "reg_test.info()\n",
    "\n",
    "# 3261 rows, 16 columns"
   ]
  },
  {
   "cell_type": "markdown",
   "metadata": {},
   "source": [
    "#### Crash ID"
   ]
  },
  {
   "cell_type": "code",
   "execution_count": 629,
   "metadata": {},
   "outputs": [
    {
     "data": {
      "text/plain": [
       "Crash ID\n",
       "19695571    8\n",
       "19750688    7\n",
       "19634330    7\n",
       "19541894    6\n",
       "19719487    5\n",
       "           ..\n",
       "19485573    1\n",
       "19582231    1\n",
       "19486128    1\n",
       "19634331    1\n",
       "19737603    1\n",
       "Name: count, Length: 2560, dtype: int64"
      ]
     },
     "execution_count": 629,
     "metadata": {},
     "output_type": "execute_result"
    }
   ],
   "source": [
    "# Value Counts\n",
    "reg_test['Crash ID'].value_counts()"
   ]
  },
  {
   "cell_type": "code",
   "execution_count": 630,
   "metadata": {},
   "outputs": [],
   "source": [
    "# Drop the Crash ID columns\n",
    "reg_test.drop(columns = 'Crash ID', axis = 1, inplace = True)"
   ]
  },
  {
   "cell_type": "code",
   "execution_count": 631,
   "metadata": {},
   "outputs": [
    {
     "name": "stdout",
     "output_type": "stream",
     "text": [
      "<class 'pandas.core.frame.DataFrame'>\n",
      "RangeIndex: 3261 entries, 0 to 3260\n",
      "Data columns (total 15 columns):\n",
      " #   Column                   Non-Null Count  Dtype \n",
      "---  ------                   --------------  ----- \n",
      " 0   Crash Severity           3261 non-null   object\n",
      " 1   Crash Time               3085 non-null   object\n",
      " 2   Day of Week              3073 non-null   object\n",
      " 3   Manner of Collision      3107 non-null   object\n",
      " 4   Speed Limit              3261 non-null   int64 \n",
      " 5   Surface Condition        3261 non-null   object\n",
      " 6   Surface Type             3261 non-null   object\n",
      " 7   Surface Width            3261 non-null   object\n",
      " 8   Weather Condition        3108 non-null   object\n",
      " 9   Vehicle Body Style       3104 non-null   object\n",
      " 10  Person Age               3094 non-null   object\n",
      " 11  Person Alcohol Result    3098 non-null   object\n",
      " 12  Person Drug Test Result  3116 non-null   object\n",
      " 13  Person Ethnicity         3080 non-null   object\n",
      " 14  Person Gender            3098 non-null   object\n",
      "dtypes: int64(1), object(14)\n",
      "memory usage: 382.3+ KB\n"
     ]
    }
   ],
   "source": [
    "# Checking that Crash ID column has been successfully dropped\n",
    "reg_test.info()"
   ]
  },
  {
   "cell_type": "markdown",
   "metadata": {},
   "source": [
    "#### Crash Severity"
   ]
  },
  {
   "cell_type": "code",
   "execution_count": 632,
   "metadata": {},
   "outputs": [
    {
     "data": {
      "text/plain": [
       "Crash Severity\n",
       "N - NOT INJURED                 2145\n",
       "B - SUSPECTED MINOR INJURY       492\n",
       "C - POSSIBLE INJURY              484\n",
       "99 - UNKNOWN                      65\n",
       "A - SUSPECTED SERIOUS INJURY      64\n",
       "K - FATAL INJURY                  11\n",
       "Name: count, dtype: int64"
      ]
     },
     "execution_count": 632,
     "metadata": {},
     "output_type": "execute_result"
    }
   ],
   "source": [
    "# Value Counts\n",
    "reg_test['Crash Severity'].value_counts()"
   ]
  },
  {
   "cell_type": "code",
   "execution_count": 633,
   "metadata": {},
   "outputs": [
    {
     "data": {
      "text/plain": [
       "0"
      ]
     },
     "execution_count": 633,
     "metadata": {},
     "output_type": "execute_result"
    }
   ],
   "source": [
    "# Checking for NA's\n",
    "reg_test['Crash Severity'].isnull().sum()\n",
    "# 0 NA's"
   ]
  },
  {
   "cell_type": "markdown",
   "metadata": {},
   "source": [
    "Apply cleaning "
   ]
  },
  {
   "cell_type": "code",
   "execution_count": 634,
   "metadata": {},
   "outputs": [],
   "source": [
    "# Ordinal encoding as there is an order in the crash severity\n",
    "# Handling missing data: 99 - UNKNOWN\n",
    "# Replace with the most (N- Not Injured)\n",
    "\n",
    "# Create dictionary for mapping\n",
    "crash_dict = {'99 - UNKNOWN': 0,\n",
    "              'N - NOT INJURED': 0,\n",
    "              'B - SUSPECTED MINOR INJURY': 1,\n",
    "              'C - POSSIBLE INJURY': 2,\n",
    "              'A - SUSPECTED SERIOUS INJURY': 3,\n",
    "              'K - FATAL INJURY': 4}\n",
    "\n",
    "# Apply mapping dictionary\n",
    "reg_test['Crash Severity'] = reg_test['Crash Severity'].map(crash_dict)"
   ]
  },
  {
   "cell_type": "markdown",
   "metadata": {},
   "source": [
    "#### Crash Time"
   ]
  },
  {
   "cell_type": "code",
   "execution_count": 635,
   "metadata": {},
   "outputs": [
    {
     "data": {
      "text/plain": [
       "176"
      ]
     },
     "execution_count": 635,
     "metadata": {},
     "output_type": "execute_result"
    }
   ],
   "source": [
    "# Printing the results of the column\n",
    "reg_test['Crash Time']\n",
    "\n",
    "# Checking the NA's\n",
    "reg_test['Crash Time'].isnull().sum()\n",
    "# 176 missing data of 3621 rows"
   ]
  },
  {
   "cell_type": "code",
   "execution_count": 636,
   "metadata": {},
   "outputs": [
    {
     "name": "stderr",
     "output_type": "stream",
     "text": [
      "c:\\Users\\Christinme\\AppData\\Local\\Programs\\Python\\Python311\\Lib\\site-packages\\seaborn\\_oldcore.py:1498: FutureWarning: is_categorical_dtype is deprecated and will be removed in a future version. Use isinstance(dtype, CategoricalDtype) instead\n",
      "  if pd.api.types.is_categorical_dtype(vector):\n",
      "c:\\Users\\Christinme\\AppData\\Local\\Programs\\Python\\Python311\\Lib\\site-packages\\seaborn\\_oldcore.py:1119: FutureWarning: use_inf_as_na option is deprecated and will be removed in a future version. Convert inf values to NaN before operating instead.\n",
      "  with pd.option_context('mode.use_inf_as_na', True):\n"
     ]
    },
    {
     "data": {
      "text/plain": [
       "<matplotlib.legend.Legend at 0x1f145a59c10>"
      ]
     },
     "execution_count": 636,
     "metadata": {},
     "output_type": "execute_result"
    },
    {
     "data": {
      "image/png": "[encoded data removed]",
      "text/plain": [
       "<Figure size 640x480 with 1 Axes>"
      ]
     },
     "metadata": {},
     "output_type": "display_data"
    }
   ],
   "source": [
    "# Extracting hour component of crash time, called Crash Hour\n",
    "reg_test['Crash Hour'] = pd.to_datetime(reg_test['Crash Time'], format = '%H:%M:%S').dt.hour\n",
    "\n",
    "# Plotting the kde plot of crash hour column\n",
    "sns.kdeplot(reg_test['Crash Hour'])\n",
    "\n",
    "# Plot mean and median\n",
    "plt.vlines(reg_test['Crash Hour'].mean(), ymin = 0, ymax = 0.10, color = 'green', label = 'Mean Line')\n",
    "plt.vlines(reg_test['Crash Hour'].median(), ymin = 0, ymax = 0.10, color = 'black', label = 'Median Line')\n",
    "plt.legend()"
   ]
  },
  {
   "cell_type": "code",
   "execution_count": 637,
   "metadata": {},
   "outputs": [],
   "source": [
    "# From kde plot - fillna in Crash Hour with median value\n",
    "reg_test['Crash Hour'] = reg_test['Crash Hour'].fillna(reg_test['Crash Hour'].median())"
   ]
  },
  {
   "cell_type": "code",
   "execution_count": 638,
   "metadata": {},
   "outputs": [],
   "source": [
    "# Mapping the hour component to the period of the day\n",
    "# Mapping the crash hour to period of the day mapping\n",
    "b = [0, 4, 8, 12, 16, 20, 24]\n",
    "l = ['Late Night', 'Early Morning', 'Morning', 'Noon', 'Evening', 'Night']\n",
    "\n",
    "# 0-4: 'Late Night'\n",
    "# 4-8: 'Early Morning'\n",
    "# 8-12: 'Morning'\n",
    "# 12-16: 'Noon'\n",
    "# 16-20: 'Evening'\n",
    "# 20-24: 'Night'\n",
    "\n",
    "# Map 'Crash Hour' to period of the day; resulting column is called 'Crash Period'\n",
    "reg_test['Crash Period'] = pd.cut(reg_test['Crash Hour'], bins=b, labels=l, include_lowest=True)"
   ]
  },
  {
   "cell_type": "code",
   "execution_count": 639,
   "metadata": {},
   "outputs": [],
   "source": [
    "# Drop Crash Time and Crash Hour columns\n",
    "reg_test.drop(columns = ['Crash Time', 'Crash Hour'], axis=1, inplace=True)"
   ]
  },
  {
   "cell_type": "code",
   "execution_count": 640,
   "metadata": {},
   "outputs": [],
   "source": [
    "# One hot encode Crash Period column\n",
    "reg_test['Crash Period'].value_counts()\n",
    "\n",
    "# One_hot encode\n",
    "reg_test = pd.get_dummies(reg_test, columns = ['Crash Period'], dtype = 'int')\n",
    "\n",
    "# Drop Crash Period_Night\n",
    "reg_test = reg_test.drop(columns='Crash Period_Night', axis=1)"
   ]
  },
  {
   "cell_type": "code",
   "execution_count": 641,
   "metadata": {},
   "outputs": [
    {
     "data": {
      "text/html": [
       "<div>\n",
       "<style scoped>\n",
       "    .dataframe tbody tr th:only-of-type {\n",
       "        vertical-align: middle;\n",
       "    }\n",
       "\n",
       "    .dataframe tbody tr th {\n",
       "        vertical-align: top;\n",
       "    }\n",
       "\n",
       "    .dataframe thead th {\n",
       "        text-align: right;\n",
       "    }\n",
       "</style>\n",
       "<table border=\"1\" class=\"dataframe\">\n",
       "  <thead>\n",
       "    <tr style=\"text-align: right;\">\n",
       "      <th></th>\n",
       "      <th>Crash Severity</th>\n",
       "      <th>Day of Week</th>\n",
       "      <th>Manner of Collision</th>\n",
       "      <th>Speed Limit</th>\n",
       "      <th>Surface Condition</th>\n",
       "      <th>Surface Type</th>\n",
       "      <th>Surface Width</th>\n",
       "      <th>Weather Condition</th>\n",
       "      <th>Vehicle Body Style</th>\n",
       "      <th>Person Age</th>\n",
       "      <th>Person Alcohol Result</th>\n",
       "      <th>Person Drug Test Result</th>\n",
       "      <th>Person Ethnicity</th>\n",
       "      <th>Person Gender</th>\n",
       "      <th>Crash Period_Late Night</th>\n",
       "      <th>Crash Period_Early Morning</th>\n",
       "      <th>Crash Period_Morning</th>\n",
       "      <th>Crash Period_Noon</th>\n",
       "      <th>Crash Period_Evening</th>\n",
       "    </tr>\n",
       "  </thead>\n",
       "  <tbody>\n",
       "    <tr>\n",
       "      <th>0</th>\n",
       "      <td>1</td>\n",
       "      <td>THURSDAY</td>\n",
       "      <td>ANGLE - BOTH GOING STRAIGHT</td>\n",
       "      <td>40</td>\n",
       "      <td>1 - DRY</td>\n",
       "      <td>No Data</td>\n",
       "      <td>No Data</td>\n",
       "      <td>1 - CLEAR</td>\n",
       "      <td>MC - MOTORCYCLE</td>\n",
       "      <td>34</td>\n",
       "      <td>No Data</td>\n",
       "      <td>97 - NOT APPLICABLE</td>\n",
       "      <td>H - HISPANIC</td>\n",
       "      <td>1 - MALE</td>\n",
       "      <td>0</td>\n",
       "      <td>0</td>\n",
       "      <td>0</td>\n",
       "      <td>1</td>\n",
       "      <td>0</td>\n",
       "    </tr>\n",
       "    <tr>\n",
       "      <th>1</th>\n",
       "      <td>0</td>\n",
       "      <td>NaN</td>\n",
       "      <td>SAME DIRECTION - BOTH GOING STRAIGHT-SIDESWIPE</td>\n",
       "      <td>70</td>\n",
       "      <td>1 - DRY</td>\n",
       "      <td>No Data</td>\n",
       "      <td>48</td>\n",
       "      <td>2 - CLOUDY</td>\n",
       "      <td>SV - SPORT UTILITY VEHICLE</td>\n",
       "      <td>49</td>\n",
       "      <td>No Data</td>\n",
       "      <td>97 - NOT APPLICABLE</td>\n",
       "      <td>W - WHITE</td>\n",
       "      <td>NaN</td>\n",
       "      <td>0</td>\n",
       "      <td>0</td>\n",
       "      <td>1</td>\n",
       "      <td>0</td>\n",
       "      <td>0</td>\n",
       "    </tr>\n",
       "    <tr>\n",
       "      <th>2</th>\n",
       "      <td>1</td>\n",
       "      <td>THURSDAY</td>\n",
       "      <td>ANGLE - BOTH GOING STRAIGHT</td>\n",
       "      <td>50</td>\n",
       "      <td>1 - DRY</td>\n",
       "      <td>No Data</td>\n",
       "      <td>76</td>\n",
       "      <td>1 - CLEAR</td>\n",
       "      <td>P4 - PASSENGER CAR, 4-DOOR</td>\n",
       "      <td>NaN</td>\n",
       "      <td>No Data</td>\n",
       "      <td>97 - NOT APPLICABLE</td>\n",
       "      <td>H - HISPANIC</td>\n",
       "      <td>1 - MALE</td>\n",
       "      <td>0</td>\n",
       "      <td>0</td>\n",
       "      <td>0</td>\n",
       "      <td>0</td>\n",
       "      <td>1</td>\n",
       "    </tr>\n",
       "    <tr>\n",
       "      <th>3</th>\n",
       "      <td>0</td>\n",
       "      <td>WEDNESDAY</td>\n",
       "      <td>ANGLE - ONE STRAIGHT-ONE RIGHT TURN</td>\n",
       "      <td>50</td>\n",
       "      <td>1 - DRY</td>\n",
       "      <td>No Data</td>\n",
       "      <td>72</td>\n",
       "      <td>1 - CLEAR</td>\n",
       "      <td>P4 - PASSENGER CAR, 4-DOOR</td>\n",
       "      <td>22</td>\n",
       "      <td>No Data</td>\n",
       "      <td>No Data</td>\n",
       "      <td>W - WHITE</td>\n",
       "      <td>2 - FEMALE</td>\n",
       "      <td>0</td>\n",
       "      <td>0</td>\n",
       "      <td>0</td>\n",
       "      <td>0</td>\n",
       "      <td>1</td>\n",
       "    </tr>\n",
       "    <tr>\n",
       "      <th>4</th>\n",
       "      <td>0</td>\n",
       "      <td>FRIDAY</td>\n",
       "      <td>SAME DIRECTION - BOTH GOING STRAIGHT-SIDESWIPE</td>\n",
       "      <td>45</td>\n",
       "      <td>1 - DRY</td>\n",
       "      <td>No Data</td>\n",
       "      <td>72</td>\n",
       "      <td>1 - CLEAR</td>\n",
       "      <td>P4 - PASSENGER CAR, 4-DOOR</td>\n",
       "      <td>23</td>\n",
       "      <td>No Data</td>\n",
       "      <td>97 - NOT APPLICABLE</td>\n",
       "      <td>NaN</td>\n",
       "      <td>1 - MALE</td>\n",
       "      <td>0</td>\n",
       "      <td>0</td>\n",
       "      <td>0</td>\n",
       "      <td>0</td>\n",
       "      <td>1</td>\n",
       "    </tr>\n",
       "  </tbody>\n",
       "</table>\n",
       "</div>"
      ],
      "text/plain": [
       "   Crash Severity Day of Week                             Manner of Collision  \\\n",
       "0               1    THURSDAY                     ANGLE - BOTH GOING STRAIGHT   \n",
       "1               0         NaN  SAME DIRECTION - BOTH GOING STRAIGHT-SIDESWIPE   \n",
       "2               1    THURSDAY                     ANGLE - BOTH GOING STRAIGHT   \n",
       "3               0   WEDNESDAY             ANGLE - ONE STRAIGHT-ONE RIGHT TURN   \n",
       "4               0      FRIDAY  SAME DIRECTION - BOTH GOING STRAIGHT-SIDESWIPE   \n",
       "\n",
       "   Speed Limit Surface Condition Surface Type Surface Width Weather Condition  \\\n",
       "0           40           1 - DRY      No Data       No Data         1 - CLEAR   \n",
       "1           70           1 - DRY      No Data            48        2 - CLOUDY   \n",
       "2           50           1 - DRY      No Data            76         1 - CLEAR   \n",
       "3           50           1 - DRY      No Data            72         1 - CLEAR   \n",
       "4           45           1 - DRY      No Data            72         1 - CLEAR   \n",
       "\n",
       "           Vehicle Body Style Person Age Person Alcohol Result  \\\n",
       "0             MC - MOTORCYCLE         34               No Data   \n",
       "1  SV - SPORT UTILITY VEHICLE         49               No Data   \n",
       "2  P4 - PASSENGER CAR, 4-DOOR        NaN               No Data   \n",
       "3  P4 - PASSENGER CAR, 4-DOOR         22               No Data   \n",
       "4  P4 - PASSENGER CAR, 4-DOOR         23               No Data   \n",
       "\n",
       "  Person Drug Test Result Person Ethnicity Person Gender  \\\n",
       "0     97 - NOT APPLICABLE     H - HISPANIC      1 - MALE   \n",
       "1     97 - NOT APPLICABLE        W - WHITE           NaN   \n",
       "2     97 - NOT APPLICABLE     H - HISPANIC      1 - MALE   \n",
       "3                 No Data        W - WHITE    2 - FEMALE   \n",
       "4     97 - NOT APPLICABLE              NaN      1 - MALE   \n",
       "\n",
       "   Crash Period_Late Night  Crash Period_Early Morning  Crash Period_Morning  \\\n",
       "0                        0                           0                     0   \n",
       "1                        0                           0                     1   \n",
       "2                        0                           0                     0   \n",
       "3                        0                           0                     0   \n",
       "4                        0                           0                     0   \n",
       "\n",
       "   Crash Period_Noon  Crash Period_Evening  \n",
       "0                  1                     0  \n",
       "1                  0                     0  \n",
       "2                  0                     1  \n",
       "3                  0                     1  \n",
       "4                  0                     1  "
      ]
     },
     "execution_count": 641,
     "metadata": {},
     "output_type": "execute_result"
    }
   ],
   "source": [
    "# Check reg_test\n",
    "reg_test.head()"
   ]
  },
  {
   "cell_type": "markdown",
   "metadata": {},
   "source": [
    "#### Day of Week"
   ]
  },
  {
   "cell_type": "code",
   "execution_count": 642,
   "metadata": {},
   "outputs": [],
   "source": [
    "# Dropping the column\n",
    "reg_test.drop(columns='Day of Week', axis=1, inplace=True)"
   ]
  },
  {
   "cell_type": "markdown",
   "metadata": {},
   "source": [
    "#### Manner of Collision"
   ]
  },
  {
   "cell_type": "code",
   "execution_count": 643,
   "metadata": {},
   "outputs": [
    {
     "data": {
      "text/plain": [
       "Manner of Collision\n",
       "SAME DIRECTION - ONE STRAIGHT-ONE STOPPED                     512\n",
       "SAME DIRECTION - BOTH GOING STRAIGHT-SIDESWIPE                404\n",
       "SAME DIRECTION - BOTH GOING STRAIGHT-REAR END                 392\n",
       "ANGLE - BOTH GOING STRAIGHT                                   388\n",
       "ONE MOTOR VEHICLE - GOING STRAIGHT                            325\n",
       "OPPOSITE DIRECTION - ONE STRAIGHT-ONE LEFT TURN               288\n",
       "ANGLE - ONE STRAIGHT-ONE LEFT TURN                            226\n",
       "ANGLE - ONE STRAIGHT-ONE RIGHT TURN                           124\n",
       "SAME DIRECTION - ONE STRAIGHT-ONE LEFT TURN                    76\n",
       "SAME DIRECTION - ONE STRAIGHT-ONE RIGHT TURN                   49\n",
       "SAME DIRECTION - BOTH RIGHT TURN                               38\n",
       "ONE MOTOR VEHICLE - BACKING                                    38\n",
       "ONE MOTOR VEHICLE - TURNING LEFT                               38\n",
       "SAME DIRECTION - BOTH LEFT TURN                                27\n",
       "OPPOSITE DIRECTION - BOTH GOING STRAIGHT                       26\n",
       "ONE MOTOR VEHICLE - TURNING RIGHT                              25\n",
       "OTHER - ONE STRAIGHT-ONE ENTERING OR LEAVING PARKING SPACE     25\n",
       "ONE MOTOR VEHICLE - OTHER                                      19\n",
       "OPPOSITE DIRECTION - ONE STRAIGHT-ONE BACKING                  13\n",
       "OTHER                                                          11\n",
       "SAME DIRECTION - ONE RIGHT TURN-ONE STOPPED                    10\n",
       "ANGLE - ONE RIGHT TURN-ONE STOPPED                              8\n",
       "OPPOSITE DIRECTION - ONE BACKING-ONE STOPPED                    6\n",
       "ANGLE - BOTH LEFT TURN                                          6\n",
       "OPPOSITE DIRECTION - ONE RIGHT TURN-ONE LEFT TURN               6\n",
       "ANGLE - ONE LEFT TURN-ONE STOPPED                               5\n",
       "OTHER - BOTH BACKING                                            4\n",
       "ANGLE - ONE RIGHT TURN-ONE LEFT TURN                            4\n",
       "ANGLE - ONE STRAIGHT-ONE BACKING                                3\n",
       "OPPOSITE DIRECTION - ONE STRAIGHT-ONE STOPPED                   3\n",
       "OTHER - ONE ENTERING OR LEAVING PARKING SPACE-ONE STOPPED       3\n",
       "OPPOSITE DIRECTION - BOTH LEFT TURNS                            2\n",
       "ANGLE - ONE STRAIGHT-ONE STOPPED                                2\n",
       "ANGLE - BOTH RIGHT TURN                                         1\n",
       "Name: count, dtype: int64"
      ]
     },
     "execution_count": 643,
     "metadata": {},
     "output_type": "execute_result"
    }
   ],
   "source": [
    "# Value Counts\n",
    "reg_test['Manner of Collision'].value_counts()\n",
    "# 34 unique values\n",
    "# Grouping the same group: SAME DIRECTION, ANGLE, ONE MOTOR VEHICLE, OPPOSITE DIRECTION, ANGLE"
   ]
  },
  {
   "cell_type": "code",
   "execution_count": 644,
   "metadata": {},
   "outputs": [
    {
     "data": {
      "text/plain": [
       "154"
      ]
     },
     "execution_count": 644,
     "metadata": {},
     "output_type": "execute_result"
    }
   ],
   "source": [
    "# Finding the null values in the Manner of Collision column\n",
    "sum(reg_test['Manner of Collision'].isna())"
   ]
  },
  {
   "cell_type": "code",
   "execution_count": 645,
   "metadata": {},
   "outputs": [
    {
     "data": {
      "text/plain": [
       "Manner of Collision\n",
       "SAME DIRECTION - ONE STRAIGHT-ONE STOPPED                     666\n",
       "SAME DIRECTION - BOTH GOING STRAIGHT-SIDESWIPE                404\n",
       "SAME DIRECTION - BOTH GOING STRAIGHT-REAR END                 392\n",
       "ANGLE - BOTH GOING STRAIGHT                                   388\n",
       "ONE MOTOR VEHICLE - GOING STRAIGHT                            325\n",
       "OPPOSITE DIRECTION - ONE STRAIGHT-ONE LEFT TURN               288\n",
       "ANGLE - ONE STRAIGHT-ONE LEFT TURN                            226\n",
       "ANGLE - ONE STRAIGHT-ONE RIGHT TURN                           124\n",
       "SAME DIRECTION - ONE STRAIGHT-ONE LEFT TURN                    76\n",
       "SAME DIRECTION - ONE STRAIGHT-ONE RIGHT TURN                   49\n",
       "SAME DIRECTION - BOTH RIGHT TURN                               38\n",
       "ONE MOTOR VEHICLE - BACKING                                    38\n",
       "ONE MOTOR VEHICLE - TURNING LEFT                               38\n",
       "SAME DIRECTION - BOTH LEFT TURN                                27\n",
       "OPPOSITE DIRECTION - BOTH GOING STRAIGHT                       26\n",
       "ONE MOTOR VEHICLE - TURNING RIGHT                              25\n",
       "OTHER - ONE STRAIGHT-ONE ENTERING OR LEAVING PARKING SPACE     25\n",
       "ONE MOTOR VEHICLE - OTHER                                      19\n",
       "OPPOSITE DIRECTION - ONE STRAIGHT-ONE BACKING                  13\n",
       "OTHER                                                          11\n",
       "SAME DIRECTION - ONE RIGHT TURN-ONE STOPPED                    10\n",
       "ANGLE - ONE RIGHT TURN-ONE STOPPED                              8\n",
       "OPPOSITE DIRECTION - ONE BACKING-ONE STOPPED                    6\n",
       "ANGLE - BOTH LEFT TURN                                          6\n",
       "OPPOSITE DIRECTION - ONE RIGHT TURN-ONE LEFT TURN               6\n",
       "ANGLE - ONE LEFT TURN-ONE STOPPED                               5\n",
       "OTHER - BOTH BACKING                                            4\n",
       "ANGLE - ONE RIGHT TURN-ONE LEFT TURN                            4\n",
       "ANGLE - ONE STRAIGHT-ONE BACKING                                3\n",
       "OPPOSITE DIRECTION - ONE STRAIGHT-ONE STOPPED                   3\n",
       "OTHER - ONE ENTERING OR LEAVING PARKING SPACE-ONE STOPPED       3\n",
       "OPPOSITE DIRECTION - BOTH LEFT TURNS                            2\n",
       "ANGLE - ONE STRAIGHT-ONE STOPPED                                2\n",
       "ANGLE - BOTH RIGHT TURN                                         1\n",
       "Name: count, dtype: int64"
      ]
     },
     "execution_count": 645,
     "metadata": {},
     "output_type": "execute_result"
    }
   ],
   "source": [
    "# Filling the null values with the most frequent occurence\n",
    "reg_test['Manner of Collision'].fillna(reg_test['Manner of Collision'].mode()[0], inplace=True)\n",
    "reg_test['Manner of Collision'].value_counts()"
   ]
  },
  {
   "cell_type": "code",
   "execution_count": 646,
   "metadata": {},
   "outputs": [
    {
     "data": {
      "text/plain": [
       "0"
      ]
     },
     "execution_count": 646,
     "metadata": {},
     "output_type": "execute_result"
    }
   ],
   "source": [
    "# Checking the null values again\n",
    "reg_test['Manner of Collision'].isna().sum()"
   ]
  },
  {
   "cell_type": "code",
   "execution_count": 647,
   "metadata": {},
   "outputs": [],
   "source": [
    "# Renaming reg_test before creating the supergroup\n",
    "reg_test_2 = reg_test\n",
    "\n",
    "# Creating supergroup: SAME DIRECTION, ANGLE, ONE MOTOR VEHICLE, OPPOSITE DIRECTION, ANGLE\n",
    "# SAME DIRECTION\n",
    "reg_test_2.loc[reg_test_2['Manner of Collision'].str.contains('SAME DIRECTION', case = False), 'Manner of Collision'] = 'Same Direction'\n",
    "\n",
    "# ANGLE\n",
    "reg_test_2.loc[reg_test_2['Manner of Collision'].str.contains('ANGLE', case=False), 'Manner of Collision'] = 'Angle'\n",
    "\n",
    "# ONE MOTOR VEHICLE\n",
    "reg_test_2.loc[reg_test_2['Manner of Collision'].str.contains('ONE MOTOR VEHICLE', case=False), 'Manner of Collision'] = 'One motor'\n",
    "\n",
    "# OPPOSITE DIRECTION\n",
    "reg_test_2.loc[reg_test_2['Manner of Collision'].str.contains('OPPOSITE DIRECTION', case=False), 'Manner of Collision'] = 'Opposite Direction'\n",
    "\n",
    "# OTHER\n",
    "reg_test_2.loc[reg_test_2['Manner of Collision'].str.contains('OTHER', case=False), 'Manner of Collision'] = 'Other'"
   ]
  },
  {
   "cell_type": "code",
   "execution_count": 648,
   "metadata": {},
   "outputs": [],
   "source": [
    "# One Hot Encode reg_test_2['Manner of Collision']\n",
    "reg_test_2 = pd.get_dummies(reg_test_2, columns = ['Manner of Collision'], dtype = \"int\")\n",
    "\n",
    "# Drop the Mannner of Collision_Same Direction - regression\n",
    "reg_test_2 = reg_test_2.drop('Manner of Collision_Same Direction', axis = 1)"
   ]
  },
  {
   "cell_type": "code",
   "execution_count": 649,
   "metadata": {},
   "outputs": [
    {
     "name": "stdout",
     "output_type": "stream",
     "text": [
      "<class 'pandas.core.frame.DataFrame'>\n",
      "RangeIndex: 3261 entries, 0 to 3260\n",
      "Data columns (total 21 columns):\n",
      " #   Column                                  Non-Null Count  Dtype \n",
      "---  ------                                  --------------  ----- \n",
      " 0   Crash Severity                          3261 non-null   int64 \n",
      " 1   Speed Limit                             3261 non-null   int64 \n",
      " 2   Surface Condition                       3261 non-null   object\n",
      " 3   Surface Type                            3261 non-null   object\n",
      " 4   Surface Width                           3261 non-null   object\n",
      " 5   Weather Condition                       3108 non-null   object\n",
      " 6   Vehicle Body Style                      3104 non-null   object\n",
      " 7   Person Age                              3094 non-null   object\n",
      " 8   Person Alcohol Result                   3098 non-null   object\n",
      " 9   Person Drug Test Result                 3116 non-null   object\n",
      " 10  Person Ethnicity                        3080 non-null   object\n",
      " 11  Person Gender                           3098 non-null   object\n",
      " 12  Crash Period_Late Night                 3261 non-null   int32 \n",
      " 13  Crash Period_Early Morning              3261 non-null   int32 \n",
      " 14  Crash Period_Morning                    3261 non-null   int32 \n",
      " 15  Crash Period_Noon                       3261 non-null   int32 \n",
      " 16  Crash Period_Evening                    3261 non-null   int32 \n",
      " 17  Manner of Collision_Angle               3261 non-null   int32 \n",
      " 18  Manner of Collision_One motor           3261 non-null   int32 \n",
      " 19  Manner of Collision_Opposite Direction  3261 non-null   int32 \n",
      " 20  Manner of Collision_Other               3261 non-null   int32 \n",
      "dtypes: int32(9), int64(2), object(10)\n",
      "memory usage: 420.5+ KB\n"
     ]
    }
   ],
   "source": [
    "reg_test_2.info()"
   ]
  },
  {
   "cell_type": "markdown",
   "metadata": {},
   "source": [
    "#### Speed Limit "
   ]
  },
  {
   "cell_type": "code",
   "execution_count": 650,
   "metadata": {},
   "outputs": [
    {
     "data": {
      "text/plain": [
       "Speed Limit\n",
       " 50    571\n",
       " 45    569\n",
       " 70    525\n",
       " 40    381\n",
       " 30    302\n",
       " 35    294\n",
       " 55    176\n",
       " 60    130\n",
       "-1     100\n",
       " 25     72\n",
       " 10     28\n",
       " 65     27\n",
       " 20     25\n",
       " 15     24\n",
       " 75     19\n",
       " 5      18\n",
       "Name: count, dtype: int64"
      ]
     },
     "execution_count": 650,
     "metadata": {},
     "output_type": "execute_result"
    }
   ],
   "source": [
    "# Check for NA's\n",
    "reg_test['Speed Limit'].isnull().sum()\n",
    "# Speed Limit is good - int64 datatype, no NA's\n",
    "\n",
    "reg_test['Speed Limit'].value_counts()"
   ]
  },
  {
   "cell_type": "markdown",
   "metadata": {},
   "source": [
    "Treat value of -1 in this column is considered as missing data and replace with median."
   ]
  },
  {
   "cell_type": "code",
   "execution_count": 651,
   "metadata": {},
   "outputs": [],
   "source": [
    "# Replace the values of -1 with np.nan\n",
    "reg_test_2.loc[(reg_test_2['Speed Limit'] == -1), 'Speed Limit'] = np.nan"
   ]
  },
  {
   "cell_type": "code",
   "execution_count": 652,
   "metadata": {},
   "outputs": [
    {
     "name": "stderr",
     "output_type": "stream",
     "text": [
      "c:\\Users\\Christinme\\AppData\\Local\\Programs\\Python\\Python311\\Lib\\site-packages\\seaborn\\_oldcore.py:1498: FutureWarning: is_categorical_dtype is deprecated and will be removed in a future version. Use isinstance(dtype, CategoricalDtype) instead\n",
      "  if pd.api.types.is_categorical_dtype(vector):\n",
      "c:\\Users\\Christinme\\AppData\\Local\\Programs\\Python\\Python311\\Lib\\site-packages\\seaborn\\_oldcore.py:1119: FutureWarning: use_inf_as_na option is deprecated and will be removed in a future version. Convert inf values to NaN before operating instead.\n",
      "  with pd.option_context('mode.use_inf_as_na', True):\n"
     ]
    },
    {
     "data": {
      "text/plain": [
       "<matplotlib.legend.Legend at 0x1f145acc090>"
      ]
     },
     "execution_count": 652,
     "metadata": {},
     "output_type": "execute_result"
    },
    {
     "data": {
      "image/png": "[encoded data removed]",
      "text/plain": [
       "<Figure size 640x480 with 1 Axes>"
      ]
     },
     "metadata": {},
     "output_type": "display_data"
    }
   ],
   "source": [
    "# plotting the kde of Speed Limit to determine appropriate method to fill missing data\n",
    "\n",
    "# Plotting the kde of crash hour column\n",
    "sns.kdeplot(reg_test['Speed Limit'])\n",
    "\n",
    "# Plotting the mean and median of the Speed Limit\n",
    "plt.vlines(reg_test['Speed Limit'].mean(), ymin = 0, ymax = 0.04, color = 'green', label = 'Mean Line')\n",
    "plt.vlines(reg_test['Speed Limit'].median(), ymin = 0, ymax = 0.04, color = 'black', label = 'Median Line')\n",
    "plt.legend()"
   ]
  },
  {
   "cell_type": "code",
   "execution_count": 653,
   "metadata": {},
   "outputs": [],
   "source": [
    "# Fillna with median value\n",
    "speedLimit_median = reg_test['Speed Limit'].median()\n",
    "reg_test_2['Speed Limit'] = reg_test_2['Speed Limit'].fillna(speedLimit_median)"
   ]
  },
  {
   "cell_type": "code",
   "execution_count": 654,
   "metadata": {},
   "outputs": [
    {
     "data": {
      "text/plain": [
       "Speed Limit\n",
       "45.0    669\n",
       "50.0    571\n",
       "70.0    525\n",
       "40.0    381\n",
       "30.0    302\n",
       "35.0    294\n",
       "55.0    176\n",
       "60.0    130\n",
       "25.0     72\n",
       "10.0     28\n",
       "65.0     27\n",
       "20.0     25\n",
       "15.0     24\n",
       "75.0     19\n",
       "5.0      18\n",
       "Name: count, dtype: int64"
      ]
     },
     "execution_count": 654,
     "metadata": {},
     "output_type": "execute_result"
    }
   ],
   "source": [
    "reg_test_2['Speed Limit'].value_counts()"
   ]
  },
  {
   "cell_type": "markdown",
   "metadata": {},
   "source": [
    "#### Surface Condition"
   ]
  },
  {
   "cell_type": "code",
   "execution_count": 655,
   "metadata": {},
   "outputs": [
    {
     "data": {
      "text/plain": [
       "Surface Condition\n",
       "1 - DRY                              3034\n",
       "2 - WET                               212\n",
       "99 - UNKNOWN                            7\n",
       "3 - STANDING WATER                      5\n",
       "98 - OTHER (EXPLAIN IN NARRATIVE)       2\n",
       "7 - SAND, MUD, DIRT                     1\n",
       "Name: count, dtype: int64"
      ]
     },
     "execution_count": 655,
     "metadata": {},
     "output_type": "execute_result"
    }
   ],
   "source": [
    "reg_test['Surface Condition'].value_counts()"
   ]
  },
  {
   "cell_type": "code",
   "execution_count": 656,
   "metadata": {},
   "outputs": [
    {
     "data": {
      "text/plain": [
       "0"
      ]
     },
     "execution_count": 656,
     "metadata": {},
     "output_type": "execute_result"
    }
   ],
   "source": [
    "# Checking for NA's\n",
    "reg_test_2['Surface Condition'].isnull().sum()\n",
    "# No NA's"
   ]
  },
  {
   "cell_type": "code",
   "execution_count": 657,
   "metadata": {},
   "outputs": [],
   "source": [
    "# Replacing the 98 - OTHER (EXPLAIN IN NARRATIVE) and 99 - UNKNOWN with 1 - DRY\n",
    "\n",
    "# 98 - OTHER\n",
    "reg_test_2.loc[reg_test_2['Surface Condition'].str.contains('98 - OTHER', case = False), 'Surface Condition'] = '1 - DRY'\n",
    "\n",
    "# 99 - UNKNOWN\n",
    "reg_test_2.loc[reg_test_2['Surface Condition'].str.contains('99 - UNKNOWN', case = False), 'Surface Condition'] = '1 - DRY'"
   ]
  },
  {
   "cell_type": "code",
   "execution_count": 658,
   "metadata": {},
   "outputs": [],
   "source": [
    "# Replacing this with ordinal mapping\n",
    "# 1 - DRY as 1 and other categories as 0\n",
    "reg_test_2['Surface Condition'] = np.where(reg_test_2['Surface Condition'] == '1 - DRY', 1, 0)"
   ]
  },
  {
   "cell_type": "markdown",
   "metadata": {},
   "source": [
    "#### Surface Type"
   ]
  },
  {
   "cell_type": "code",
   "execution_count": 659,
   "metadata": {},
   "outputs": [],
   "source": [
    "# Drop column - No data\n",
    "reg_test_2.drop(columns = 'Surface Type', axis = 1, inplace = True)"
   ]
  },
  {
   "cell_type": "markdown",
   "metadata": {},
   "source": [
    "#### Surface Width"
   ]
  },
  {
   "cell_type": "code",
   "execution_count": 660,
   "metadata": {},
   "outputs": [],
   "source": [
    "# Drop the column surface width - high number of NA's\n",
    "reg_test_2.drop(columns = 'Surface Width', axis = 1, inplace = True)"
   ]
  },
  {
   "cell_type": "markdown",
   "metadata": {},
   "source": [
    "#### Weather Condition"
   ]
  },
  {
   "cell_type": "code",
   "execution_count": 661,
   "metadata": {},
   "outputs": [
    {
     "data": {
      "text/plain": [
       "Weather Condition\n",
       "1 - CLEAR                            2636\n",
       "2 - CLOUDY                            321\n",
       "3 - RAIN                              142\n",
       "99 - UNKNOWN                            7\n",
       "98 - OTHER (EXPLAIN IN NARRATIVE)       1\n",
       "6 - FOG                                 1\n",
       "Name: count, dtype: int64"
      ]
     },
     "execution_count": 661,
     "metadata": {},
     "output_type": "execute_result"
    }
   ],
   "source": [
    "reg_test_2['Weather Condition'].value_counts()"
   ]
  },
  {
   "cell_type": "code",
   "execution_count": 662,
   "metadata": {},
   "outputs": [],
   "source": [
    "# Sum NA's\n",
    "reg_test_2['Weather Condition'].isna().sum()\n",
    "# 153 NA's\n",
    "\n",
    "# Replace NA's with mode\n",
    "weatherCondition_mode = reg_test_2['Weather Condition'].mode()[0]\n",
    "reg_test_2['Weather Condition'] = reg_test_2['Weather Condition'].fillna(weatherCondition_mode)"
   ]
  },
  {
   "cell_type": "code",
   "execution_count": 663,
   "metadata": {},
   "outputs": [
    {
     "data": {
      "text/plain": [
       "0"
      ]
     },
     "execution_count": 663,
     "metadata": {},
     "output_type": "execute_result"
    }
   ],
   "source": [
    "reg_test_2['Weather Condition'].isna().sum()"
   ]
  },
  {
   "cell_type": "code",
   "execution_count": 664,
   "metadata": {},
   "outputs": [],
   "source": [
    "# Replace 98 - OTHER (EXPLAIN IN NARRATIVE) and 99 - UNKNOWN with the most frequent\n",
    "# 98 - OTHER\n",
    "reg_test_2.loc[reg_test_2['Weather Condition'].str.contains('98 - OTHER', case = False), 'Weather Condition'] = '1 - CLEAR'\n",
    "\n",
    "# 99 - UNKNOWN\n",
    "reg_test_2.loc[reg_test_2['Weather Condition'].str.contains('99 - UNKNOWN', case = False), 'Weather Condition'] = '1 - CLEAR'"
   ]
  },
  {
   "cell_type": "code",
   "execution_count": 665,
   "metadata": {},
   "outputs": [
    {
     "data": {
      "text/plain": [
       "Weather Condition\n",
       "1 - CLEAR     2797\n",
       "2 - CLOUDY     321\n",
       "3 - RAIN       142\n",
       "6 - FOG          1\n",
       "Name: count, dtype: int64"
      ]
     },
     "execution_count": 665,
     "metadata": {},
     "output_type": "execute_result"
    }
   ],
   "source": [
    "reg_test_2['Weather Condition'].value_counts()"
   ]
  },
  {
   "cell_type": "code",
   "execution_count": 666,
   "metadata": {},
   "outputs": [],
   "source": [
    "# Mapping the weather into CLEAR, CLOUDY and RAIN/FOG\n",
    "weather_dict = {'1 - CLEAR': 0,\n",
    "                '2 - CLOUDY': 1,\n",
    "                '3 - RAIN': 2,\n",
    "                '6 - FOG': 2}\n",
    "\n",
    "# Applying the mapping dictionary\n",
    "reg_test_2['Weather Condition'] = reg_test_2['Weather Condition'].map(weather_dict)"
   ]
  },
  {
   "cell_type": "markdown",
   "metadata": {},
   "source": [
    "#### Vehicle Body Style"
   ]
  },
  {
   "cell_type": "code",
   "execution_count": 667,
   "metadata": {},
   "outputs": [],
   "source": [
    "# For now, dropping the column Vehicle Body Style\n",
    "reg_test_2.drop(columns = ['Vehicle Body Style'], axis = 1, inplace = True)"
   ]
  },
  {
   "cell_type": "code",
   "execution_count": 668,
   "metadata": {},
   "outputs": [
    {
     "name": "stdout",
     "output_type": "stream",
     "text": [
      "<class 'pandas.core.frame.DataFrame'>\n",
      "RangeIndex: 3261 entries, 0 to 3260\n",
      "Data columns (total 18 columns):\n",
      " #   Column                                  Non-Null Count  Dtype  \n",
      "---  ------                                  --------------  -----  \n",
      " 0   Crash Severity                          3261 non-null   int64  \n",
      " 1   Speed Limit                             3261 non-null   float64\n",
      " 2   Surface Condition                       3261 non-null   int32  \n",
      " 3   Weather Condition                       3261 non-null   int64  \n",
      " 4   Person Age                              3094 non-null   object \n",
      " 5   Person Alcohol Result                   3098 non-null   object \n",
      " 6   Person Drug Test Result                 3116 non-null   object \n",
      " 7   Person Ethnicity                        3080 non-null   object \n",
      " 8   Person Gender                           3098 non-null   object \n",
      " 9   Crash Period_Late Night                 3261 non-null   int32  \n",
      " 10  Crash Period_Early Morning              3261 non-null   int32  \n",
      " 11  Crash Period_Morning                    3261 non-null   int32  \n",
      " 12  Crash Period_Noon                       3261 non-null   int32  \n",
      " 13  Crash Period_Evening                    3261 non-null   int32  \n",
      " 14  Manner of Collision_Angle               3261 non-null   int32  \n",
      " 15  Manner of Collision_One motor           3261 non-null   int32  \n",
      " 16  Manner of Collision_Opposite Direction  3261 non-null   int32  \n",
      " 17  Manner of Collision_Other               3261 non-null   int32  \n",
      "dtypes: float64(1), int32(10), int64(2), object(5)\n",
      "memory usage: 331.3+ KB\n"
     ]
    }
   ],
   "source": [
    "reg_test_2.info()"
   ]
  },
  {
   "cell_type": "markdown",
   "metadata": {},
   "source": [
    "#### Person Age"
   ]
  },
  {
   "cell_type": "code",
   "execution_count": 669,
   "metadata": {},
   "outputs": [],
   "source": [
    "# drop\n",
    "reg_test_2.drop(columns = ['Person Age'], axis = 1, inplace = True)"
   ]
  },
  {
   "cell_type": "markdown",
   "metadata": {},
   "source": [
    "#### Person Alcohol Result"
   ]
  },
  {
   "cell_type": "code",
   "execution_count": 670,
   "metadata": {},
   "outputs": [
    {
     "data": {
      "text/plain": [
       "Person Alcohol Result\n",
       "No Data         3089\n",
       "1 - POSITIVE       6\n",
       "2 - NEGATIVE       3\n",
       "Name: count, dtype: int64"
      ]
     },
     "execution_count": 670,
     "metadata": {},
     "output_type": "execute_result"
    }
   ],
   "source": [
    "# Counting the null values\n",
    "reg_test_2['Person Alcohol Result'].isna().sum()\n",
    "# 163 NA's\n",
    "\n",
    "# Counting the unique values\n",
    "reg_test_2['Person Alcohol Result'].value_counts()\n",
    "# 3,089 No Data (95% of data)"
   ]
  },
  {
   "cell_type": "code",
   "execution_count": 671,
   "metadata": {},
   "outputs": [],
   "source": [
    "# Use a np.where and assign No Data/Negative as 1 and 1 - Positive as 0\n",
    "# This is because a positive alcohol test result is highly likely to impact the seriousness of the accident and hence, the \n",
    "# length of time it takes to clear the site.\n",
    "reg_test_2['Person Alcohol Result'] = np.where(reg_test_2['Person Alcohol Result'] == '1 - POSITIVE', 0,1)"
   ]
  },
  {
   "cell_type": "markdown",
   "metadata": {},
   "source": [
    "#### Person Drug Test Result"
   ]
  },
  {
   "cell_type": "code",
   "execution_count": 672,
   "metadata": {},
   "outputs": [],
   "source": [
    "# Drop Column - ['Person Drug Test Result']\n",
    "reg_test_2.drop(columns = 'Person Drug Test Result', axis = 1, inplace = True)"
   ]
  },
  {
   "cell_type": "markdown",
   "metadata": {},
   "source": [
    "#### Person Ethnicity"
   ]
  },
  {
   "cell_type": "code",
   "execution_count": 673,
   "metadata": {},
   "outputs": [
    {
     "data": {
      "text/plain": [
       "Person Ethnicity\n",
       "W - WHITE                          1480\n",
       "H - HISPANIC                        644\n",
       "B - BLACK                           458\n",
       "A - ASIAN                           262\n",
       "99 - UNKNOWN                        161\n",
       "No Data                              29\n",
       "I - AMER. INDIAN/ALASKAN NATIVE      25\n",
       "98 - OTHER                           21\n",
       "Name: count, dtype: int64"
      ]
     },
     "execution_count": 673,
     "metadata": {},
     "output_type": "execute_result"
    }
   ],
   "source": [
    "# NA's\n",
    "reg_test_2['Person Ethnicity'].isna().sum()\n",
    "# 181 NA's\n",
    "\n",
    "# Value Counts\n",
    "reg_test_2['Person Ethnicity'].value_counts()"
   ]
  },
  {
   "cell_type": "code",
   "execution_count": 674,
   "metadata": {},
   "outputs": [],
   "source": [
    "# Fill NA with Others\n",
    "reg_test_2['Person Ethnicity'] = reg_test_2['Person Ethnicity'].fillna('White')"
   ]
  },
  {
   "cell_type": "code",
   "execution_count": 675,
   "metadata": {},
   "outputs": [],
   "source": [
    "# Creating supergroup: SAME DIRECTION, ANGLE, ONE MOTOR VEHICLE, OPPOSITE DIRECTION, ANGLE\n",
    "# W - WHITE\n",
    "reg_test_2.loc[reg_test_2['Person Ethnicity'].str.contains('W - WHITE', case = False), 'Person Ethnicity'] = 'White'\n",
    "\n",
    "# H - HISPANIC\n",
    "reg_test_2.loc[reg_test_2['Person Ethnicity'].str.contains('H - HISPANIC', case = False), 'Person Ethnicity'] = 'Hispanic'\n",
    "\n",
    "# B - BLACK\n",
    "reg_test_2.loc[reg_test_2['Person Ethnicity'].str.contains('B - BLACK', case = False), 'Person Ethnicity'] = 'Black'\n",
    "\n",
    "# A - ASIAN\n",
    "reg_test_2.loc[reg_test_2['Person Ethnicity'].str.contains('A - ASIAN', case = False), 'Person Ethnicity'] = 'Others'\n",
    "\n",
    "# 99 - UNKNOWN\n",
    "reg_test_2.loc[reg_test_2['Person Ethnicity'].str.contains('99 - UNKNOWN', case = False), 'Person Ethnicity'] = 'White'\n",
    "\n",
    "# I - AMER. INDIAN/ALASKAN NATIVE \n",
    "reg_test_2.loc[reg_test_2['Person Ethnicity'].str.contains('I - AMER. INDIAN/ALASKAN NATIVE', case = False), 'Person Ethnicity'] = 'Others'\n",
    "\n",
    "# 98 - OTHER\n",
    "reg_test_2.loc[reg_test_2['Person Ethnicity'].str.contains('98 - OTHER', case = False), 'Person Ethnicity'] = 'White'\n",
    "\n",
    "# No Data \n",
    "reg_test_2.loc[reg_test_2['Person Ethnicity'].str.contains('No Data', case = False), 'Person Ethnicity'] = 'Others'"
   ]
  },
  {
   "cell_type": "code",
   "execution_count": 676,
   "metadata": {},
   "outputs": [],
   "source": [
    "# One hot encode 'Person Ethnicity' column\n",
    "reg_test_2 = pd.get_dummies(reg_test_2, columns = ['Person Ethnicity'], dtype= 'int')\n",
    "\n",
    "# Drop Person Ethnicity_Others - regression\n",
    "reg_test_2 = reg_test_2.drop(columns = 'Person Ethnicity_Others', axis = 1)"
   ]
  },
  {
   "cell_type": "markdown",
   "metadata": {},
   "source": [
    "#### Person Gender"
   ]
  },
  {
   "cell_type": "code",
   "execution_count": 677,
   "metadata": {},
   "outputs": [
    {
     "data": {
      "text/plain": [
       "Person Gender\n",
       "1 - MALE        1640\n",
       "2 - FEMALE      1324\n",
       "99 - UNKNOWN     134\n",
       "Name: count, dtype: int64"
      ]
     },
     "execution_count": 677,
     "metadata": {},
     "output_type": "execute_result"
    }
   ],
   "source": [
    "# NA's\n",
    "reg_test_2['Person Gender'].isna().sum()\n",
    "# 163 NA's\n",
    "\n",
    "# Value Counts\n",
    "reg_test_2['Person Gender'].value_counts()\n",
    "# 1 - MALE        1640\n",
    "# 2 - FEMALE      1324\n",
    "# 99 - UNKNOWN     134"
   ]
  },
  {
   "cell_type": "code",
   "execution_count": 678,
   "metadata": {},
   "outputs": [],
   "source": [
    "# Fill NA with Male\n",
    "reg_test_2['Person Gender'] = reg_test_2['Person Gender'].fillna('Male')\n",
    "\n",
    "# 99 - UNKNOWN\n",
    "reg_test_2.loc[reg_test_2['Person Gender'].str.contains('1 - MALE', case = False), 'Person Gender'] = 'Male'\n",
    "\n",
    "# 99 - UNKNOWN\n",
    "reg_test_2.loc[reg_test_2['Person Gender'].str.contains('2 - FEMALE', case = False), 'Person Gender'] = 'Female'\n",
    "\n",
    "# 99 - UNKNOWN\n",
    "reg_test_2.loc[reg_test_2['Person Gender'].str.contains('99 - UNKNOWN', case = False), 'Person Gender'] = 'Male'"
   ]
  },
  {
   "cell_type": "code",
   "execution_count": 679,
   "metadata": {},
   "outputs": [
    {
     "data": {
      "text/plain": [
       "Person Gender\n",
       "Male      1937\n",
       "Female    1324\n",
       "Name: count, dtype: int64"
      ]
     },
     "execution_count": 679,
     "metadata": {},
     "output_type": "execute_result"
    }
   ],
   "source": [
    "reg_test_2['Person Gender'].value_counts()"
   ]
  },
  {
   "cell_type": "code",
   "execution_count": 680,
   "metadata": {},
   "outputs": [],
   "source": [
    "reg_test_2['Person Gender'] = np.where(reg_test_2['Person Gender'] == 'Male', 1,0)"
   ]
  },
  {
   "cell_type": "code",
   "execution_count": 681,
   "metadata": {},
   "outputs": [],
   "source": [
    "# Renaming clean data\n",
    "reg_test_clean = reg_test_2"
   ]
  },
  {
   "cell_type": "markdown",
   "id": "74da1c20",
   "metadata": {},
   "source": [
    "#### Data Scaling\n",
    "\n",
    "For scaling, we use the StandardScaler. This centers the feature columns to mean 0 with standard deviation 1 so that the feature columns take the form of a normal distribution, which makes it easier for ML linear models to learn weights. Furthermore, standardization maintains useful information about outliers and makes the algorithm less sensitive to them in contrast to min-max scaling, which scales the data to a limited range of values."
   ]
  },
  {
   "cell_type": "code",
   "execution_count": 682,
   "id": "a06127b8",
   "metadata": {},
   "outputs": [],
   "source": [
    "# import library\n",
    "from sklearn.preprocessing import StandardScaler"
   ]
  },
  {
   "cell_type": "markdown",
   "metadata": {},
   "source": [
    "Training Data"
   ]
  },
  {
   "cell_type": "code",
   "execution_count": 683,
   "id": "83cfbbc6",
   "metadata": {},
   "outputs": [],
   "source": [
    "scaler = StandardScaler() # model instantiation\n",
    "scaler.fit(X_train_clean)\n",
    "X_train_scaled = scaler.transform(X_train_clean)\n",
    "X_train_scaled = pd.DataFrame(X_train_scaled, columns = X_train_clean.columns)"
   ]
  },
  {
   "cell_type": "code",
   "execution_count": 684,
   "id": "1e4be613",
   "metadata": {},
   "outputs": [
    {
     "data": {
      "text/html": [
       "<div>\n",
       "<style scoped>\n",
       "    .dataframe tbody tr th:only-of-type {\n",
       "        vertical-align: middle;\n",
       "    }\n",
       "\n",
       "    .dataframe tbody tr th {\n",
       "        vertical-align: top;\n",
       "    }\n",
       "\n",
       "    .dataframe thead th {\n",
       "        text-align: right;\n",
       "    }\n",
       "</style>\n",
       "<table border=\"1\" class=\"dataframe\">\n",
       "  <thead>\n",
       "    <tr style=\"text-align: right;\">\n",
       "      <th></th>\n",
       "      <th>Crash Severity</th>\n",
       "      <th>Speed Limit</th>\n",
       "      <th>Surface Condition</th>\n",
       "      <th>Weather Condition</th>\n",
       "      <th>Person Alcohol Result</th>\n",
       "      <th>Person Gender</th>\n",
       "      <th>Crash Period_Late Night</th>\n",
       "      <th>Crash Period_Early Morning</th>\n",
       "      <th>Crash Period_Morning</th>\n",
       "      <th>Crash Period_Noon</th>\n",
       "      <th>Crash Period_Evening</th>\n",
       "      <th>Manner of Collision_Angle</th>\n",
       "      <th>Manner of Collision_One motor</th>\n",
       "      <th>Manner of Collision_Opposite Direction</th>\n",
       "      <th>Manner of Collision_Other</th>\n",
       "      <th>Person Ethnicity_Black</th>\n",
       "      <th>Person Ethnicity_Hispanic</th>\n",
       "      <th>Person Ethnicity_White</th>\n",
       "    </tr>\n",
       "  </thead>\n",
       "  <tbody>\n",
       "    <tr>\n",
       "      <th>0</th>\n",
       "      <td>-0.608563</td>\n",
       "      <td>-0.531412</td>\n",
       "      <td>0.267854</td>\n",
       "      <td>-0.363932</td>\n",
       "      <td>0.042939</td>\n",
       "      <td>0.790215</td>\n",
       "      <td>-0.197168</td>\n",
       "      <td>-0.361872</td>\n",
       "      <td>-0.448509</td>\n",
       "      <td>1.289596</td>\n",
       "      <td>-0.535115</td>\n",
       "      <td>-0.575786</td>\n",
       "      <td>-0.398094</td>\n",
       "      <td>2.615693</td>\n",
       "      <td>-0.106037</td>\n",
       "      <td>-0.402864</td>\n",
       "      <td>-0.493257</td>\n",
       "      <td>0.844654</td>\n",
       "    </tr>\n",
       "    <tr>\n",
       "      <th>1</th>\n",
       "      <td>-0.608563</td>\n",
       "      <td>1.634482</td>\n",
       "      <td>0.267854</td>\n",
       "      <td>-0.363932</td>\n",
       "      <td>0.042939</td>\n",
       "      <td>-1.265479</td>\n",
       "      <td>-0.197168</td>\n",
       "      <td>-0.361872</td>\n",
       "      <td>-0.448509</td>\n",
       "      <td>1.289596</td>\n",
       "      <td>-0.535115</td>\n",
       "      <td>-0.575786</td>\n",
       "      <td>2.511967</td>\n",
       "      <td>-0.382308</td>\n",
       "      <td>-0.106037</td>\n",
       "      <td>-0.402864</td>\n",
       "      <td>-0.493257</td>\n",
       "      <td>0.844654</td>\n",
       "    </tr>\n",
       "    <tr>\n",
       "      <th>2</th>\n",
       "      <td>0.574366</td>\n",
       "      <td>0.190553</td>\n",
       "      <td>0.267854</td>\n",
       "      <td>1.758627</td>\n",
       "      <td>0.042939</td>\n",
       "      <td>-1.265479</td>\n",
       "      <td>-0.197168</td>\n",
       "      <td>-0.361872</td>\n",
       "      <td>-0.448509</td>\n",
       "      <td>1.289596</td>\n",
       "      <td>-0.535115</td>\n",
       "      <td>-0.575786</td>\n",
       "      <td>-0.398094</td>\n",
       "      <td>-0.382308</td>\n",
       "      <td>-0.106037</td>\n",
       "      <td>-0.402864</td>\n",
       "      <td>-0.493257</td>\n",
       "      <td>0.844654</td>\n",
       "    </tr>\n",
       "    <tr>\n",
       "      <th>3</th>\n",
       "      <td>-0.608563</td>\n",
       "      <td>0.190553</td>\n",
       "      <td>0.267854</td>\n",
       "      <td>-0.363932</td>\n",
       "      <td>0.042939</td>\n",
       "      <td>-1.265479</td>\n",
       "      <td>-0.197168</td>\n",
       "      <td>2.763408</td>\n",
       "      <td>-0.448509</td>\n",
       "      <td>-0.775436</td>\n",
       "      <td>-0.535115</td>\n",
       "      <td>-0.575786</td>\n",
       "      <td>-0.398094</td>\n",
       "      <td>-0.382308</td>\n",
       "      <td>-0.106037</td>\n",
       "      <td>2.482227</td>\n",
       "      <td>-0.493257</td>\n",
       "      <td>-1.183916</td>\n",
       "    </tr>\n",
       "    <tr>\n",
       "      <th>4</th>\n",
       "      <td>-0.608563</td>\n",
       "      <td>-0.531412</td>\n",
       "      <td>0.267854</td>\n",
       "      <td>-0.363932</td>\n",
       "      <td>0.042939</td>\n",
       "      <td>0.790215</td>\n",
       "      <td>-0.197168</td>\n",
       "      <td>-0.361872</td>\n",
       "      <td>-0.448509</td>\n",
       "      <td>-0.775436</td>\n",
       "      <td>1.868756</td>\n",
       "      <td>-0.575786</td>\n",
       "      <td>-0.398094</td>\n",
       "      <td>-0.382308</td>\n",
       "      <td>-0.106037</td>\n",
       "      <td>-0.402864</td>\n",
       "      <td>-0.493257</td>\n",
       "      <td>0.844654</td>\n",
       "    </tr>\n",
       "  </tbody>\n",
       "</table>\n",
       "</div>"
      ],
      "text/plain": [
       "   Crash Severity  Speed Limit  Surface Condition  Weather Condition  \\\n",
       "0       -0.608563    -0.531412           0.267854          -0.363932   \n",
       "1       -0.608563     1.634482           0.267854          -0.363932   \n",
       "2        0.574366     0.190553           0.267854           1.758627   \n",
       "3       -0.608563     0.190553           0.267854          -0.363932   \n",
       "4       -0.608563    -0.531412           0.267854          -0.363932   \n",
       "\n",
       "   Person Alcohol Result  Person Gender  Crash Period_Late Night  \\\n",
       "0               0.042939       0.790215                -0.197168   \n",
       "1               0.042939      -1.265479                -0.197168   \n",
       "2               0.042939      -1.265479                -0.197168   \n",
       "3               0.042939      -1.265479                -0.197168   \n",
       "4               0.042939       0.790215                -0.197168   \n",
       "\n",
       "   Crash Period_Early Morning  Crash Period_Morning  Crash Period_Noon  \\\n",
       "0                   -0.361872             -0.448509           1.289596   \n",
       "1                   -0.361872             -0.448509           1.289596   \n",
       "2                   -0.361872             -0.448509           1.289596   \n",
       "3                    2.763408             -0.448509          -0.775436   \n",
       "4                   -0.361872             -0.448509          -0.775436   \n",
       "\n",
       "   Crash Period_Evening  Manner of Collision_Angle  \\\n",
       "0             -0.535115                  -0.575786   \n",
       "1             -0.535115                  -0.575786   \n",
       "2             -0.535115                  -0.575786   \n",
       "3             -0.535115                  -0.575786   \n",
       "4              1.868756                  -0.575786   \n",
       "\n",
       "   Manner of Collision_One motor  Manner of Collision_Opposite Direction  \\\n",
       "0                      -0.398094                                2.615693   \n",
       "1                       2.511967                               -0.382308   \n",
       "2                      -0.398094                               -0.382308   \n",
       "3                      -0.398094                               -0.382308   \n",
       "4                      -0.398094                               -0.382308   \n",
       "\n",
       "   Manner of Collision_Other  Person Ethnicity_Black  \\\n",
       "0                  -0.106037               -0.402864   \n",
       "1                  -0.106037               -0.402864   \n",
       "2                  -0.106037               -0.402864   \n",
       "3                  -0.106037                2.482227   \n",
       "4                  -0.106037               -0.402864   \n",
       "\n",
       "   Person Ethnicity_Hispanic  Person Ethnicity_White  \n",
       "0                  -0.493257                0.844654  \n",
       "1                  -0.493257                0.844654  \n",
       "2                  -0.493257                0.844654  \n",
       "3                  -0.493257               -1.183916  \n",
       "4                  -0.493257                0.844654  "
      ]
     },
     "execution_count": 684,
     "metadata": {},
     "output_type": "execute_result"
    }
   ],
   "source": [
    "X_train_scaled.describe()\n",
    "X_train_scaled.head()"
   ]
  },
  {
   "cell_type": "code",
   "execution_count": 685,
   "metadata": {},
   "outputs": [
    {
     "name": "stdout",
     "output_type": "stream",
     "text": [
      "<class 'pandas.core.frame.DataFrame'>\n",
      "RangeIndex: 13041 entries, 0 to 13040\n",
      "Data columns (total 18 columns):\n",
      " #   Column                                  Non-Null Count  Dtype  \n",
      "---  ------                                  --------------  -----  \n",
      " 0   Crash Severity                          13041 non-null  float64\n",
      " 1   Speed Limit                             13041 non-null  float64\n",
      " 2   Surface Condition                       13041 non-null  float64\n",
      " 3   Weather Condition                       13041 non-null  float64\n",
      " 4   Person Alcohol Result                   13041 non-null  float64\n",
      " 5   Person Gender                           13041 non-null  float64\n",
      " 6   Crash Period_Late Night                 13041 non-null  float64\n",
      " 7   Crash Period_Early Morning              13041 non-null  float64\n",
      " 8   Crash Period_Morning                    13041 non-null  float64\n",
      " 9   Crash Period_Noon                       13041 non-null  float64\n",
      " 10  Crash Period_Evening                    13041 non-null  float64\n",
      " 11  Manner of Collision_Angle               13041 non-null  float64\n",
      " 12  Manner of Collision_One motor           13041 non-null  float64\n",
      " 13  Manner of Collision_Opposite Direction  13041 non-null  float64\n",
      " 14  Manner of Collision_Other               13041 non-null  float64\n",
      " 15  Person Ethnicity_Black                  13041 non-null  float64\n",
      " 16  Person Ethnicity_Hispanic               13041 non-null  float64\n",
      " 17  Person Ethnicity_White                  13041 non-null  float64\n",
      "dtypes: float64(18)\n",
      "memory usage: 1.8 MB\n"
     ]
    }
   ],
   "source": [
    "X_train_scaled.info()"
   ]
  },
  {
   "cell_type": "markdown",
   "metadata": {},
   "source": [
    "Testing Data"
   ]
  },
  {
   "cell_type": "code",
   "execution_count": 686,
   "metadata": {},
   "outputs": [],
   "source": [
    "reg_test_scaled = scaler.transform(reg_test_clean)\n",
    "reg_test_scaled = pd.DataFrame(reg_test_scaled, columns = reg_test_clean.columns)"
   ]
  },
  {
   "cell_type": "code",
   "execution_count": 687,
   "metadata": {},
   "outputs": [
    {
     "data": {
      "text/html": [
       "<div>\n",
       "<style scoped>\n",
       "    .dataframe tbody tr th:only-of-type {\n",
       "        vertical-align: middle;\n",
       "    }\n",
       "\n",
       "    .dataframe tbody tr th {\n",
       "        vertical-align: top;\n",
       "    }\n",
       "\n",
       "    .dataframe thead th {\n",
       "        text-align: right;\n",
       "    }\n",
       "</style>\n",
       "<table border=\"1\" class=\"dataframe\">\n",
       "  <thead>\n",
       "    <tr style=\"text-align: right;\">\n",
       "      <th></th>\n",
       "      <th>Crash Severity</th>\n",
       "      <th>Speed Limit</th>\n",
       "      <th>Surface Condition</th>\n",
       "      <th>Weather Condition</th>\n",
       "      <th>Person Alcohol Result</th>\n",
       "      <th>Person Gender</th>\n",
       "      <th>Crash Period_Late Night</th>\n",
       "      <th>Crash Period_Early Morning</th>\n",
       "      <th>Crash Period_Morning</th>\n",
       "      <th>Crash Period_Noon</th>\n",
       "      <th>Crash Period_Evening</th>\n",
       "      <th>Manner of Collision_Angle</th>\n",
       "      <th>Manner of Collision_One motor</th>\n",
       "      <th>Manner of Collision_Opposite Direction</th>\n",
       "      <th>Manner of Collision_Other</th>\n",
       "      <th>Person Ethnicity_Black</th>\n",
       "      <th>Person Ethnicity_Hispanic</th>\n",
       "      <th>Person Ethnicity_White</th>\n",
       "    </tr>\n",
       "  </thead>\n",
       "  <tbody>\n",
       "    <tr>\n",
       "      <th>0</th>\n",
       "      <td>0.574366</td>\n",
       "      <td>-0.531412</td>\n",
       "      <td>0.267854</td>\n",
       "      <td>-0.363932</td>\n",
       "      <td>0.042939</td>\n",
       "      <td>0.790215</td>\n",
       "      <td>-0.197168</td>\n",
       "      <td>-0.361872</td>\n",
       "      <td>-0.448509</td>\n",
       "      <td>1.289596</td>\n",
       "      <td>-0.535115</td>\n",
       "      <td>1.736756</td>\n",
       "      <td>-0.398094</td>\n",
       "      <td>-0.382308</td>\n",
       "      <td>-0.106037</td>\n",
       "      <td>-0.402864</td>\n",
       "      <td>2.027341</td>\n",
       "      <td>-1.183916</td>\n",
       "    </tr>\n",
       "    <tr>\n",
       "      <th>1</th>\n",
       "      <td>-0.608563</td>\n",
       "      <td>1.634482</td>\n",
       "      <td>0.267854</td>\n",
       "      <td>1.758627</td>\n",
       "      <td>0.042939</td>\n",
       "      <td>0.790215</td>\n",
       "      <td>-0.197168</td>\n",
       "      <td>-0.361872</td>\n",
       "      <td>2.229608</td>\n",
       "      <td>-0.775436</td>\n",
       "      <td>-0.535115</td>\n",
       "      <td>-0.575786</td>\n",
       "      <td>-0.398094</td>\n",
       "      <td>-0.382308</td>\n",
       "      <td>-0.106037</td>\n",
       "      <td>-0.402864</td>\n",
       "      <td>-0.493257</td>\n",
       "      <td>0.844654</td>\n",
       "    </tr>\n",
       "    <tr>\n",
       "      <th>2</th>\n",
       "      <td>0.574366</td>\n",
       "      <td>0.190553</td>\n",
       "      <td>0.267854</td>\n",
       "      <td>-0.363932</td>\n",
       "      <td>0.042939</td>\n",
       "      <td>0.790215</td>\n",
       "      <td>-0.197168</td>\n",
       "      <td>-0.361872</td>\n",
       "      <td>-0.448509</td>\n",
       "      <td>-0.775436</td>\n",
       "      <td>1.868756</td>\n",
       "      <td>1.736756</td>\n",
       "      <td>-0.398094</td>\n",
       "      <td>-0.382308</td>\n",
       "      <td>-0.106037</td>\n",
       "      <td>-0.402864</td>\n",
       "      <td>2.027341</td>\n",
       "      <td>-1.183916</td>\n",
       "    </tr>\n",
       "    <tr>\n",
       "      <th>3</th>\n",
       "      <td>-0.608563</td>\n",
       "      <td>0.190553</td>\n",
       "      <td>0.267854</td>\n",
       "      <td>-0.363932</td>\n",
       "      <td>0.042939</td>\n",
       "      <td>-1.265479</td>\n",
       "      <td>-0.197168</td>\n",
       "      <td>-0.361872</td>\n",
       "      <td>-0.448509</td>\n",
       "      <td>-0.775436</td>\n",
       "      <td>1.868756</td>\n",
       "      <td>1.736756</td>\n",
       "      <td>-0.398094</td>\n",
       "      <td>-0.382308</td>\n",
       "      <td>-0.106037</td>\n",
       "      <td>-0.402864</td>\n",
       "      <td>-0.493257</td>\n",
       "      <td>0.844654</td>\n",
       "    </tr>\n",
       "    <tr>\n",
       "      <th>4</th>\n",
       "      <td>-0.608563</td>\n",
       "      <td>-0.170429</td>\n",
       "      <td>0.267854</td>\n",
       "      <td>-0.363932</td>\n",
       "      <td>0.042939</td>\n",
       "      <td>0.790215</td>\n",
       "      <td>-0.197168</td>\n",
       "      <td>-0.361872</td>\n",
       "      <td>-0.448509</td>\n",
       "      <td>-0.775436</td>\n",
       "      <td>1.868756</td>\n",
       "      <td>-0.575786</td>\n",
       "      <td>-0.398094</td>\n",
       "      <td>-0.382308</td>\n",
       "      <td>-0.106037</td>\n",
       "      <td>-0.402864</td>\n",
       "      <td>-0.493257</td>\n",
       "      <td>0.844654</td>\n",
       "    </tr>\n",
       "  </tbody>\n",
       "</table>\n",
       "</div>"
      ],
      "text/plain": [
       "   Crash Severity  Speed Limit  Surface Condition  Weather Condition  \\\n",
       "0        0.574366    -0.531412           0.267854          -0.363932   \n",
       "1       -0.608563     1.634482           0.267854           1.758627   \n",
       "2        0.574366     0.190553           0.267854          -0.363932   \n",
       "3       -0.608563     0.190553           0.267854          -0.363932   \n",
       "4       -0.608563    -0.170429           0.267854          -0.363932   \n",
       "\n",
       "   Person Alcohol Result  Person Gender  Crash Period_Late Night  \\\n",
       "0               0.042939       0.790215                -0.197168   \n",
       "1               0.042939       0.790215                -0.197168   \n",
       "2               0.042939       0.790215                -0.197168   \n",
       "3               0.042939      -1.265479                -0.197168   \n",
       "4               0.042939       0.790215                -0.197168   \n",
       "\n",
       "   Crash Period_Early Morning  Crash Period_Morning  Crash Period_Noon  \\\n",
       "0                   -0.361872             -0.448509           1.289596   \n",
       "1                   -0.361872              2.229608          -0.775436   \n",
       "2                   -0.361872             -0.448509          -0.775436   \n",
       "3                   -0.361872             -0.448509          -0.775436   \n",
       "4                   -0.361872             -0.448509          -0.775436   \n",
       "\n",
       "   Crash Period_Evening  Manner of Collision_Angle  \\\n",
       "0             -0.535115                   1.736756   \n",
       "1             -0.535115                  -0.575786   \n",
       "2              1.868756                   1.736756   \n",
       "3              1.868756                   1.736756   \n",
       "4              1.868756                  -0.575786   \n",
       "\n",
       "   Manner of Collision_One motor  Manner of Collision_Opposite Direction  \\\n",
       "0                      -0.398094                               -0.382308   \n",
       "1                      -0.398094                               -0.382308   \n",
       "2                      -0.398094                               -0.382308   \n",
       "3                      -0.398094                               -0.382308   \n",
       "4                      -0.398094                               -0.382308   \n",
       "\n",
       "   Manner of Collision_Other  Person Ethnicity_Black  \\\n",
       "0                  -0.106037               -0.402864   \n",
       "1                  -0.106037               -0.402864   \n",
       "2                  -0.106037               -0.402864   \n",
       "3                  -0.106037               -0.402864   \n",
       "4                  -0.106037               -0.402864   \n",
       "\n",
       "   Person Ethnicity_Hispanic  Person Ethnicity_White  \n",
       "0                   2.027341               -1.183916  \n",
       "1                  -0.493257                0.844654  \n",
       "2                   2.027341               -1.183916  \n",
       "3                  -0.493257                0.844654  \n",
       "4                  -0.493257                0.844654  "
      ]
     },
     "execution_count": 687,
     "metadata": {},
     "output_type": "execute_result"
    }
   ],
   "source": [
    "reg_test_scaled.describe()\n",
    "reg_test_scaled.head()"
   ]
  },
  {
   "cell_type": "code",
   "execution_count": 500,
   "metadata": {},
   "outputs": [
    {
     "name": "stdout",
     "output_type": "stream",
     "text": [
      "<class 'pandas.core.frame.DataFrame'>\n",
      "RangeIndex: 3261 entries, 0 to 3260\n",
      "Data columns (total 18 columns):\n",
      " #   Column                                  Non-Null Count  Dtype  \n",
      "---  ------                                  --------------  -----  \n",
      " 0   Crash Severity                          3261 non-null   float64\n",
      " 1   Speed Limit                             3261 non-null   float64\n",
      " 2   Surface Condition                       3261 non-null   float64\n",
      " 3   Weather Condition                       3261 non-null   float64\n",
      " 4   Person Alcohol Result                   3261 non-null   float64\n",
      " 5   Person Gender                           3261 non-null   float64\n",
      " 6   Crash Period_Late Night                 3261 non-null   float64\n",
      " 7   Crash Period_Early Morning              3261 non-null   float64\n",
      " 8   Crash Period_Morning                    3261 non-null   float64\n",
      " 9   Crash Period_Noon                       3261 non-null   float64\n",
      " 10  Crash Period_Evening                    3261 non-null   float64\n",
      " 11  Manner of Collision_Angle               3261 non-null   float64\n",
      " 12  Manner of Collision_One motor           3261 non-null   float64\n",
      " 13  Manner of Collision_Opposite Direction  3261 non-null   float64\n",
      " 14  Manner of Collision_Other               3261 non-null   float64\n",
      " 15  Person Ethnicity_Black                  3261 non-null   float64\n",
      " 16  Person Ethnicity_Hispanic               3261 non-null   float64\n",
      " 17  Person Ethnicity_White                  3261 non-null   float64\n",
      "dtypes: float64(18)\n",
      "memory usage: 458.7 KB\n"
     ]
    }
   ],
   "source": [
    "reg_test_scaled.info()"
   ]
  },
  {
   "cell_type": "markdown",
   "id": "6e9494c0",
   "metadata": {},
   "source": [
    "### Clustering\n",
    "\n",
    "Here, we apply the clustering methods learned in class to study the structure of the data. Through this, we hope to see how the defined feature columns relates to each other and possible patterns that might come out."
   ]
  },
  {
   "cell_type": "markdown",
   "id": "daca3595",
   "metadata": {},
   "source": [
    "#### Agglomerative Clustering"
   ]
  },
  {
   "cell_type": "code",
   "execution_count": 501,
   "id": "8e669e7b",
   "metadata": {},
   "outputs": [],
   "source": [
    "# import library\n",
    "from sklearn.cluster import AgglomerativeClustering\n",
    "from sklearn import metrics"
   ]
  },
  {
   "cell_type": "markdown",
   "metadata": {},
   "source": [
    "To find the optimal number of clusters, we use the Silhoutte Score metric."
   ]
  },
  {
   "cell_type": "code",
   "execution_count": 502,
   "metadata": {},
   "outputs": [],
   "source": [
    "# run a for-loop to find optimal cluster - Agglomerative Clsutering\n",
    "# using silhoutte score\n",
    "\n",
    "n_clus_agg = []\n",
    "ss_score_agg = []\n",
    "max_clus_agg = 20\n",
    "\n",
    "for i in range(2,(max_clus_agg + 1)):\n",
    "# for i in range(max_iter, len(X_scaled)):\n",
    "    # instantiate model\n",
    "    agg_cluster = AgglomerativeClustering(n_clusters = i, linkage = 'ward')\n",
    "\n",
    "    # Train the clustering model on the feature set\n",
    "    agg_cluster.fit(X_train_scaled)\n",
    "\n",
    "    # silhouette_score\n",
    "    labels = agg_cluster.labels_\n",
    "    ss = metrics.silhouette_score(X_train_scaled, labels, metric='euclidean')\n",
    "    \n",
    "    # store result in list\n",
    "    n_clus_agg.append(i)\n",
    "    ss_score_agg.append(ss)\n",
    "    \n",
    "# create ss_dict\n",
    "ss_dict_agg = {n_clus_agg[i]: ss_score_agg[i] for i in range(len(n_clus_agg))}"
   ]
  },
  {
   "cell_type": "code",
   "execution_count": 503,
   "metadata": {},
   "outputs": [
    {
     "data": {
      "image/png": "[encoded data removed]",
      "text/plain": [
       "<Figure size 1000x500 with 1 Axes>"
      ]
     },
     "metadata": {},
     "output_type": "display_data"
    }
   ],
   "source": [
    "# plot \n",
    "\n",
    "%matplotlib inline\n",
    "\n",
    "plt.subplots(figsize = (10,5))\n",
    "plt.plot(n_clus_agg, ss_score_agg, label = 'Silhoutte score')\n",
    "plt.xticks(n_clus_agg)\n",
    "plt.xlabel('Number of Clusters')\n",
    "plt.ylabel('Silhoutte score')\n",
    "plt.legend()\n",
    "plt.grid()"
   ]
  },
  {
   "cell_type": "code",
   "execution_count": 504,
   "metadata": {},
   "outputs": [
    {
     "data": {
      "text/html": [
       "<div>\n",
       "<style scoped>\n",
       "    .dataframe tbody tr th:only-of-type {\n",
       "        vertical-align: middle;\n",
       "    }\n",
       "\n",
       "    .dataframe tbody tr th {\n",
       "        vertical-align: top;\n",
       "    }\n",
       "\n",
       "    .dataframe thead th {\n",
       "        text-align: right;\n",
       "    }\n",
       "</style>\n",
       "<table border=\"1\" class=\"dataframe\">\n",
       "  <thead>\n",
       "    <tr style=\"text-align: right;\">\n",
       "      <th></th>\n",
       "      <th>cluster</th>\n",
       "      <th>sil_score_agg</th>\n",
       "    </tr>\n",
       "  </thead>\n",
       "  <tbody>\n",
       "    <tr>\n",
       "      <th>0</th>\n",
       "      <td>2</td>\n",
       "      <td>0.300467</td>\n",
       "    </tr>\n",
       "    <tr>\n",
       "      <th>1</th>\n",
       "      <td>3</td>\n",
       "      <td>0.284733</td>\n",
       "    </tr>\n",
       "    <tr>\n",
       "      <th>18</th>\n",
       "      <td>20</td>\n",
       "      <td>0.221544</td>\n",
       "    </tr>\n",
       "  </tbody>\n",
       "</table>\n",
       "</div>"
      ],
      "text/plain": [
       "    cluster  sil_score_agg\n",
       "0         2       0.300467\n",
       "1         3       0.284733\n",
       "18       20       0.221544"
      ]
     },
     "execution_count": 504,
     "metadata": {},
     "output_type": "execute_result"
    }
   ],
   "source": [
    "# return top 3 number of cluster by silhoutte score\n",
    "ss_dict_agg_df = pd.DataFrame({'cluster': n_clus_agg, 'sil_score_agg': ss_score_agg})\n",
    "ss_dict_agg_df.sort_values(by = 'sil_score_agg', ascending= False).head(3)"
   ]
  },
  {
   "cell_type": "markdown",
   "metadata": {},
   "source": [
    "The top 3 number of clusters by silhoutte score are listed below:\n",
    "Number of clusters: 2; silhoutte score: 0.300\n",
    "Number of clusters: 4; silhoutte score: 0.285\n",
    "Number of clusters: 3; silhoutte score: 0.222\n",
    "\n",
    "We chose the number of cluster with the highest Silhoutte score which is 2."
   ]
  },
  {
   "cell_type": "markdown",
   "metadata": {},
   "source": [
    "Apply Agglomerative Clustering with optimal number of cluster"
   ]
  },
  {
   "cell_type": "code",
   "execution_count": 505,
   "id": "8ea53fc0",
   "metadata": {},
   "outputs": [],
   "source": [
    "# clustering\n",
    "model = AgglomerativeClustering(n_clusters = 2, linkage = 'ward')\n",
    "\n",
    "# Train the model\n",
    "model = model.fit(X_train_scaled)"
   ]
  },
  {
   "cell_type": "code",
   "execution_count": 506,
   "id": "c62ce14d",
   "metadata": {},
   "outputs": [
    {
     "data": {
      "text/plain": [
       "2"
      ]
     },
     "execution_count": 506,
     "metadata": {},
     "output_type": "execute_result"
    }
   ],
   "source": [
    "# The number of clusters found by the algorithm.\n",
    "model.n_clusters_"
   ]
  },
  {
   "cell_type": "code",
   "execution_count": 507,
   "id": "14e9e3cd",
   "metadata": {},
   "outputs": [
    {
     "data": {
      "text/plain": [
       "array([1, 1, 1, ..., 1, 1, 1], dtype=int64)"
      ]
     },
     "execution_count": 507,
     "metadata": {},
     "output_type": "execute_result"
    }
   ],
   "source": [
    "# Cluster labels for each point.\n",
    "model.labels_"
   ]
  },
  {
   "cell_type": "code",
   "execution_count": 508,
   "id": "10363b26",
   "metadata": {},
   "outputs": [
    {
     "data": {
      "text/plain": [
       "{0: 1298, 1: 11743}"
      ]
     },
     "execution_count": 508,
     "metadata": {},
     "output_type": "execute_result"
    }
   ],
   "source": [
    "# Define the number of data in each cluster\n",
    "\n",
    "clu = []\n",
    "clu_num = []\n",
    "\n",
    "for i in range(model.n_clusters_):\n",
    "    # Number of data in each cluster.\n",
    "    clu_size = model.labels_[model.labels_ == i].size\n",
    "    clu.append(i)\n",
    "    clu_num.append(clu_size)\n",
    "    \n",
    "# create clu_num_dict\n",
    "clu_num_dict = {clu[i]: clu_num[i] for i in range(len(clu))}\n",
    "clu_num_dict"
   ]
  },
  {
   "cell_type": "markdown",
   "metadata": {},
   "source": [
    "We have 1298 instances in cluster 0 and 11743 instances in cluster 1"
   ]
  },
  {
   "cell_type": "markdown",
   "id": "4e97dba5",
   "metadata": {},
   "source": [
    "Explore individual clusters - AgglomerativeClustering"
   ]
  },
  {
   "cell_type": "code",
   "execution_count": 509,
   "id": "82029160",
   "metadata": {},
   "outputs": [],
   "source": [
    "# Attach cluster label to X_train_clean \n",
    "# to thoroughly explore the contents of each cluster\n",
    "\n",
    "X_train_cluster = X_train_clean\n",
    "X_train_cluster['clusters'] = model.labels_"
   ]
  },
  {
   "cell_type": "code",
   "execution_count": 510,
   "id": "d551b5f0",
   "metadata": {},
   "outputs": [
    {
     "data": {
      "text/html": [
       "<div>\n",
       "<style scoped>\n",
       "    .dataframe tbody tr th:only-of-type {\n",
       "        vertical-align: middle;\n",
       "    }\n",
       "\n",
       "    .dataframe tbody tr th {\n",
       "        vertical-align: top;\n",
       "    }\n",
       "\n",
       "    .dataframe thead th {\n",
       "        text-align: right;\n",
       "    }\n",
       "</style>\n",
       "<table border=\"1\" class=\"dataframe\">\n",
       "  <thead>\n",
       "    <tr style=\"text-align: right;\">\n",
       "      <th></th>\n",
       "      <th>Crash Severity</th>\n",
       "      <th>Speed Limit</th>\n",
       "      <th>Surface Condition</th>\n",
       "      <th>Weather Condition</th>\n",
       "      <th>Person Alcohol Result</th>\n",
       "      <th>Person Gender</th>\n",
       "      <th>Crash Period_Late Night</th>\n",
       "      <th>Crash Period_Early Morning</th>\n",
       "      <th>Crash Period_Morning</th>\n",
       "      <th>Crash Period_Noon</th>\n",
       "      <th>Crash Period_Evening</th>\n",
       "      <th>Manner of Collision_Angle</th>\n",
       "      <th>Manner of Collision_One motor</th>\n",
       "      <th>Manner of Collision_Opposite Direction</th>\n",
       "      <th>Manner of Collision_Other</th>\n",
       "      <th>Person Ethnicity_Black</th>\n",
       "      <th>Person Ethnicity_Hispanic</th>\n",
       "      <th>Person Ethnicity_White</th>\n",
       "      <th>clusters</th>\n",
       "    </tr>\n",
       "  </thead>\n",
       "  <tbody>\n",
       "    <tr>\n",
       "      <th>0</th>\n",
       "      <td>0</td>\n",
       "      <td>40.0</td>\n",
       "      <td>1</td>\n",
       "      <td>0</td>\n",
       "      <td>1</td>\n",
       "      <td>1</td>\n",
       "      <td>0</td>\n",
       "      <td>0</td>\n",
       "      <td>0</td>\n",
       "      <td>1</td>\n",
       "      <td>0</td>\n",
       "      <td>0</td>\n",
       "      <td>0</td>\n",
       "      <td>1</td>\n",
       "      <td>0</td>\n",
       "      <td>0</td>\n",
       "      <td>0</td>\n",
       "      <td>1</td>\n",
       "      <td>1</td>\n",
       "    </tr>\n",
       "    <tr>\n",
       "      <th>1</th>\n",
       "      <td>0</td>\n",
       "      <td>70.0</td>\n",
       "      <td>1</td>\n",
       "      <td>0</td>\n",
       "      <td>1</td>\n",
       "      <td>0</td>\n",
       "      <td>0</td>\n",
       "      <td>0</td>\n",
       "      <td>0</td>\n",
       "      <td>1</td>\n",
       "      <td>0</td>\n",
       "      <td>0</td>\n",
       "      <td>1</td>\n",
       "      <td>0</td>\n",
       "      <td>0</td>\n",
       "      <td>0</td>\n",
       "      <td>0</td>\n",
       "      <td>1</td>\n",
       "      <td>1</td>\n",
       "    </tr>\n",
       "    <tr>\n",
       "      <th>2</th>\n",
       "      <td>1</td>\n",
       "      <td>50.0</td>\n",
       "      <td>1</td>\n",
       "      <td>1</td>\n",
       "      <td>1</td>\n",
       "      <td>0</td>\n",
       "      <td>0</td>\n",
       "      <td>0</td>\n",
       "      <td>0</td>\n",
       "      <td>1</td>\n",
       "      <td>0</td>\n",
       "      <td>0</td>\n",
       "      <td>0</td>\n",
       "      <td>0</td>\n",
       "      <td>0</td>\n",
       "      <td>0</td>\n",
       "      <td>0</td>\n",
       "      <td>1</td>\n",
       "      <td>1</td>\n",
       "    </tr>\n",
       "    <tr>\n",
       "      <th>3</th>\n",
       "      <td>0</td>\n",
       "      <td>50.0</td>\n",
       "      <td>1</td>\n",
       "      <td>0</td>\n",
       "      <td>1</td>\n",
       "      <td>0</td>\n",
       "      <td>0</td>\n",
       "      <td>1</td>\n",
       "      <td>0</td>\n",
       "      <td>0</td>\n",
       "      <td>0</td>\n",
       "      <td>0</td>\n",
       "      <td>0</td>\n",
       "      <td>0</td>\n",
       "      <td>0</td>\n",
       "      <td>1</td>\n",
       "      <td>0</td>\n",
       "      <td>0</td>\n",
       "      <td>1</td>\n",
       "    </tr>\n",
       "    <tr>\n",
       "      <th>4</th>\n",
       "      <td>0</td>\n",
       "      <td>40.0</td>\n",
       "      <td>1</td>\n",
       "      <td>0</td>\n",
       "      <td>1</td>\n",
       "      <td>1</td>\n",
       "      <td>0</td>\n",
       "      <td>0</td>\n",
       "      <td>0</td>\n",
       "      <td>0</td>\n",
       "      <td>1</td>\n",
       "      <td>0</td>\n",
       "      <td>0</td>\n",
       "      <td>0</td>\n",
       "      <td>0</td>\n",
       "      <td>0</td>\n",
       "      <td>0</td>\n",
       "      <td>1</td>\n",
       "      <td>1</td>\n",
       "    </tr>\n",
       "  </tbody>\n",
       "</table>\n",
       "</div>"
      ],
      "text/plain": [
       "   Crash Severity  Speed Limit  Surface Condition  Weather Condition  \\\n",
       "0               0         40.0                  1                  0   \n",
       "1               0         70.0                  1                  0   \n",
       "2               1         50.0                  1                  1   \n",
       "3               0         50.0                  1                  0   \n",
       "4               0         40.0                  1                  0   \n",
       "\n",
       "   Person Alcohol Result  Person Gender  Crash Period_Late Night  \\\n",
       "0                      1              1                        0   \n",
       "1                      1              0                        0   \n",
       "2                      1              0                        0   \n",
       "3                      1              0                        0   \n",
       "4                      1              1                        0   \n",
       "\n",
       "   Crash Period_Early Morning  Crash Period_Morning  Crash Period_Noon  \\\n",
       "0                           0                     0                  1   \n",
       "1                           0                     0                  1   \n",
       "2                           0                     0                  1   \n",
       "3                           1                     0                  0   \n",
       "4                           0                     0                  0   \n",
       "\n",
       "   Crash Period_Evening  Manner of Collision_Angle  \\\n",
       "0                     0                          0   \n",
       "1                     0                          0   \n",
       "2                     0                          0   \n",
       "3                     0                          0   \n",
       "4                     1                          0   \n",
       "\n",
       "   Manner of Collision_One motor  Manner of Collision_Opposite Direction  \\\n",
       "0                              0                                       1   \n",
       "1                              1                                       0   \n",
       "2                              0                                       0   \n",
       "3                              0                                       0   \n",
       "4                              0                                       0   \n",
       "\n",
       "   Manner of Collision_Other  Person Ethnicity_Black  \\\n",
       "0                          0                       0   \n",
       "1                          0                       0   \n",
       "2                          0                       0   \n",
       "3                          0                       1   \n",
       "4                          0                       0   \n",
       "\n",
       "   Person Ethnicity_Hispanic  Person Ethnicity_White  clusters  \n",
       "0                          0                       1         1  \n",
       "1                          0                       1         1  \n",
       "2                          0                       1         1  \n",
       "3                          0                       0         1  \n",
       "4                          0                       1         1  "
      ]
     },
     "execution_count": 510,
     "metadata": {},
     "output_type": "execute_result"
    }
   ],
   "source": [
    "# examine X_train_cluster \n",
    "X_train_cluster.head()"
   ]
  },
  {
   "cell_type": "markdown",
   "metadata": {},
   "source": [
    "Explore the instances in cluster 0 and cluster 1"
   ]
  },
  {
   "cell_type": "code",
   "execution_count": 514,
   "metadata": {},
   "outputs": [],
   "source": [
    "# extract cluster 0\n",
    "X_train_cluster_0 = X_train_cluster[X_train_cluster['clusters'] == 0]\n",
    "\n",
    "# extract cluster 1\n",
    "X_train_cluster_1 = X_train_cluster[X_train_cluster['clusters'] == 1]"
   ]
  },
  {
   "cell_type": "markdown",
   "metadata": {},
   "source": [
    "Average Speed Limit"
   ]
  },
  {
   "cell_type": "code",
   "execution_count": 515,
   "metadata": {},
   "outputs": [
    {
     "data": {
      "text/plain": [
       "46.7606233500809"
      ]
     },
     "execution_count": 515,
     "metadata": {},
     "output_type": "execute_result"
    }
   ],
   "source": [
    "# Average Speed Limit\n",
    "# cluster 0\n",
    "X_train_cluster_0['Speed Limit'].mean()\n",
    "# Average Spped Limit in cluster 0 is 52.79\n",
    "\n",
    "# cluster 1\n",
    "X_train_cluster_1['Speed Limit'].mean()\n",
    "# Average Spped Limit in cluster 1 is 46.76"
   ]
  },
  {
   "cell_type": "markdown",
   "metadata": {},
   "source": [
    "Cluster 0 have higher average Speed Limit compared to Cluster 1."
   ]
  },
  {
   "cell_type": "markdown",
   "metadata": {},
   "source": [
    "Crash Severity"
   ]
  },
  {
   "cell_type": "code",
   "execution_count": 525,
   "metadata": {},
   "outputs": [
    {
     "data": {
      "text/plain": [
       "Crash Severity\n",
       "0    0.097728\n",
       "1    0.118081\n",
       "2    0.088125\n",
       "3    0.096774\n",
       "4    0.175000\n",
       "Name: count, dtype: float64"
      ]
     },
     "execution_count": 525,
     "metadata": {},
     "output_type": "execute_result"
    }
   ],
   "source": [
    "# Crash Severity\n",
    "# cluster 0\n",
    "X_train_cluster_0['Crash Severity'].value_counts()/X_train_cluster['Crash Severity'].value_counts()"
   ]
  },
  {
   "cell_type": "code",
   "execution_count": 526,
   "metadata": {},
   "outputs": [
    {
     "data": {
      "text/plain": [
       "Crash Severity\n",
       "0    0.902272\n",
       "1    0.881919\n",
       "2    0.911875\n",
       "3    0.903226\n",
       "4    0.825000\n",
       "Name: count, dtype: float64"
      ]
     },
     "execution_count": 526,
     "metadata": {},
     "output_type": "execute_result"
    }
   ],
   "source": [
    "# cluster 1\n",
    "X_train_cluster_1['Crash Severity'].value_counts()/X_train_cluster['Crash Severity'].value_counts()"
   ]
  },
  {
   "cell_type": "markdown",
   "metadata": {},
   "source": [
    "The two clusters contains instances of the different crash severity in our dataset. However, we observe that cluster 0 have slightly higher instances of fatal injury (labelled 4) compared to other types of severity. "
   ]
  },
  {
   "cell_type": "markdown",
   "metadata": {},
   "source": [
    "Surface Condition"
   ]
  },
  {
   "cell_type": "code",
   "execution_count": 518,
   "metadata": {},
   "outputs": [
    {
     "data": {
      "text/plain": [
       "Surface Condition\n",
       "0    871\n",
       "1    427\n",
       "Name: count, dtype: int64"
      ]
     },
     "execution_count": 518,
     "metadata": {},
     "output_type": "execute_result"
    }
   ],
   "source": [
    "# Surface Condition\n",
    "# cluster 0\n",
    "X_train_cluster_0['Surface Condition'].value_counts()"
   ]
  },
  {
   "cell_type": "code",
   "execution_count": 519,
   "metadata": {},
   "outputs": [
    {
     "data": {
      "text/plain": [
       "Surface Condition\n",
       "1    11741\n",
       "0        2\n",
       "Name: count, dtype: int64"
      ]
     },
     "execution_count": 519,
     "metadata": {},
     "output_type": "execute_result"
    }
   ],
   "source": [
    "# cluster 1\n",
    "X_train_cluster_1['Surface Condition'].value_counts()"
   ]
  },
  {
   "cell_type": "markdown",
   "metadata": {},
   "source": [
    "Cluster 0 has majority (871) of the instances with Surface Condition as 0, with cluster 1 only having 2 instances. Surface condition of 0 means the surface was not dry, while 1 represent dry surfaces. With this observation, it would be interesting to check the distribution of the weather condition in cluster 0."
   ]
  },
  {
   "cell_type": "code",
   "execution_count": 524,
   "metadata": {},
   "outputs": [
    {
     "data": {
      "text/plain": [
       "Weather Condition\n",
       "0    0.052534\n",
       "1    0.161642\n",
       "2    0.978887\n",
       "Name: count, dtype: float64"
      ]
     },
     "execution_count": 524,
     "metadata": {},
     "output_type": "execute_result"
    }
   ],
   "source": [
    "# Weather Condition\n",
    "# cluster 0\n",
    "X_train_cluster_0['Weather Condition'].value_counts()/X_train_cluster['Weather Condition'].value_counts()"
   ]
  },
  {
   "cell_type": "markdown",
   "metadata": {},
   "source": [
    "From above, we see cluster 0 contains approx. 98% of instances where weather condition is 2. These are instances where weather condition indicates rain or fog and this agrees with what we saw before that cluster 0 has majority of the instances where the surface condition was not dry.\n",
    "\n",
    "We have also seen earlier that cluster 0 have slightly higher instances of fatal crash severity and can explore a bit more on the weather and surface conditions when the crah severity is fatal in cluster 0."
   ]
  },
  {
   "cell_type": "code",
   "execution_count": 529,
   "metadata": {},
   "outputs": [
    {
     "data": {
      "text/plain": [
       "Weather Condition\n",
       "0    6\n",
       "1    1\n",
       "Name: count, dtype: int64"
      ]
     },
     "execution_count": 529,
     "metadata": {},
     "output_type": "execute_result"
    }
   ],
   "source": [
    "X_train_cluster_0[X_train_cluster_0['Crash Severity'] == 4]['Weather Condition'].value_counts()"
   ]
  },
  {
   "cell_type": "code",
   "execution_count": 530,
   "metadata": {},
   "outputs": [
    {
     "data": {
      "text/plain": [
       "Surface Condition\n",
       "1    7\n",
       "Name: count, dtype: int64"
      ]
     },
     "execution_count": 530,
     "metadata": {},
     "output_type": "execute_result"
    }
   ],
   "source": [
    "X_train_cluster_0[X_train_cluster_0['Crash Severity'] == 4]['Surface Condition'].value_counts()"
   ]
  },
  {
   "cell_type": "markdown",
   "metadata": {},
   "source": [
    "From above, we see that all the fatal crash severity in cluster 0 occured when the surface condition was dry. 6 of the 7 cases also occured when the Weather Condition was clear, with only 1 occuring when the condition was cloudy.\n",
    "\n",
    "We repeat the same analysis for cluster 1."
   ]
  },
  {
   "cell_type": "code",
   "execution_count": 531,
   "metadata": {},
   "outputs": [
    {
     "data": {
      "text/plain": [
       "Weather Condition\n",
       "0    32\n",
       "1     1\n",
       "Name: count, dtype: int64"
      ]
     },
     "execution_count": 531,
     "metadata": {},
     "output_type": "execute_result"
    }
   ],
   "source": [
    "X_train_cluster_1[X_train_cluster_1['Crash Severity'] == 4]['Weather Condition'].value_counts()"
   ]
  },
  {
   "cell_type": "code",
   "execution_count": 532,
   "metadata": {},
   "outputs": [
    {
     "data": {
      "text/plain": [
       "Surface Condition\n",
       "1    33\n",
       "Name: count, dtype: int64"
      ]
     },
     "execution_count": 532,
     "metadata": {},
     "output_type": "execute_result"
    }
   ],
   "source": [
    "X_train_cluster_1[X_train_cluster_1['Crash Severity'] == 4]['Surface Condition'].value_counts()"
   ]
  },
  {
   "cell_type": "markdown",
   "metadata": {},
   "source": [
    "We see similar occurence in cluster 1. All the fatal crash severity occured when the surface condition was dry. 32 of the 33 cases also occured when the Weather Condition was clear, with only 1 occuring when the condition was cloudy.\n",
    "\n",
    "From this analysis, we can say that we do not find a relationship between fatal crash severity and unclear weather condition and/or wet surface condition."
   ]
  },
  {
   "cell_type": "markdown",
   "metadata": {},
   "source": [
    "Person Gender"
   ]
  },
  {
   "cell_type": "code",
   "execution_count": 536,
   "metadata": {},
   "outputs": [
    {
     "data": {
      "text/plain": [
       "clusters\n",
       "1    7160\n",
       "0     868\n",
       "Name: count, dtype: int64"
      ]
     },
     "execution_count": 536,
     "metadata": {},
     "output_type": "execute_result"
    }
   ],
   "source": [
    "# Person Gender\n",
    "# Male: 1\n",
    "X_train_cluster[X_train_cluster['Person Gender'] == 1]['clusters'].value_counts()"
   ]
  },
  {
   "cell_type": "code",
   "execution_count": 537,
   "metadata": {},
   "outputs": [
    {
     "data": {
      "text/plain": [
       "clusters\n",
       "1    4583\n",
       "0     430\n",
       "Name: count, dtype: int64"
      ]
     },
     "execution_count": 537,
     "metadata": {},
     "output_type": "execute_result"
    }
   ],
   "source": [
    "# Female\n",
    "X_train_cluster[X_train_cluster['Person Gender'] == 0]['clusters'].value_counts()"
   ]
  },
  {
   "cell_type": "markdown",
   "metadata": {},
   "source": [
    "We see that there are instances of Male and Female gender in both clusters. "
   ]
  },
  {
   "cell_type": "markdown",
   "metadata": {},
   "source": [
    "So far, we have explored the clusters generated with AgglomerativeClustering algorithm and found some insights. Next, we use the KMeans Clustering algorithm."
   ]
  },
  {
   "cell_type": "markdown",
   "metadata": {},
   "source": [
    "#### KMeans Clustering"
   ]
  },
  {
   "cell_type": "code",
   "execution_count": 539,
   "metadata": {},
   "outputs": [],
   "source": [
    "# import library\n",
    "from sklearn import metrics\n",
    "from sklearn.cluster import KMeans"
   ]
  },
  {
   "cell_type": "code",
   "execution_count": 540,
   "metadata": {},
   "outputs": [],
   "source": [
    "# run a for-loop to find optimal cluster - KMeans Clsutering\n",
    "# using silhoutte score\n",
    "\n",
    "n_clus_kmeans = []\n",
    "ss_score_kmeans = []\n",
    "max_clus_kmeans = 20\n",
    "\n",
    "for i in range(2,(max_clus_kmeans + 1)):\n",
    "# for i in range(max_iter, len(X_scaled)):\n",
    "    # instantiate model\n",
    "    kmeans_cluster = KMeans(n_clusters = i,  random_state = 0, n_init='auto')\n",
    "\n",
    "    # Train the clustering model on the feature set\n",
    "    kmeans_cluster.fit(X_train_scaled)\n",
    "\n",
    "    # silhouette_score\n",
    "    labels = kmeans_cluster.labels_\n",
    "    ss = metrics.silhouette_score(X_train_scaled, labels, metric='euclidean')\n",
    "    \n",
    "    # store result in list\n",
    "    n_clus_kmeans.append(i)\n",
    "    ss_score_kmeans.append(ss)\n",
    "    \n",
    "# create ss_dict\n",
    "ss_dict_kmeans = {n_clus_kmeans[i]: ss_score_kmeans[i] for i in range(len(n_clus_kmeans))}"
   ]
  },
  {
   "cell_type": "code",
   "execution_count": 541,
   "metadata": {},
   "outputs": [
    {
     "data": {
      "image/png": "[encoded data removed]",
      "text/plain": [
       "<Figure size 1000x500 with 1 Axes>"
      ]
     },
     "metadata": {},
     "output_type": "display_data"
    }
   ],
   "source": [
    "# plot \n",
    "\n",
    "%matplotlib inline\n",
    "\n",
    "plt.subplots(figsize = (10,5))\n",
    "plt.plot(n_clus_kmeans, ss_score_kmeans, label = 'Silhoutte score')\n",
    "plt.xticks(n_clus_kmeans)\n",
    "plt.xlabel('Number of Clusters')\n",
    "plt.ylabel('Silhoutte score')\n",
    "plt.legend()\n",
    "plt.grid()"
   ]
  },
  {
   "cell_type": "code",
   "execution_count": 542,
   "metadata": {},
   "outputs": [
    {
     "data": {
      "text/html": [
       "<div>\n",
       "<style scoped>\n",
       "    .dataframe tbody tr th:only-of-type {\n",
       "        vertical-align: middle;\n",
       "    }\n",
       "\n",
       "    .dataframe tbody tr th {\n",
       "        vertical-align: top;\n",
       "    }\n",
       "\n",
       "    .dataframe thead th {\n",
       "        text-align: right;\n",
       "    }\n",
       "</style>\n",
       "<table border=\"1\" class=\"dataframe\">\n",
       "  <thead>\n",
       "    <tr style=\"text-align: right;\">\n",
       "      <th></th>\n",
       "      <th>cluster</th>\n",
       "      <th>sil_score_kmeans</th>\n",
       "    </tr>\n",
       "  </thead>\n",
       "  <tbody>\n",
       "    <tr>\n",
       "      <th>0</th>\n",
       "      <td>2</td>\n",
       "      <td>0.495957</td>\n",
       "    </tr>\n",
       "    <tr>\n",
       "      <th>13</th>\n",
       "      <td>15</td>\n",
       "      <td>0.197754</td>\n",
       "    </tr>\n",
       "    <tr>\n",
       "      <th>5</th>\n",
       "      <td>7</td>\n",
       "      <td>0.195741</td>\n",
       "    </tr>\n",
       "  </tbody>\n",
       "</table>\n",
       "</div>"
      ],
      "text/plain": [
       "    cluster  sil_score_kmeans\n",
       "0         2          0.495957\n",
       "13       15          0.197754\n",
       "5         7          0.195741"
      ]
     },
     "execution_count": 542,
     "metadata": {},
     "output_type": "execute_result"
    }
   ],
   "source": [
    "# return top 3 number of cluster by silhoutte score\n",
    "ss_dict_kmeans_df = pd.DataFrame({'cluster': n_clus_kmeans, 'sil_score_kmeans': ss_score_kmeans})\n",
    "ss_dict_kmeans_df.sort_values(by = 'sil_score_kmeans', ascending= False).head(3)"
   ]
  },
  {
   "cell_type": "markdown",
   "metadata": {},
   "source": [
    "Using KMeans clustering algorithm, the optimal number of clusters by silhoutte score is also 2. "
   ]
  },
  {
   "cell_type": "markdown",
   "metadata": {},
   "source": [
    "Apply KMeans Clustering with optimal number of clusters"
   ]
  },
  {
   "cell_type": "code",
   "execution_count": 543,
   "metadata": {},
   "outputs": [],
   "source": [
    "# clustering\n",
    "model_kmeans = KMeans(n_clusters = 2,  random_state = 0, n_init='auto')\n",
    "\n",
    "# Train the model\n",
    "model_kmeans = model_kmeans.fit(X_train_scaled)"
   ]
  },
  {
   "cell_type": "code",
   "execution_count": 549,
   "metadata": {},
   "outputs": [
    {
     "data": {
      "text/plain": [
       "{0: 12896, 1: 145}"
      ]
     },
     "execution_count": 549,
     "metadata": {},
     "output_type": "execute_result"
    }
   ],
   "source": [
    "# Define the number of data in each cluster\n",
    "\n",
    "clu = []\n",
    "clu_num = []\n",
    "\n",
    "for i in range(2):\n",
    "    # Number of data in each cluster.\n",
    "    clu_size = model_kmeans.labels_[model_kmeans.labels_ == i].size\n",
    "    clu.append(i)\n",
    "    clu_num.append(clu_size)\n",
    "    \n",
    "# create clu_num_dict\n",
    "clu_num_dict = {clu[i]: clu_num[i] for i in range(len(clu))}\n",
    "clu_num_dict"
   ]
  },
  {
   "cell_type": "markdown",
   "metadata": {},
   "source": [
    "We have 12896 instances in Cluster 0 and 145 in cluster 1."
   ]
  },
  {
   "cell_type": "markdown",
   "metadata": {},
   "source": [
    "Explore clusters - KMeans"
   ]
  },
  {
   "cell_type": "code",
   "execution_count": 550,
   "metadata": {},
   "outputs": [],
   "source": [
    "# Attach cluster label to X_train_clean \n",
    "# to thoroughly explore the contents of each cluster\n",
    "\n",
    "X_train_cluster_k = X_train_clean\n",
    "X_train_cluster_k['k_clusters'] = model_kmeans.labels_"
   ]
  },
  {
   "cell_type": "code",
   "execution_count": 559,
   "metadata": {},
   "outputs": [
    {
     "data": {
      "text/html": [
       "<div>\n",
       "<style scoped>\n",
       "    .dataframe tbody tr th:only-of-type {\n",
       "        vertical-align: middle;\n",
       "    }\n",
       "\n",
       "    .dataframe tbody tr th {\n",
       "        vertical-align: top;\n",
       "    }\n",
       "\n",
       "    .dataframe thead th {\n",
       "        text-align: right;\n",
       "    }\n",
       "</style>\n",
       "<table border=\"1\" class=\"dataframe\">\n",
       "  <thead>\n",
       "    <tr style=\"text-align: right;\">\n",
       "      <th></th>\n",
       "      <th>Crash Severity</th>\n",
       "      <th>Speed Limit</th>\n",
       "      <th>Surface Condition</th>\n",
       "      <th>Weather Condition</th>\n",
       "      <th>Person Alcohol Result</th>\n",
       "      <th>Person Gender</th>\n",
       "      <th>Crash Period_Late Night</th>\n",
       "      <th>Crash Period_Early Morning</th>\n",
       "      <th>Crash Period_Morning</th>\n",
       "      <th>Crash Period_Noon</th>\n",
       "      <th>Crash Period_Evening</th>\n",
       "      <th>Manner of Collision_Angle</th>\n",
       "      <th>Manner of Collision_One motor</th>\n",
       "      <th>Manner of Collision_Opposite Direction</th>\n",
       "      <th>Manner of Collision_Other</th>\n",
       "      <th>Person Ethnicity_Black</th>\n",
       "      <th>Person Ethnicity_Hispanic</th>\n",
       "      <th>Person Ethnicity_White</th>\n",
       "      <th>clusters</th>\n",
       "      <th>k_clusters</th>\n",
       "    </tr>\n",
       "  </thead>\n",
       "  <tbody>\n",
       "    <tr>\n",
       "      <th>0</th>\n",
       "      <td>0</td>\n",
       "      <td>40.0</td>\n",
       "      <td>1</td>\n",
       "      <td>0</td>\n",
       "      <td>1</td>\n",
       "      <td>1</td>\n",
       "      <td>0</td>\n",
       "      <td>0</td>\n",
       "      <td>0</td>\n",
       "      <td>1</td>\n",
       "      <td>0</td>\n",
       "      <td>0</td>\n",
       "      <td>0</td>\n",
       "      <td>1</td>\n",
       "      <td>0</td>\n",
       "      <td>0</td>\n",
       "      <td>0</td>\n",
       "      <td>1</td>\n",
       "      <td>1</td>\n",
       "      <td>0</td>\n",
       "    </tr>\n",
       "    <tr>\n",
       "      <th>1</th>\n",
       "      <td>0</td>\n",
       "      <td>70.0</td>\n",
       "      <td>1</td>\n",
       "      <td>0</td>\n",
       "      <td>1</td>\n",
       "      <td>0</td>\n",
       "      <td>0</td>\n",
       "      <td>0</td>\n",
       "      <td>0</td>\n",
       "      <td>1</td>\n",
       "      <td>0</td>\n",
       "      <td>0</td>\n",
       "      <td>1</td>\n",
       "      <td>0</td>\n",
       "      <td>0</td>\n",
       "      <td>0</td>\n",
       "      <td>0</td>\n",
       "      <td>1</td>\n",
       "      <td>1</td>\n",
       "      <td>0</td>\n",
       "    </tr>\n",
       "    <tr>\n",
       "      <th>2</th>\n",
       "      <td>1</td>\n",
       "      <td>50.0</td>\n",
       "      <td>1</td>\n",
       "      <td>1</td>\n",
       "      <td>1</td>\n",
       "      <td>0</td>\n",
       "      <td>0</td>\n",
       "      <td>0</td>\n",
       "      <td>0</td>\n",
       "      <td>1</td>\n",
       "      <td>0</td>\n",
       "      <td>0</td>\n",
       "      <td>0</td>\n",
       "      <td>0</td>\n",
       "      <td>0</td>\n",
       "      <td>0</td>\n",
       "      <td>0</td>\n",
       "      <td>1</td>\n",
       "      <td>1</td>\n",
       "      <td>0</td>\n",
       "    </tr>\n",
       "    <tr>\n",
       "      <th>3</th>\n",
       "      <td>0</td>\n",
       "      <td>50.0</td>\n",
       "      <td>1</td>\n",
       "      <td>0</td>\n",
       "      <td>1</td>\n",
       "      <td>0</td>\n",
       "      <td>0</td>\n",
       "      <td>1</td>\n",
       "      <td>0</td>\n",
       "      <td>0</td>\n",
       "      <td>0</td>\n",
       "      <td>0</td>\n",
       "      <td>0</td>\n",
       "      <td>0</td>\n",
       "      <td>0</td>\n",
       "      <td>1</td>\n",
       "      <td>0</td>\n",
       "      <td>0</td>\n",
       "      <td>1</td>\n",
       "      <td>0</td>\n",
       "    </tr>\n",
       "    <tr>\n",
       "      <th>4</th>\n",
       "      <td>0</td>\n",
       "      <td>40.0</td>\n",
       "      <td>1</td>\n",
       "      <td>0</td>\n",
       "      <td>1</td>\n",
       "      <td>1</td>\n",
       "      <td>0</td>\n",
       "      <td>0</td>\n",
       "      <td>0</td>\n",
       "      <td>0</td>\n",
       "      <td>1</td>\n",
       "      <td>0</td>\n",
       "      <td>0</td>\n",
       "      <td>0</td>\n",
       "      <td>0</td>\n",
       "      <td>0</td>\n",
       "      <td>0</td>\n",
       "      <td>1</td>\n",
       "      <td>1</td>\n",
       "      <td>0</td>\n",
       "    </tr>\n",
       "  </tbody>\n",
       "</table>\n",
       "</div>"
      ],
      "text/plain": [
       "   Crash Severity  Speed Limit  Surface Condition  Weather Condition  \\\n",
       "0               0         40.0                  1                  0   \n",
       "1               0         70.0                  1                  0   \n",
       "2               1         50.0                  1                  1   \n",
       "3               0         50.0                  1                  0   \n",
       "4               0         40.0                  1                  0   \n",
       "\n",
       "   Person Alcohol Result  Person Gender  Crash Period_Late Night  \\\n",
       "0                      1              1                        0   \n",
       "1                      1              0                        0   \n",
       "2                      1              0                        0   \n",
       "3                      1              0                        0   \n",
       "4                      1              1                        0   \n",
       "\n",
       "   Crash Period_Early Morning  Crash Period_Morning  Crash Period_Noon  \\\n",
       "0                           0                     0                  1   \n",
       "1                           0                     0                  1   \n",
       "2                           0                     0                  1   \n",
       "3                           1                     0                  0   \n",
       "4                           0                     0                  0   \n",
       "\n",
       "   Crash Period_Evening  Manner of Collision_Angle  \\\n",
       "0                     0                          0   \n",
       "1                     0                          0   \n",
       "2                     0                          0   \n",
       "3                     0                          0   \n",
       "4                     1                          0   \n",
       "\n",
       "   Manner of Collision_One motor  Manner of Collision_Opposite Direction  \\\n",
       "0                              0                                       1   \n",
       "1                              1                                       0   \n",
       "2                              0                                       0   \n",
       "3                              0                                       0   \n",
       "4                              0                                       0   \n",
       "\n",
       "   Manner of Collision_Other  Person Ethnicity_Black  \\\n",
       "0                          0                       0   \n",
       "1                          0                       0   \n",
       "2                          0                       0   \n",
       "3                          0                       1   \n",
       "4                          0                       0   \n",
       "\n",
       "   Person Ethnicity_Hispanic  Person Ethnicity_White  clusters  k_clusters  \n",
       "0                          0                       1         1           0  \n",
       "1                          0                       1         1           0  \n",
       "2                          0                       1         1           0  \n",
       "3                          0                       0         1           0  \n",
       "4                          0                       1         1           0  "
      ]
     },
     "execution_count": 559,
     "metadata": {},
     "output_type": "execute_result"
    }
   ],
   "source": [
    "# examine X_train_cluster \n",
    "X_train_cluster_k.head()"
   ]
  },
  {
   "cell_type": "code",
   "execution_count": 552,
   "metadata": {},
   "outputs": [],
   "source": [
    "# extract cluster 0\n",
    "X_train_cluster_k0 = X_train_cluster_k[X_train_cluster_k['k_clusters'] == 0]\n",
    "\n",
    "# extract cluster 1\n",
    "X_train_cluster_k1 = X_train_cluster_k[X_train_cluster_k['k_clusters'] == 1]"
   ]
  },
  {
   "cell_type": "markdown",
   "metadata": {},
   "source": [
    "Crash Severity"
   ]
  },
  {
   "cell_type": "code",
   "execution_count": 553,
   "metadata": {},
   "outputs": [
    {
     "data": {
      "text/plain": [
       "Crash Severity\n",
       "0    8801\n",
       "1    1896\n",
       "2    1856\n",
       "3     310\n",
       "4      33\n",
       "Name: count, dtype: int64"
      ]
     },
     "execution_count": 553,
     "metadata": {},
     "output_type": "execute_result"
    }
   ],
   "source": [
    "# Cluster 0\n",
    "X_train_cluster_k0['Crash Severity'].value_counts()"
   ]
  },
  {
   "cell_type": "code",
   "execution_count": 554,
   "metadata": {},
   "outputs": [
    {
     "data": {
      "text/plain": [
       "Crash Severity\n",
       "0    132\n",
       "4      7\n",
       "2      5\n",
       "1      1\n",
       "Name: count, dtype: int64"
      ]
     },
     "execution_count": 554,
     "metadata": {},
     "output_type": "execute_result"
    }
   ],
   "source": [
    "# Cluster 1\n",
    "X_train_cluster_k1['Crash Severity'].value_counts()"
   ]
  },
  {
   "cell_type": "markdown",
   "metadata": {},
   "source": [
    "Both clusters include the different instances of crash severity."
   ]
  },
  {
   "cell_type": "markdown",
   "metadata": {},
   "source": [
    "Surface Condition"
   ]
  },
  {
   "cell_type": "code",
   "execution_count": 555,
   "metadata": {},
   "outputs": [
    {
     "data": {
      "text/plain": [
       "Surface Condition\n",
       "1    12025\n",
       "0      871\n",
       "Name: count, dtype: int64"
      ]
     },
     "execution_count": 555,
     "metadata": {},
     "output_type": "execute_result"
    }
   ],
   "source": [
    "# Surface Condition\n",
    "# cluster 0\n",
    "X_train_cluster_k0['Surface Condition'].value_counts()"
   ]
  },
  {
   "cell_type": "code",
   "execution_count": 556,
   "metadata": {},
   "outputs": [
    {
     "data": {
      "text/plain": [
       "Surface Condition\n",
       "1    143\n",
       "0      2\n",
       "Name: count, dtype: int64"
      ]
     },
     "execution_count": 556,
     "metadata": {},
     "output_type": "execute_result"
    }
   ],
   "source": [
    "# cluster 1\n",
    "X_train_cluster_k1['Surface Condition'].value_counts()"
   ]
  },
  {
   "cell_type": "markdown",
   "metadata": {},
   "source": [
    "From above, we see that both clusters include the different instances of surface conditions - dry and not dry. Cluster 1, however, mainly contain dry surface condition."
   ]
  },
  {
   "cell_type": "code",
   "execution_count": null,
   "metadata": {},
   "outputs": [],
   "source": [
    "Weather Condition"
   ]
  },
  {
   "cell_type": "code",
   "execution_count": 557,
   "metadata": {},
   "outputs": [
    {
     "data": {
      "text/plain": [
       "Weather Condition\n",
       "0    11187\n",
       "1     1189\n",
       "2      520\n",
       "Name: count, dtype: int64"
      ]
     },
     "execution_count": 557,
     "metadata": {},
     "output_type": "execute_result"
    }
   ],
   "source": [
    "# cluster 0\n",
    "X_train_cluster_k0['Weather Condition'].value_counts()"
   ]
  },
  {
   "cell_type": "code",
   "execution_count": 558,
   "metadata": {},
   "outputs": [
    {
     "data": {
      "text/plain": [
       "Weather Condition\n",
       "0    139\n",
       "1      5\n",
       "2      1\n",
       "Name: count, dtype: int64"
      ]
     },
     "execution_count": 558,
     "metadata": {},
     "output_type": "execute_result"
    }
   ],
   "source": [
    "# cluster 1\n",
    "X_train_cluster_k1['Weather Condition'].value_counts()"
   ]
  },
  {
   "cell_type": "markdown",
   "metadata": {},
   "source": [
    "From above, we see that both clusters include the different instances of weather conditions - clear, cloudy and rain/fog. Cluster 1, however, mainly contain dry surface condition."
   ]
  },
  {
   "cell_type": "markdown",
   "id": "e8a261a9",
   "metadata": {},
   "source": [
    "### Regression model training"
   ]
  },
  {
   "cell_type": "code",
   "execution_count": null,
   "metadata": {},
   "outputs": [],
   "source": [
    "# define feature and target set\n",
    "X_train_reg = X_train_scaled\n",
    "X_train_reg\n",
    "\n",
    "y_train_reg = y_train"
   ]
  },
  {
   "cell_type": "markdown",
   "metadata": {},
   "source": [
    "#### Statistical Learning - OLS model"
   ]
  },
  {
   "cell_type": "markdown",
   "metadata": {},
   "source": [
    "Before training a Multiple Linear Regression (MLR) model on our dataset, we need to validate the different key assumptions that the statistical MLR model depends on. These includes the assumptions of linearity, independence and normality of errors, and equal variance. Prior to this, we also need to check for multi-collinearity in our dataset. "
   ]
  },
  {
   "cell_type": "markdown",
   "metadata": {},
   "source": [
    "1. Multi-collinearity check\n",
    "\n",
    "Multicollinearity occurs when two or more predictor variables in a regression model are strongly and linearly related to each other. For our dataset, we would use a correlation coefficient threshold of 0.8 in absolute value between two or more predictors. Predictors having above this value is interpreted as being multicollinear and only the first predictor would be kept."
   ]
  },
  {
   "cell_type": "code",
   "execution_count": null,
   "metadata": {},
   "outputs": [],
   "source": [
    "# return correlation matrix\n",
    "corr_matrix = np.corrcoef(X_train_reg.T)\n",
    "corr_matrix\n",
    "\n",
    "# plot corr_matrix\n",
    "\n",
    "%matplotlib inline\n",
    "\n",
    "plt.imshow(np.abs(corr_matrix))\n",
    "plt.colorbar()\n",
    "plt.yticks(range(X_train_reg.shape[1]), X_train_reg.columns)\n",
    "plt.show()"
   ]
  },
  {
   "cell_type": "markdown",
   "metadata": {},
   "source": [
    "We further explore if any of the columns meet our correlation coeffienct threshold of 0.80 using a masked DataFrame."
   ]
  },
  {
   "cell_type": "code",
   "execution_count": null,
   "metadata": {},
   "outputs": [],
   "source": [
    "# convert corr_matrix to df\n",
    "corr_df = pd.DataFrame(corr_matrix, columns=X_train_reg.columns, index= X_train_reg.columns)\n",
    "\n",
    "# subset for values of corrcoef >= 0.80 or =< -0.80\n",
    "corr_df_high = corr_df[abs(corr_df[:]) >= 0.80]"
   ]
  },
  {
   "cell_type": "code",
   "execution_count": null,
   "metadata": {},
   "outputs": [],
   "source": [
    "corr_df_high"
   ]
  },
  {
   "cell_type": "markdown",
   "metadata": {},
   "source": [
    "From our results, we can say that none of the predictor variables are multicollinear at our correlation coefficient threshold of 0.8."
   ]
  },
  {
   "cell_type": "markdown",
   "metadata": {},
   "source": [
    "2. Linearity\n",
    "\n",
    "For a MLR model to be appropriate, the relationship between the independent variable (predictor) and the dependent variable (response) should be linear. This means that changes in the predictor variable are associated with constant changes in the response variable. We check this assumption by plotting the predicted values (fitted values) against the residuals and checking if the points are randomly distributed and show no pattern."
   ]
  },
  {
   "cell_type": "code",
   "execution_count": null,
   "metadata": {},
   "outputs": [],
   "source": [
    "import statsmodels.api as sm\n",
    "\n",
    "X = sm.add_constant(X_train_reg)\n",
    "\n",
    "model = sm.OLS(y_train_reg, X).fit()"
   ]
  },
  {
   "cell_type": "code",
   "execution_count": null,
   "metadata": {},
   "outputs": [],
   "source": [
    "y_predict = model.predict(X)\n",
    "error = y_train_reg - y_predict"
   ]
  },
  {
   "cell_type": "code",
   "execution_count": null,
   "metadata": {},
   "outputs": [],
   "source": [
    "# Data frame with two columns of y_predict and error\n",
    "lin = pd.DataFrame(y_predict, columns= ['y_predict'])\n",
    "lin['error'] = error"
   ]
  },
  {
   "cell_type": "code",
   "execution_count": null,
   "metadata": {},
   "outputs": [],
   "source": [
    "plt.scatter(lin['y_predict'], lin['error'], alpha = 0.1)\n",
    "plt.hlines(0, xmin = 20, xmax = 180, linestyles= '--', color = 'k')\n",
    "\n",
    "# divit the plot into 5 equal bands\n",
    "vals = np.linspace(lin['y_predict'].min(), lin['y_predict'].max(), 6)\n",
    "for i in range(6):\n",
    "    plt.vlines(vals[i], ymin = -200, ymax = 1500, color = 'red')\n",
    "\n",
    "# Find the mean of each band\n",
    "band_mean = []\n",
    "for i in range(5):\n",
    "    lin_band = lin[(lin['y_predict'] >= vals[i]) & (lin['y_predict'] < vals[i+1])]\n",
    "    band_mean.append([lin_band['y_predict'].mean(), lin_band['error'].mean()])\n",
    "\n",
    "plt.plot(np.array(band_mean)[:,0], np.array(band_mean)[:,1], 'o-', color = 'g')\n",
    "\n",
    "plt.title('Fitted vs. Residuals')\n",
    "plt.xlabel('Fitted values')\n",
    "plt.ylabel('Residuals')"
   ]
  },
  {
   "cell_type": "markdown",
   "metadata": {},
   "source": [
    "Based on the plot above, we observe no significant deviations from a horizontal line, except for a minor expected amount of \"noise.\" This suggests a linear relationship between the dependent and independent variables. Additionally, the plot indicates that the mean of the errors is nearly zero."
   ]
  },
  {
   "cell_type": "markdown",
   "metadata": {},
   "source": [
    "3. Independence of Errors\n",
    "\n",
    "We look at the previously presented fitted vs. residual plot above. As there are no discernible systematic patterns like curves or waves in the plot, we can suggest that the assumption of independence of error is likely met."
   ]
  },
  {
   "cell_type": "markdown",
   "metadata": {},
   "source": [
    "4. Normality of Errors\n",
    "\n",
    "To assess the normality assumption, we make use of two visualization methods that offer valuable insights into the distribution of residuals. These methods are a histogram of the residuals and a quantile-quantile (QQ) plot."
   ]
  },
  {
   "cell_type": "code",
   "execution_count": null,
   "metadata": {},
   "outputs": [],
   "source": [
    "# Histogram of residuals\n",
    "\n",
    "import seaborn as sns\n",
    "\n",
    "sns.histplot(error, kde= True)"
   ]
  },
  {
   "cell_type": "code",
   "execution_count": null,
   "metadata": {},
   "outputs": [],
   "source": [
    "# Q-Q plot\n",
    "\n",
    "import statsmodels.api as sm\n",
    "\n",
    "sm.qqplot(error, line = '45', fit = True)\n",
    "plt.show()"
   ]
  },
  {
   "cell_type": "markdown",
   "metadata": {},
   "source": [
    "The Histogram and Q-Q plot clearly shows that the error data does not follow a normal distribution. Instead, the histogram shows that it is strongly rightly skewed. This suggest that there are outliers in our target variable, y, and there is a need to transfrom the target variable."
   ]
  },
  {
   "cell_type": "markdown",
   "metadata": {},
   "source": [
    "Transforming the target variable, y_train_reg"
   ]
  },
  {
   "cell_type": "markdown",
   "metadata": {},
   "source": [
    "Before transformation, we confirm the presence of outliers in the target variable by printing the summary statistics as shown below. We also plot the boxplot."
   ]
  },
  {
   "cell_type": "code",
   "execution_count": null,
   "metadata": {},
   "outputs": [],
   "source": [
    "# summary statistics: y_train_reg\n",
    "y_train_reg.describe()"
   ]
  },
  {
   "cell_type": "code",
   "execution_count": null,
   "metadata": {},
   "outputs": [],
   "source": [
    "# boxplot y_train_reg \n",
    "sns.boxplot(y_train_reg, orient= 'h').set(\n",
    "    ylabel='y_train_reg')"
   ]
  },
  {
   "cell_type": "markdown",
   "metadata": {},
   "source": [
    "From the summary statistics and plot, we confirm the presence of outliers in our target set that postitively skew our data. We transform the target variable to correct for this."
   ]
  },
  {
   "cell_type": "markdown",
   "metadata": {},
   "source": [
    "To check the appropriate type of transformation for y_train_reg, we first check the summary statistics. From the statistics, we see that the minimum value of y_train_reg is 0. Since y_train_reg contains 0, a log or inverse transformation would not be appropriate. We thus perform a cube root transformation."
   ]
  },
  {
   "cell_type": "code",
   "execution_count": null,
   "metadata": {},
   "outputs": [],
   "source": [
    "# add constant to feature set\n",
    "X_2 = sm.add_constant(X_train_reg)\n",
    "\n",
    "# transform y_train_reg\n",
    "y_train_reg_t = np.cbrt(y_train_reg)\n",
    "\n",
    "# fit model with transformed y_train_reg\n",
    "model_2 = sm.OLS(y_train_reg_t, X_2).fit()\n",
    "\n",
    "# return fitted values of y_train_reg\n",
    "y_predict_2 = model_2.predict(X_2)\n",
    "\n",
    "# compute error\n",
    "error_2 = y_train_reg_t - y_predict_2"
   ]
  },
  {
   "cell_type": "code",
   "execution_count": null,
   "metadata": {},
   "outputs": [],
   "source": [
    "# histogram of residuals\n",
    "sns.histplot(error_2, kde= True)"
   ]
  },
  {
   "cell_type": "code",
   "execution_count": null,
   "metadata": {},
   "outputs": [],
   "source": [
    "# Q-Q plot of residual\n",
    "\n",
    "import statsmodels.api as sm\n",
    "\n",
    "sm.qqplot(error_2, line = '45', fit = True)\n",
    "plt.show()"
   ]
  },
  {
   "cell_type": "markdown",
   "metadata": {},
   "source": [
    "The Q-Q plot still shows that the errors deviate from a normal distribution even after a cube root transformation. Other transformation were attmepted (square-root, fourth root, log (y_train_reg +1)) but none returned errors that are normally distributed. We thus opted to stay with a cube root transformation. "
   ]
  },
  {
   "cell_type": "markdown",
   "metadata": {},
   "source": [
    "4. Equal Variances (Homoscedasticity)"
   ]
  },
  {
   "cell_type": "code",
   "execution_count": null,
   "metadata": {},
   "outputs": [],
   "source": [
    "# Data frame with two columns of y_predict and error\n",
    "lin_2 = pd.DataFrame(y_predict_2, columns= ['y_predict'])\n",
    "lin_2['error'] = error_2"
   ]
  },
  {
   "cell_type": "code",
   "execution_count": null,
   "metadata": {},
   "outputs": [],
   "source": [
    "plt.scatter(lin_2['y_predict'], lin_2['error'], alpha = 0.1)\n",
    "plt.hlines(0, xmin = 3, xmax = 5.0, linestyles= '--', color = 'k')\n",
    "\n",
    "# divit the plot into 5 equal bands\n",
    "vals = np.linspace(lin_2['y_predict'].min(), lin_2['y_predict'].max(), 6)\n",
    "for i in range(6):\n",
    "    plt.vlines(vals[i], ymin = -5, ymax = 5, color = 'red')\n",
    "\n",
    "# Find the mean of each band\n",
    "band_quantile = []\n",
    "for i in range(5):\n",
    "    lin_band = lin_2[(lin_2['y_predict'] >= vals[i]) & (lin_2['y_predict'] < vals[i+1])]\n",
    "    band_quantile.append([vals[i:i+2].mean(), lin_band['error'].quantile(0.25), lin_band['error'].quantile(0.75)])\n",
    "\n",
    "print(band_quantile)\n",
    "plt.plot(np.array(band_quantile)[:,0], np.array(band_quantile)[:,1], 'o-', color = 'g')\n",
    "plt.plot(np.array(band_quantile)[:,0], np.array(band_quantile)[:,2], 'o-', color = 'g')\n",
    "\n",
    "plt.title('Fitted vs. Residuals')\n",
    "plt.xlabel('Fitted values')\n",
    "plt.ylabel('Residuals')"
   ]
  },
  {
   "cell_type": "markdown",
   "metadata": {},
   "source": [
    "The assumption of equal variance is met after the cube root transformation of the target variable."
   ]
  },
  {
   "cell_type": "markdown",
   "metadata": {},
   "source": [
    "Since most of the key assumptions of the statistical OLS model are now satisfied after a cube root transformation (except the normality of error), we move on to applying the OLS model."
   ]
  },
  {
   "cell_type": "markdown",
   "metadata": {},
   "source": [
    "Hypothesis Testing"
   ]
  },
  {
   "cell_type": "code",
   "execution_count": null,
   "metadata": {},
   "outputs": [],
   "source": [
    "# import libraries\n",
    "\n",
    "# OLS regression model\n",
    "import statsmodels.api as sm"
   ]
  },
  {
   "cell_type": "code",
   "execution_count": null,
   "metadata": {},
   "outputs": [],
   "source": [
    "# Apply OLS regression - multiple linear regression\n",
    "\n",
    "# add constant\n",
    "x = sm.add_constant(X_train_reg)\n",
    "\n",
    "# transform y\n",
    "y_train_reg_cbrt = np.cbrt(y_train_reg)\n",
    "\n",
    "# train and fit model - transformed y\n",
    "model = sm.OLS(y_train_reg_cbrt, x).fit()\n",
    "model.summary()"
   ]
  },
  {
   "cell_type": "markdown",
   "metadata": {},
   "source": [
    "The OLS model is trained on the training dataset and returned a R-squared value of 0.045. This is the proportion of the variance in the dependent variable that is explained by the model. The low value of this indicate that the linear regression model could not explain significant proportion of the variance in the dataset and suggest that a linear regression model may not be appropriate for this dataset. \n",
    "\n",
    "The adjusted R-squared modifies the R-squared for the number of independent variables in the model. It returns a value of 0.043 for the model. \n",
    "\n",
    "The F-statistic returns the ratio of mean squared error of the model to the mean squared error of residuals. It determines the overall significance of the model. From the printed result, we see that the model is significant at a significant level of 0.05 [the Prob (F-statistic) is 2.09 * 10^-114]\n",
    "\n",
    "We checked the significance of each of the independent variable that goes into the model and saw that Weather Condition, Person Ethnicity_Black, Person Ethnicity_Hispanic, Person Ethnicity_White are all not significant at an aplha value of 0.05. We thus dropped these variables and repeated the regression. \n"
   ]
  },
  {
   "cell_type": "markdown",
   "metadata": {},
   "source": [
    "Looking at the feature variables, the Weather Condition and Person Ethnicity_Asian variables are not significant at the alpha level of 0.05. We thus drop these columns and repeat the regression."
   ]
  },
  {
   "cell_type": "code",
   "execution_count": null,
   "metadata": {},
   "outputs": [],
   "source": [
    "# drop Weather Condition, Person Ethnicity_Asian\n",
    "X_train_reg_2 = X_train_reg.drop(['Weather Condition', 'Person Ethnicity_Black', \n",
    "                                  'Person Ethnicity_Hispanic', 'Person Ethnicity_White'], axis = 1)\n",
    "\n",
    "# add constant\n",
    "x = sm.add_constant(X_train_reg_2)\n",
    "\n",
    "# train and fit model - transformed y\n",
    "model = sm.OLS(y_train_reg_cbrt, x).fit()\n",
    "model.summary()"
   ]
  },
  {
   "cell_type": "markdown",
   "metadata": {},
   "source": [
    "All the independent variables are now significant at an alpha value of 0.05. The R-squared value of the model is 0.044 and the adjusted R-squared is 0.043. The model is also significant with with a Prob (F-statistic) value of 4.10e-117 which is significantly lower than 0.05."
   ]
  },
  {
   "cell_type": "markdown",
   "metadata": {},
   "source": [
    "#### Machine Learning - LinearRegression model"
   ]
  },
  {
   "cell_type": "code",
   "execution_count": null,
   "metadata": {},
   "outputs": [],
   "source": [
    "# import library\n",
    "from sklearn.linear_model import LinearRegression\n",
    "\n",
    "# Instantiate the model\n",
    "lreg = LinearRegression()\n",
    "\n",
    "# Train the model using the fit function\n",
    "lreg.fit(X_train_reg, y_train_reg)\n"
   ]
  },
  {
   "cell_type": "code",
   "execution_count": null,
   "metadata": {},
   "outputs": [],
   "source": [
    "# evaluate model: R^2\n",
    "print('score:', lreg.score(X_train_reg, y_train_reg))"
   ]
  },
  {
   "cell_type": "code",
   "execution_count": null,
   "metadata": {},
   "outputs": [],
   "source": [
    "# lreg model coefficients: \n",
    "lreg.coef_"
   ]
  },
  {
   "cell_type": "code",
   "execution_count": null,
   "metadata": {},
   "outputs": [],
   "source": [
    "# lreg intercept\n",
    "lreg.intercept_"
   ]
  },
  {
   "cell_type": "markdown",
   "metadata": {},
   "source": [
    "#### SGDRegression model"
   ]
  },
  {
   "cell_type": "code",
   "execution_count": null,
   "metadata": {},
   "outputs": [],
   "source": [
    "# import SGDRegressor\n",
    "from sklearn.linear_model import SGDRegressor\n",
    "\n",
    "# 1- Instantiate the model, random_state = 0\n",
    "sgdreg = SGDRegressor(random_state = 0)\n",
    "\n",
    "# 2 - Train the model using the fit function\n",
    "sgdreg.fit(X_train_reg, y_train_reg)\n"
   ]
  },
  {
   "cell_type": "code",
   "execution_count": null,
   "metadata": {},
   "outputs": [],
   "source": [
    "sgdreg.n_iter_"
   ]
  },
  {
   "cell_type": "markdown",
   "metadata": {},
   "source": [
    "The model converged after 18 iterations."
   ]
  },
  {
   "cell_type": "code",
   "execution_count": null,
   "metadata": {},
   "outputs": [],
   "source": [
    "# evaluate model: R^2\n",
    "print('score:', sgdreg.score(X_train_reg, y_train_reg))"
   ]
  },
  {
   "cell_type": "code",
   "execution_count": null,
   "metadata": {},
   "outputs": [],
   "source": [
    "# sgdreg model coefficients: \n",
    "sgdreg.coef_"
   ]
  },
  {
   "cell_type": "code",
   "execution_count": null,
   "metadata": {},
   "outputs": [],
   "source": [
    "# sgdreg intercept\n",
    "sgdreg.intercept_"
   ]
  },
  {
   "cell_type": "markdown",
   "metadata": {},
   "source": [
    "#### Decision Tree Regressor model"
   ]
  },
  {
   "cell_type": "code",
   "execution_count": null,
   "metadata": {},
   "outputs": [],
   "source": [
    "# import library\n",
    "from sklearn.tree import DecisionTreeRegressor\n",
    "from sklearn.model_selection import train_test_split"
   ]
  },
  {
   "cell_type": "code",
   "execution_count": null,
   "metadata": {},
   "outputs": [],
   "source": [
    "# split X_train_clean into X_train_dtreg and X_valid_dtreg\n",
    "X_train_dtreg, X_valid_dtreg, y_train_dtreg, y_valid_dtreg = train_test_split(X_train_clean, y_train, test_size = 0.25, random_state= 12)\n",
    "\n",
    "# scale X_train_dtreg and X_valid_dtreg\n",
    "# instantiate scaler \n",
    "scaler = StandardScaler()\n",
    "# fit scaler to X_train_dtreg\n",
    "scaler.fit(X_train_dtreg)\n",
    "# transform X_train_dtreg\n",
    "X_train_dtreg = pd.DataFrame(scaler.transform(X_train_dtreg), columns= X_train_dtreg.columns)\n",
    "# transform X_valid_dtreg\n",
    "X_valid_dtreg = pd.DataFrame(scaler.transform(X_valid_dtreg), columns= X_valid_dtreg.columns)"
   ]
  },
  {
   "cell_type": "code",
   "execution_count": null,
   "metadata": {},
   "outputs": [],
   "source": [
    "# fit model to X_train_dtreg, y_train_dtreg\n",
    "# instantiate model; no early stopping\n",
    "dtreg = DecisionTreeRegressor(random_state= 0)\n",
    "# fir model with training data\n",
    "dtreg.fit(X_train_dtreg, y_train_dtreg)"
   ]
  },
  {
   "cell_type": "code",
   "execution_count": null,
   "metadata": {},
   "outputs": [],
   "source": [
    "# print train and valid r^2 score\n",
    "print('Train r2-score:', dtreg.score(X_train_dtreg, y_train_dtreg))\n",
    "print('Valid r2-score:', dtreg.score(X_valid_dtreg, y_valid_dtreg))"
   ]
  },
  {
   "cell_type": "markdown",
   "metadata": {},
   "source": [
    "From the training and valid r-2 score above, the decision tree regressor model without early stopping is in a state of overfitting and could not generalize to validation data."
   ]
  },
  {
   "cell_type": "markdown",
   "metadata": {},
   "source": [
    "Hyperparameter search"
   ]
  },
  {
   "cell_type": "code",
   "execution_count": null,
   "metadata": {},
   "outputs": [],
   "source": [
    "# find best model hyperparameter: max_depth\n",
    "train_dtreg = []\n",
    "test_dtreg = []\n",
    "index_dtreg = []\n",
    "for max_depth in range(1, 20):\n",
    "    dtreg_search = DecisionTreeRegressor(random_state= 0, max_depth= max_depth)\n",
    "    dtreg_search.fit(X_train_dtreg, y_train_dtreg)\n",
    "    train_dtreg.append(dtreg_search.score(X_train_dtreg, y_train_dtreg))\n",
    "    test_dtreg.append(dtreg_search.score(X_valid_dtreg, y_valid_dtreg))\n",
    "    index_dtreg.append(max_depth)"
   ]
  },
  {
   "cell_type": "code",
   "execution_count": null,
   "metadata": {},
   "outputs": [],
   "source": [
    "%matplotlib inline\n",
    "\n",
    "plt.subplots(figsize = (20,5))\n",
    "plt.plot(range(len(index_dtreg)), train_dtreg, label = 'Train score')\n",
    "plt.plot(range(len(index_dtreg)), test_dtreg, label = 'Valid score')\n",
    "plt.xticks(range(len(index_dtreg)), index_dtreg, rotation = 90)\n",
    "plt.legend()\n",
    "plt.grid()"
   ]
  },
  {
   "cell_type": "code",
   "execution_count": null,
   "metadata": {},
   "outputs": [],
   "source": [
    "# check hyperparameter with lowest gap between train and valid data\n",
    "data = {'max_depth': index_dtreg,\n",
    "        'train_score':train_dtreg,\n",
    "        'valid_score': test_dtreg}\n",
    "\n",
    "# return dataframe\n",
    "dtreg_df = pd.DataFrame(data)\n",
    "dtreg_df\n",
    "\n",
    "# return difference berween train and test score\n",
    "dtreg_df['train_valid_diff'] = dtreg_df['train_score'] - dtreg_df['valid_score']\n",
    "dtreg_df\n",
    "\n",
    "# return row with minimum difference between test and train score\n",
    "min_abs_diff = min(abs(dtreg_df['train_valid_diff']))\n",
    "dtreg_df[abs(dtreg_df['train_valid_diff']) == min_abs_diff]"
   ]
  },
  {
   "cell_type": "markdown",
   "metadata": {},
   "source": [
    "The best max_depth is 4, with a train r-2 score of 0.075 and validation r-2 score of 0.072"
   ]
  },
  {
   "cell_type": "markdown",
   "metadata": {},
   "source": [
    "#### Random Forest Regressor model"
   ]
  },
  {
   "cell_type": "code",
   "execution_count": null,
   "metadata": {},
   "outputs": [],
   "source": [
    "from sklearn.ensemble import RandomForestRegressor"
   ]
  },
  {
   "cell_type": "code",
   "execution_count": null,
   "metadata": {},
   "outputs": [],
   "source": [
    "# define feature and test set \n",
    "X_train_rfreg, X_valid_rfreg, y_train_rfreg, y_valid_rfreg = X_train_dtreg, X_valid_dtreg, y_train_dtreg, y_valid_dtreg"
   ]
  },
  {
   "cell_type": "code",
   "execution_count": null,
   "metadata": {},
   "outputs": [],
   "source": [
    "# fit model to X_train_rfreg, y_train_rftreg\n",
    "# instantiate model; no early stopping\n",
    "rfreg = RandomForestRegressor(random_state= 0)\n",
    "# fit model with training data\n",
    "rfreg.fit(X_train_rfreg, y_train_rfreg)"
   ]
  },
  {
   "cell_type": "code",
   "execution_count": null,
   "metadata": {},
   "outputs": [],
   "source": [
    "# print train and valid r^2 score: no early stopping\n",
    "print('Train r2-score:', rfreg.score(X_train_rfreg, y_train_rfreg))\n",
    "print('Valid r2-score:', rfreg.score(X_valid_rfreg, y_valid_rfreg))"
   ]
  },
  {
   "cell_type": "markdown",
   "metadata": {},
   "source": [
    "From the training and valid r-2 score above, the random forest regressor model without early stopping is in a state of overfitting and could not generalize to validation data."
   ]
  },
  {
   "cell_type": "markdown",
   "metadata": {},
   "source": [
    "Hyperparameter search "
   ]
  },
  {
   "cell_type": "code",
   "execution_count": null,
   "metadata": {},
   "outputs": [],
   "source": [
    "# find best model hyperparameter: n_estimators, max_features, max_samples, max_depth\n",
    "train_rfreg = []\n",
    "test_rfreg = []\n",
    "index_rfreg = []\n",
    "for n_estimators in [100, 200, 500]:\n",
    "    for max_features in [0.1, 0.5, 1.0]:\n",
    "        for max_samples in [0.1, 0.5, 1.0]:\n",
    "            for max_depth in [1, 2, 5, 8]:\n",
    "                rfreg_search = RandomForestRegressor(random_state= 0, \n",
    "                                             n_estimators = n_estimators,\n",
    "                                             max_samples= max_samples, \n",
    "                                             max_features= max_features, \n",
    "                                             max_depth= max_depth)\n",
    "                rfreg_search.fit(X_train_rfreg, y_train_rfreg)\n",
    "                train_rfreg.append(rfreg_search.score(X_train_rfreg, y_train_rfreg))\n",
    "                test_rfreg.append(rfreg_search.score(X_valid_rfreg, y_valid_rfreg))\n",
    "                index_rfreg.append((n_estimators, max_features, \n",
    "                              max_samples, max_depth))"
   ]
  },
  {
   "cell_type": "code",
   "execution_count": null,
   "metadata": {},
   "outputs": [],
   "source": [
    "%matplotlib inline\n",
    "\n",
    "plt.subplots(figsize = (20,5))\n",
    "plt.plot(range(len(index_rfreg)), train_rfreg, label = 'Train score')\n",
    "plt.plot(range(len(index_rfreg)), test_rfreg, label = 'Valid score')\n",
    "plt.xticks(range(len(index_rfreg)), index_rfreg, rotation = 90)\n",
    "plt.legend()\n",
    "plt.grid()"
   ]
  },
  {
   "cell_type": "code",
   "execution_count": null,
   "metadata": {},
   "outputs": [],
   "source": [
    "# check hyperparameter with lowest gap between train and valid data\n",
    "data = {'hyperparameter': index_rfreg,\n",
    "        'train_score':train_rfreg,\n",
    "        'valid_score': test_rfreg}\n",
    "\n",
    "# return dataframe\n",
    "rfreg_df = pd.DataFrame(data)\n",
    "rfreg_df\n",
    "\n",
    "# return difference berween train and test score\n",
    "rfreg_df['train_valid_diff'] = rfreg_df['train_score'] - rfreg_df['valid_score']\n",
    "rfreg_df\n",
    "\n",
    "# return row with minimum difference between test and train score\n",
    "min_abs_diff = min(abs(rfreg_df['train_valid_diff']))\n",
    "rfreg_df[abs(rfreg_df['train_valid_diff']) == min_abs_diff]"
   ]
  },
  {
   "cell_type": "markdown",
   "metadata": {},
   "source": [
    "best model hyperparameter: n_estimators = 100, max_features = 0.5, max_samples = 0.5, max_depth = 5"
   ]
  },
  {
   "cell_type": "markdown",
   "id": "d12a2d04",
   "metadata": {},
   "source": [
    "### Regression prediction"
   ]
  },
  {
   "cell_type": "code",
   "execution_count": null,
   "id": "491d2093",
   "metadata": {},
   "outputs": [],
   "source": [
    "# instantiate model; no early stopping\n",
    "rfreg_best = RandomForestRegressor(random_state= 0, n_estimators = 100,\n",
    "                              max_features = 0.5, max_samples = 0.5, max_depth = 5)\n",
    "\n",
    "# fit model with training data\n",
    "rfreg_best.fit(X_train_rfreg, y_train_rfreg)"
   ]
  },
  {
   "cell_type": "code",
   "execution_count": null,
   "id": "3699ccc9",
   "metadata": {},
   "outputs": [],
   "source": [
    "# predict reg_test\n",
    "y_test = rfreg_best.predict(reg_test_scaled)"
   ]
  },
  {
   "cell_type": "code",
   "execution_count": null,
   "metadata": {},
   "outputs": [],
   "source": [
    "len(y_test)"
   ]
  },
  {
   "cell_type": "markdown",
   "id": "98f107df",
   "metadata": {},
   "source": [
    "# Classification\n",
    "\n",
    "### Data preparation"
   ]
  },
  {
   "cell_type": "code",
   "execution_count": null,
   "id": "bf6c95c5",
   "metadata": {},
   "outputs": [],
   "source": []
  },
  {
   "cell_type": "markdown",
   "id": "7e1612bb",
   "metadata": {},
   "source": [
    "### Classification model training"
   ]
  },
  {
   "cell_type": "code",
   "execution_count": null,
   "id": "90801c3c",
   "metadata": {},
   "outputs": [],
   "source": []
  },
  {
   "cell_type": "markdown",
   "id": "02a20890",
   "metadata": {},
   "source": [
    "### Classification prediction"
   ]
  },
  {
   "cell_type": "code",
   "execution_count": null,
   "id": "1fdbf064",
   "metadata": {},
   "outputs": [],
   "source": []
  }
 ],
 "metadata": {
  "kernelspec": {
   "display_name": "Python 3 (ipykernel)",
   "language": "python",
   "name": "python3"
  },
  "language_info": {
   "codemirror_mode": {
    "name": "ipython",
    "version": 3
   },
   "file_extension": ".py",
   "mimetype": "text/x-python",
   "name": "python",
   "nbconvert_exporter": "python",
   "pygments_lexer": "ipython3",
   "version": "3.11.4"
  }
 },
 "nbformat": 4,
 "nbformat_minor": 5
}
